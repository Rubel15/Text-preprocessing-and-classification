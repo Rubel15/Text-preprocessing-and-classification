{
 "cells": [
  {
   "cell_type": "markdown",
   "metadata": {},
   "source": [
    "<strong><b><font size=\"5\">Text Preprocessing and Classification in Python</font></b></strong>"
   ]
  },
  {
   "cell_type": "markdown",
   "metadata": {
    "toc": true
   },
   "source": [
    "<h1>Table of Contents<span class=\"tocSkip\"></span></h1>\n",
    "<div class=\"toc\"><ul class=\"toc-item\"><li><span><a href=\"#Importing-Libraries\" data-toc-modified-id=\"Importing-Libraries-1\"><span class=\"toc-item-num\">1&nbsp;&nbsp;</span>Importing Libraries</a></span></li><li><span><a href=\"#Natural-Language-Processing-with-nltk\" data-toc-modified-id=\"Natural-Language-Processing-with-nltk-2\"><span class=\"toc-item-num\">2&nbsp;&nbsp;</span>Natural Language Processing with nltk</a></span></li><li><span><a href=\"#Download-and-Inspect-the-Movie-Reviews-Dataset\" data-toc-modified-id=\"Download-and-Inspect-the-Movie-Reviews-Dataset-3\"><span class=\"toc-item-num\">3&nbsp;&nbsp;</span>Download and Inspect the Movie Reviews Dataset</a></span></li><li><span><a href=\"#Text-Preprocessing\" data-toc-modified-id=\"Text-Preprocessing-4\"><span class=\"toc-item-num\">4&nbsp;&nbsp;</span>Text Preprocessing</a></span><ul class=\"toc-item\"><li><span><a href=\"#Lower-casing\" data-toc-modified-id=\"Lower-casing-4.1\"><span class=\"toc-item-num\">4.1&nbsp;&nbsp;</span>Lower casing</a></span></li><li><span><a href=\"#Punctuation-removal\" data-toc-modified-id=\"Punctuation-removal-4.2\"><span class=\"toc-item-num\">4.2&nbsp;&nbsp;</span>Punctuation removal</a></span></li><li><span><a href=\"#Identifying-and-Remove-Stop-Words\" data-toc-modified-id=\"Identifying-and-Remove-Stop-Words-4.3\"><span class=\"toc-item-num\">4.3&nbsp;&nbsp;</span>Identifying and Remove Stop Words</a></span></li><li><span><a href=\"#Spelling-correction\" data-toc-modified-id=\"Spelling-correction-4.4\"><span class=\"toc-item-num\">4.4&nbsp;&nbsp;</span>Spelling correction</a></span></li><li><span><a href=\"#Tokenize-Text-in-Words\" data-toc-modified-id=\"Tokenize-Text-in-Words-4.5\"><span class=\"toc-item-num\">4.5&nbsp;&nbsp;</span>Tokenize Text in Words</a></span></li><li><span><a href=\"#NLTK-Word-Stemming\" data-toc-modified-id=\"NLTK-Word-Stemming-4.6\"><span class=\"toc-item-num\">4.6&nbsp;&nbsp;</span>NLTK Word Stemming</a></span></li><li><span><a href=\"#Lemmatizing-Words-Using-WordNet\" data-toc-modified-id=\"Lemmatizing-Words-Using-WordNet-4.7\"><span class=\"toc-item-num\">4.7&nbsp;&nbsp;</span>Lemmatizing Words Using WordNet</a></span></li><li><span><a href=\"#Stemming-and-Lemmatization-Difference\" data-toc-modified-id=\"Stemming-and-Lemmatization-Difference-4.8\"><span class=\"toc-item-num\">4.8&nbsp;&nbsp;</span>Stemming and Lemmatization Difference</a></span></li><li><span><a href=\"#Plotting-Frequencies-of-Words\" data-toc-modified-id=\"Plotting-Frequencies-of-Words-4.9\"><span class=\"toc-item-num\">4.9&nbsp;&nbsp;</span>Plotting Frequencies of Words</a></span></li><li><span><a href=\"#Removing-frequent-unimportant-words\" data-toc-modified-id=\"Removing-frequent-unimportant-words-4.10\"><span class=\"toc-item-num\">4.10&nbsp;&nbsp;</span>Removing frequent unimportant words</a></span></li></ul></li><li><span><a href=\"#Advanced-processing-and-Modelling:\" data-toc-modified-id=\"Advanced-processing-and-Modelling:-5\"><span class=\"toc-item-num\">5&nbsp;&nbsp;</span>Advanced processing and Modelling:</a></span><ul class=\"toc-item\"><li><span><a href=\"#Build-a-bag-of-words-Naive-Bayes-model\" data-toc-modified-id=\"Build-a-bag-of-words-Naive-Bayes-model-5.1\"><span class=\"toc-item-num\">5.1&nbsp;&nbsp;</span>Build a bag-of-words Naive Bayes model</a></span></li><li><span><a href=\"#n-grams\" data-toc-modified-id=\"n-grams-5.2\"><span class=\"toc-item-num\">5.2&nbsp;&nbsp;</span>n-grams</a></span></li><li><span><a href=\"#Term-Frequency-and-Inverse-Document-Frequency\" data-toc-modified-id=\"Term-Frequency-and-Inverse-Document-Frequency-5.3\"><span class=\"toc-item-num\">5.3&nbsp;&nbsp;</span>Term Frequency and Inverse Document Frequency</a></span></li><li><span><a href=\"#Term-Frequency-Inverse-Document-Frequency-(TF-IDF)---Random-Forest\" data-toc-modified-id=\"Term-Frequency-Inverse-Document-Frequency-(TF-IDF)---Random-Forest-5.4\"><span class=\"toc-item-num\">5.4&nbsp;&nbsp;</span>Term Frequency-Inverse Document Frequency (TF-IDF) - Random Forest</a></span></li><li><span><a href=\"#NLTK-VADER-Sentiment-Intensity-Analyzer:\" data-toc-modified-id=\"NLTK-VADER-Sentiment-Intensity-Analyzer:-5.5\"><span class=\"toc-item-num\">5.5&nbsp;&nbsp;</span>NLTK VADER Sentiment Intensity Analyzer:</a></span></li><li><span><a href=\"#Topic-Modelling-using-Latent-Dirichlet-Allocation\" data-toc-modified-id=\"Topic-Modelling-using-Latent-Dirichlet-Allocation-5.6\"><span class=\"toc-item-num\">5.6&nbsp;&nbsp;</span>Topic Modelling using Latent Dirichlet Allocation</a></span></li><li><span><a href=\"#Word-Embedding---word-vectors\" data-toc-modified-id=\"Word-Embedding---word-vectors-5.7\"><span class=\"toc-item-num\">5.7&nbsp;&nbsp;</span>Word Embedding - word vectors</a></span></li></ul></li><li><span><a href=\"#Adding-other-text-features:\" data-toc-modified-id=\"Adding-other-text-features:-6\"><span class=\"toc-item-num\">6&nbsp;&nbsp;</span>Adding other text features:</a></span></li><li><span><a href=\"#Improving-Text-Classification-Models\" data-toc-modified-id=\"Improving-Text-Classification-Models-7\"><span class=\"toc-item-num\">7&nbsp;&nbsp;</span>Improving Text Classification Models</a></span></li><li><span><a href=\"#Solve-a-problem!\" data-toc-modified-id=\"Solve-a-problem!-8\"><span class=\"toc-item-num\">8&nbsp;&nbsp;</span>Solve a problem!</a></span></li></ul></div>"
   ]
  },
  {
   "cell_type": "markdown",
   "metadata": {},
   "source": [
    "## Importing Libraries"
   ]
  },
  {
   "cell_type": "code",
   "execution_count": 1,
   "metadata": {
    "scrolled": true
   },
   "outputs": [
    {
     "name": "stderr",
     "output_type": "stream",
     "text": [
      "C:\\Users\\save advait\\Documents\\Anaconda\\lib\\site-packages\\nltk\\twitter\\__init__.py:20: UserWarning: The twython library has not been installed. Some functionality from the twitter package will not be available.\n",
      "  warnings.warn(\"The twython library has not been installed. \"\n",
      "C:\\Users\\save advait\\Documents\\Anaconda\\lib\\site-packages\\gensim\\utils.py:1197: UserWarning: detected Windows; aliasing chunkize to chunkize_serial\n",
      "  warnings.warn(\"detected Windows; aliasing chunkize to chunkize_serial\")\n"
     ]
    }
   ],
   "source": [
    "import nltk\n",
    "import pandas as pd\n",
    "import string\n",
    "from nltk.corpus import stopwords\n",
    "from nltk.tokenize import word_tokenize, sent_tokenize\n",
    "from nltk.stem import PorterStemmer, WordNetLemmatizer\n",
    "from collections import Counter\n",
    "%matplotlib inline\n",
    "import matplotlib.pyplot as plt\n",
    "from sklearn.feature_extraction.text import CountVectorizer, TfidfVectorizer\n",
    "import numpy as np\n",
    "from sklearn.metrics import (accuracy_score, roc_auc_score, confusion_matrix, roc_curve, auc, \n",
    "                             mean_squared_error, log_loss, precision_recall_curve, classification_report, \n",
    "                             precision_recall_fscore_support)\n",
    "from sklearn import preprocessing\n",
    "from sklearn.model_selection import train_test_split, GridSearchCV, validation_curve\n",
    "from sklearn.ensemble import RandomForestClassifier\n",
    "from sklearn.naive_bayes import MultinomialNB\n",
    "import scikitplot as skplt\n",
    "import seaborn as sns\n",
    "from nltk import tokenize\n",
    "from nltk.corpus import subjectivity\n",
    "from nltk.sentiment import SentimentAnalyzer, SentimentIntensityAnalyzer\n",
    "from nltk.sentiment.util import *\n",
    "from pprint import pprint\n",
    "\n",
    "# Gensim\n",
    "import gensim\n",
    "import gensim.corpora as corpora\n",
    "from gensim.utils import simple_preprocess\n",
    "from gensim.models import CoherenceModel\n",
    "from gensim.models import word2vec\n",
    "\n",
    "import warnings\n",
    "warnings.filterwarnings(\"ignore\")"
   ]
  },
  {
   "cell_type": "markdown",
   "metadata": {},
   "source": [
    "## Natural Language Processing with nltk\n",
    "\n",
    "- nltk is the most popular Python package for Natural Language processing, it provides algorithms for __importing, cleaning, pre-processing text data__ in human language and then __apply computational linguistics algorithms like sentiment analysis__."
   ]
  },
  {
   "cell_type": "markdown",
   "metadata": {},
   "source": [
    "## Download and Inspect the Movie Reviews Dataset\n",
    "- It includes many datasets in the nltk.corpus package\n",
    "- We can download the __movie_reviews__ package using the nltk.download function:"
   ]
  },
  {
   "cell_type": "code",
   "execution_count": 2,
   "metadata": {},
   "outputs": [
    {
     "name": "stdout",
     "output_type": "stream",
     "text": [
      "[nltk_data] Downloading package movie_reviews to C:\\Users\\save\n",
      "[nltk_data]     advait\\AppData\\Roaming\\nltk_data...\n",
      "[nltk_data]   Package movie_reviews is already up-to-date!\n"
     ]
    },
    {
     "data": {
      "text/plain": [
       "True"
      ]
     },
     "execution_count": 2,
     "metadata": {},
     "output_type": "execute_result"
    }
   ],
   "source": [
    "nltk.download(\"movie_reviews\")"
   ]
  },
  {
   "cell_type": "code",
   "execution_count": 3,
   "metadata": {},
   "outputs": [],
   "source": [
    "from nltk.corpus import movie_reviews"
   ]
  },
  {
   "cell_type": "code",
   "execution_count": 4,
   "metadata": {},
   "outputs": [
    {
     "data": {
      "text/plain": [
       "2000"
      ]
     },
     "execution_count": 4,
     "metadata": {},
     "output_type": "execute_result"
    }
   ],
   "source": [
    "len(movie_reviews.fileids())"
   ]
  },
  {
   "cell_type": "code",
   "execution_count": 5,
   "metadata": {},
   "outputs": [
    {
     "data": {
      "text/plain": [
       "['neg/cv000_29416.txt',\n",
       " 'neg/cv001_19502.txt',\n",
       " 'neg/cv002_17424.txt',\n",
       " 'neg/cv003_12683.txt',\n",
       " 'neg/cv004_12641.txt']"
      ]
     },
     "execution_count": 5,
     "metadata": {},
     "output_type": "execute_result"
    }
   ],
   "source": [
    "movie_reviews.fileids()[:5]"
   ]
  },
  {
   "cell_type": "code",
   "execution_count": 6,
   "metadata": {},
   "outputs": [
    {
     "data": {
      "text/plain": [
       "['pos/cv995_21821.txt',\n",
       " 'pos/cv996_11592.txt',\n",
       " 'pos/cv997_5046.txt',\n",
       " 'pos/cv998_14111.txt',\n",
       " 'pos/cv999_13106.txt']"
      ]
     },
     "execution_count": 6,
     "metadata": {},
     "output_type": "execute_result"
    }
   ],
   "source": [
    "movie_reviews.fileids()[-5:]"
   ]
  },
  {
   "cell_type": "markdown",
   "metadata": {},
   "source": [
    "- __fileids__ can also filter the available files based on their category, which is the name of the subfolders they are located in. Therefore we can have lists of positive and negative reviews separately."
   ]
  },
  {
   "cell_type": "code",
   "execution_count": 7,
   "metadata": {},
   "outputs": [],
   "source": [
    "negative_fileids = movie_reviews.fileids('neg')\n",
    "positive_fileids = movie_reviews.fileids('pos')"
   ]
  },
  {
   "cell_type": "code",
   "execution_count": 8,
   "metadata": {},
   "outputs": [
    {
     "data": {
      "text/plain": [
       "(1000, 1000)"
      ]
     },
     "execution_count": 8,
     "metadata": {},
     "output_type": "execute_result"
    }
   ],
   "source": [
    "len(negative_fileids), len(positive_fileids)"
   ]
  },
  {
   "cell_type": "markdown",
   "metadata": {},
   "source": [
    "- We can inspect one of the reviews using the raw method of movie_reviews, each file is split into sentences, the curators of this dataset also removed from each review from any direct mention of the rating of the movie."
   ]
  },
  {
   "cell_type": "code",
   "execution_count": 9,
   "metadata": {
    "scrolled": true
   },
   "outputs": [
    {
     "name": "stdout",
     "output_type": "stream",
     "text": [
      "by phil curtolo mel gibson ( braveheart ) gave a gripping performance as the father of a young kidnapped boy in ron howard's ransom . \n",
      "gibson plays tom mullen , a wealthy business tycoon whose past actions are coming back to haunt him as a deranged psychopath , played by gary sinise ( forrest gump ) , and his band of low-life thugs kidnap his only son for $2 million . \n",
      "tom and his wife , kate , played by rene russo ( tin cup ) were instructed not to inform the police , but they contacted the fbi . \n",
      "minutes later , an elite team of agents led by delroy lindo ( broken arrow ) are in tom's house and wiring every phone . \n",
      "the plot sounds average , just like most other kidnap movies that you've already seen , and it was nothing more than that . \n",
      "that is until about half-way through the movie . \n",
      "suddenly , tom goes to the fox 5 news room and makes a live broadcast saying , \" this is your ransom . \n",
      "but this is as close as you will ever get to it . \n",
      "instead , i am offering this money as a reward on your head , dead or alive . \" \n",
      "at this point , the plot thickened , and the unusually slow start of the film turned into a suspense-filled action film with great stunts . \n",
      "the last half of the film is very well done . \n",
      "another thing that carries this film are the superb performances by gibson and sinise , as they collide in a game of wits over their cellular phones for most of the movie . \n",
      "owen gleiberman of entertainment weekly commented on the subject : \" it makes you wonder what kidnappers did before cell phones . \" \n",
      "before this movie , sinise played mostly \" good guys , \" first in of mice & men , then in forrest gump , and most recently , in apollo 13 . \n",
      "but he was surprisingly devilish and cold in his portrayal of a cop-gone-bad . \n",
      "gibson , of course , was just being gibson , in an oscar-worthy performance . \n",
      "although most of the scenes were quite predictable , ransom is a very entertaining and suspenseful film . \n",
      " , \n",
      "\n"
     ]
    }
   ],
   "source": [
    "print(movie_reviews.raw(fileids=positive_fileids[20]))"
   ]
  },
  {
   "cell_type": "markdown",
   "metadata": {},
   "source": [
    "## Text Preprocessing\n",
    "- Pre-processing of the text data in order to extract better features from clean data\n",
    "- Text cleaning is task specific\n",
    " - Case, punctuations, markup, languages, hyphens, section markers, spellings etc. all need to be handled based on context"
   ]
  },
  {
   "cell_type": "code",
   "execution_count": 10,
   "metadata": {},
   "outputs": [
    {
     "data": {
      "text/plain": [
       "'neg/cv002_17424.txt'"
      ]
     },
     "execution_count": 10,
     "metadata": {},
     "output_type": "execute_result"
    }
   ],
   "source": [
    "negative_fileids[2]"
   ]
  },
  {
   "cell_type": "code",
   "execution_count": 11,
   "metadata": {},
   "outputs": [],
   "source": [
    "negative_features = pd.DataFrame(\n",
    "    {'review':movie_reviews.raw(fileids=[f]),'label': 'neg'} for f in negative_fileids\n",
    ")"
   ]
  },
  {
   "cell_type": "code",
   "execution_count": 12,
   "metadata": {},
   "outputs": [],
   "source": [
    "positive_features = pd.DataFrame(\n",
    "    {'review':movie_reviews.raw(fileids=[f]),'label': 'pos'} for f in positive_fileids\n",
    ")"
   ]
  },
  {
   "cell_type": "code",
   "execution_count": null,
   "metadata": {},
   "outputs": [],
   "source": [
    "positive_features.head()"
   ]
  },
  {
   "cell_type": "markdown",
   "metadata": {},
   "source": [
    "### Lower casing"
   ]
  },
  {
   "cell_type": "code",
   "execution_count": 13,
   "metadata": {},
   "outputs": [],
   "source": [
    "positive_features.review = positive_features.review.apply(lambda x:x.lower())"
   ]
  },
  {
   "cell_type": "code",
   "execution_count": 14,
   "metadata": {},
   "outputs": [],
   "source": [
    "negative_features.review = negative_features.review.apply(lambda x:x.lower())"
   ]
  },
  {
   "cell_type": "markdown",
   "metadata": {},
   "source": [
    "### Punctuation removal"
   ]
  },
  {
   "cell_type": "code",
   "execution_count": 15,
   "metadata": {},
   "outputs": [
    {
     "data": {
      "text/plain": [
       "\"you've got mail works alot better than it deserves to . \\nin order to make the film a success , all they had to do was cast two extremely popular and attractive stars , have them share the screen for about two hours and then collect the profits . \\nno real acting was involved and there is not an original or inventive bone in it's body ( it's basically a complete re-shoot of the shop around the corner , only adding a few modern twists ) . \\nessentially , it goes against and defies all concepts of good contemporary filmmaking . \\nit's overly sentimental and at times terribly mushy , not to mention very manipulative . \\nbut oh , how enjoyable that manipulation is . \\nbut there must be something other than the casting and manipulation that makes the movie work as well as it does , because i absolutely hated the previous ryan/hanks teaming , sleepless in seattle . \\nit couldn't have been the directing , because both films were helmed by the same woman . \\ni haven't quite yet figured out what i liked so much about you've got mail , but then again , is that really important ? \\nif you like something so much , why even question it ? \\nagain , the storyline is as cliched as they come . \\ntom hanks plays joe fox , the insanely likeable owner of a discount book chain and meg ryan plays kathleen kelley , the even more insanely likeable proprietor of a family-run children's book shop called , in a nice homage , the shop around the corner . \\nfox and kelley soon become bitter rivals because the new fox books store is opening up right across the block from the small business . \\nlittle do they know , they are already in love with each other over the internet , only neither party knows the other person's true identity . \\nthe rest of the story isn't important because all it does is serve as a mere backdrop for the two stars to share the screen . \\nsure , there are some mildly interesting subplots , but they all fail in comparison to the utter cuteness of the main relationship . \\nall of this , of course , leads up to the predictable climax . \\nbut as foreseeable as the ending is , it's so damn cute and well-done that i doubt any movie in the entire year contains a scene the evokes as much pure joy as this part does . \\nwhen ryan discovers the true identity of her online love , i was filled with such , for lack of a better word , happiness that for the first time all year , i actually left the theater smiling . \\n\""
      ]
     },
     "execution_count": 15,
     "metadata": {},
     "output_type": "execute_result"
    }
   ],
   "source": [
    "positive_features.review[2]"
   ]
  },
  {
   "cell_type": "code",
   "execution_count": 16,
   "metadata": {},
   "outputs": [],
   "source": [
    "punctuations = list(string.punctuation)\n",
    "positive_features.review = positive_features.review.apply(lambda x: \" \".join(x for x in x.split() if x not in punctuations))\n",
    "negative_features.review = negative_features.review.apply(lambda x: \" \".join(x for x in x.split() if x not in punctuations))"
   ]
  },
  {
   "cell_type": "code",
   "execution_count": 17,
   "metadata": {},
   "outputs": [
    {
     "data": {
      "text/plain": [
       "\"you've got mail works alot better than it deserves to in order to make the film a success all they had to do was cast two extremely popular and attractive stars have them share the screen for about two hours and then collect the profits no real acting was involved and there is not an original or inventive bone in it's body it's basically a complete re-shoot of the shop around the corner only adding a few modern twists essentially it goes against and defies all concepts of good contemporary filmmaking it's overly sentimental and at times terribly mushy not to mention very manipulative but oh how enjoyable that manipulation is but there must be something other than the casting and manipulation that makes the movie work as well as it does because i absolutely hated the previous ryan/hanks teaming sleepless in seattle it couldn't have been the directing because both films were helmed by the same woman i haven't quite yet figured out what i liked so much about you've got mail but then again is that really important if you like something so much why even question it again the storyline is as cliched as they come tom hanks plays joe fox the insanely likeable owner of a discount book chain and meg ryan plays kathleen kelley the even more insanely likeable proprietor of a family-run children's book shop called in a nice homage the shop around the corner fox and kelley soon become bitter rivals because the new fox books store is opening up right across the block from the small business little do they know they are already in love with each other over the internet only neither party knows the other person's true identity the rest of the story isn't important because all it does is serve as a mere backdrop for the two stars to share the screen sure there are some mildly interesting subplots but they all fail in comparison to the utter cuteness of the main relationship all of this of course leads up to the predictable climax but as foreseeable as the ending is it's so damn cute and well-done that i doubt any movie in the entire year contains a scene the evokes as much pure joy as this part does when ryan discovers the true identity of her online love i was filled with such for lack of a better word happiness that for the first time all year i actually left the theater smiling\""
      ]
     },
     "execution_count": 17,
     "metadata": {},
     "output_type": "execute_result"
    }
   ],
   "source": [
    "positive_features.review[2]"
   ]
  },
  {
   "cell_type": "markdown",
   "metadata": {},
   "source": [
    "### Identifying and Remove Stop Words"
   ]
  },
  {
   "cell_type": "code",
   "execution_count": 18,
   "metadata": {},
   "outputs": [
    {
     "name": "stdout",
     "output_type": "stream",
     "text": [
      "[nltk_data] Downloading package stopwords to C:\\Users\\save\n",
      "[nltk_data]     advait\\AppData\\Roaming\\nltk_data...\n",
      "[nltk_data]   Package stopwords is already up-to-date!\n"
     ]
    },
    {
     "data": {
      "text/plain": [
       "True"
      ]
     },
     "execution_count": 18,
     "metadata": {},
     "output_type": "execute_result"
    }
   ],
   "source": [
    "nltk.download('stopwords')"
   ]
  },
  {
   "cell_type": "code",
   "execution_count": 19,
   "metadata": {},
   "outputs": [],
   "source": [
    "stop = stopwords.words('english')\n",
    "positive_features.review = positive_features.review.apply(lambda x: \" \".join(x for x in x.split() if x not in stop))\n",
    "negative_features.review = negative_features.review.apply(lambda x: \" \".join(x for x in x.split() if x not in stop))"
   ]
  },
  {
   "cell_type": "code",
   "execution_count": 20,
   "metadata": {},
   "outputs": [
    {
     "data": {
      "text/plain": [
       "\"got mail works alot better deserves order make film success cast two extremely popular attractive stars share screen two hours collect profits real acting involved original inventive bone body basically complete re-shoot shop around corner adding modern twists essentially goes defies concepts good contemporary filmmaking overly sentimental times terribly mushy mention manipulative oh enjoyable manipulation must something casting manipulation makes movie work well absolutely hated previous ryan/hanks teaming sleepless seattle directing films helmed woman quite yet figured liked much got mail really important like something much even question storyline cliched come tom hanks plays joe fox insanely likeable owner discount book chain meg ryan plays kathleen kelley even insanely likeable proprietor family-run children's book shop called nice homage shop around corner fox kelley soon become bitter rivals new fox books store opening right across block small business little know already love internet neither party knows person's true identity rest story important serve mere backdrop two stars share screen sure mildly interesting subplots fail comparison utter cuteness main relationship course leads predictable climax foreseeable ending damn cute well-done doubt movie entire year contains scene evokes much pure joy part ryan discovers true identity online love filled lack better word happiness first time year actually left theater smiling\""
      ]
     },
     "execution_count": 20,
     "metadata": {},
     "output_type": "execute_result"
    }
   ],
   "source": [
    "positive_features.review[2]"
   ]
  },
  {
   "cell_type": "markdown",
   "metadata": {},
   "source": [
    "### Spelling correction"
   ]
  },
  {
   "cell_type": "code",
   "execution_count": null,
   "metadata": {},
   "outputs": [],
   "source": []
  },
  {
   "cell_type": "markdown",
   "metadata": {},
   "source": [
    "### Tokenize Text in Words\n",
    "- Tokenizing text is important since text can’t be processed without tokenization. Tokenization process means splitting bigger parts to small parts.\n",
    "- You can tokenize paragraphs to sentences and tokenize sentences to words according to your needs. \n",
    "- NLTK is shipped with sentence tokenizer and word tokenizer.\n",
    "- Non english text can also be tokenized by specifying the language"
   ]
  },
  {
   "cell_type": "code",
   "execution_count": 21,
   "metadata": {},
   "outputs": [
    {
     "name": "stdout",
     "output_type": "stream",
     "text": [
      "[nltk_data] Downloading package punkt to C:\\Users\\save\n",
      "[nltk_data]     advait\\AppData\\Roaming\\nltk_data...\n",
      "[nltk_data]   Package punkt is already up-to-date!\n"
     ]
    },
    {
     "data": {
      "text/plain": [
       "True"
      ]
     },
     "execution_count": 21,
     "metadata": {},
     "output_type": "execute_result"
    }
   ],
   "source": [
    "nltk.download('punkt')"
   ]
  },
  {
   "cell_type": "markdown",
   "metadata": {},
   "source": [
    "__Sentence Tokenizing:__"
   ]
  },
  {
   "cell_type": "code",
   "execution_count": 22,
   "metadata": {},
   "outputs": [
    {
     "data": {
      "text/plain": [
       "[\"got mail works alot better deserves order make film success cast two extremely popular attractive stars share screen two hours collect profits real acting involved original inventive bone body basically complete re-shoot shop around corner adding modern twists essentially goes defies concepts good contemporary filmmaking overly sentimental times terribly mushy mention manipulative oh enjoyable manipulation must something casting manipulation makes movie work well absolutely hated previous ryan/hanks teaming sleepless seattle directing films helmed woman quite yet figured liked much got mail really important like something much even question storyline cliched come tom hanks plays joe fox insanely likeable owner discount book chain meg ryan plays kathleen kelley even insanely likeable proprietor family-run children's book shop called nice homage shop around corner fox kelley soon become bitter rivals new fox books store opening right across block small business little know already love internet neither party knows person's true identity rest story important serve mere backdrop two stars share screen sure mildly interesting subplots fail comparison utter cuteness main relationship course leads predictable climax foreseeable ending damn cute well-done doubt movie entire year contains scene evokes much pure joy part ryan discovers true identity online love filled lack better word happiness first time year actually left theater smiling\"]"
      ]
     },
     "execution_count": 22,
     "metadata": {},
     "output_type": "execute_result"
    }
   ],
   "source": [
    "sent_tokenize(positive_features.review[2])"
   ]
  },
  {
   "cell_type": "markdown",
   "metadata": {},
   "source": [
    "__Word Tokenizing:__"
   ]
  },
  {
   "cell_type": "code",
   "execution_count": 23,
   "metadata": {},
   "outputs": [],
   "source": [
    "positive_features['review_tokenized'] = positive_features.review.apply(lambda x: word_tokenize(x))\n",
    "negative_features['review_tokenized'] = negative_features.review.apply(lambda x: word_tokenize(x))"
   ]
  },
  {
   "cell_type": "code",
   "execution_count": 24,
   "metadata": {},
   "outputs": [
    {
     "data": {
      "text/plain": [
       "0    [films, adapted, comic, books, plenty, success...\n",
       "1    [every, movie, comes, along, suspect, studio, ...\n",
       "2    [got, mail, works, alot, better, deserves, ord...\n",
       "3    [jaws, rare, film, grabs, attention, shows, si...\n",
       "4    [moviemaking, lot, like, general, manager, nfl...\n",
       "Name: review_tokenized, dtype: object"
      ]
     },
     "execution_count": 24,
     "metadata": {},
     "output_type": "execute_result"
    }
   ],
   "source": [
    "positive_features['review_tokenized'].head()"
   ]
  },
  {
   "cell_type": "markdown",
   "metadata": {},
   "source": [
    "### NLTK Word Stemming\n",
    "- Word stemming means removing affixes from words and return the root word. Ex: The stem of the word working => work.\n",
    "- Search engines use this technique when indexing pages, so many people write different versions for the same word and all of them are stemmed to the root word.\n",
    "- There are many algorithms for stemming, but the most used algorithm is Porter stemming algorithm.\n",
    "- NLTK has a class called PorterStemmer which uses Porter stemming algorithm."
   ]
  },
  {
   "cell_type": "code",
   "execution_count": 25,
   "metadata": {},
   "outputs": [
    {
     "name": "stdout",
     "output_type": "stream",
     "text": [
      "work\n"
     ]
    }
   ],
   "source": [
    "stemmer = PorterStemmer()\n",
    "print(stemmer.stem('working'))"
   ]
  },
  {
   "cell_type": "code",
   "execution_count": 26,
   "metadata": {},
   "outputs": [],
   "source": [
    "positive_features['review_stemmed'] = positive_features.review_tokenized.apply(lambda x: [stemmer.stem(word) for word in x])\n",
    "negative_features['review_stemmed'] = negative_features.review_tokenized.apply(lambda x: [stemmer.stem(word) for word in x])"
   ]
  },
  {
   "cell_type": "code",
   "execution_count": 27,
   "metadata": {},
   "outputs": [
    {
     "data": {
      "text/plain": [
       "0    [films, adapted, comic, books, plenty, success...\n",
       "1    [every, movie, comes, along, suspect, studio, ...\n",
       "2    [got, mail, works, alot, better, deserves, ord...\n",
       "3    [jaws, rare, film, grabs, attention, shows, si...\n",
       "4    [moviemaking, lot, like, general, manager, nfl...\n",
       "Name: review_tokenized, dtype: object"
      ]
     },
     "execution_count": 27,
     "metadata": {},
     "output_type": "execute_result"
    }
   ],
   "source": [
    "positive_features.review_tokenized.head()"
   ]
  },
  {
   "cell_type": "code",
   "execution_count": 28,
   "metadata": {},
   "outputs": [
    {
     "data": {
      "text/plain": [
       "0    [film, adapt, comic, book, plenti, success, wh...\n",
       "1    [everi, movi, come, along, suspect, studio, ev...\n",
       "2    [got, mail, work, alot, better, deserv, order,...\n",
       "3    [jaw, rare, film, grab, attent, show, singl, i...\n",
       "4    [moviemak, lot, like, gener, manag, nfl, team,...\n",
       "Name: review_stemmed, dtype: object"
      ]
     },
     "execution_count": 28,
     "metadata": {},
     "output_type": "execute_result"
    }
   ],
   "source": [
    "positive_features.review_stemmed.head()"
   ]
  },
  {
   "cell_type": "markdown",
   "metadata": {},
   "source": [
    "### Lemmatizing Words Using WordNet\n",
    "- Lemmatization is a more effective option than stemming because it converts the word into its root word, rather than just stripping the suffices. \n",
    "- It makes use of the vocabulary and does a morphological analysis to obtain the root word. Therefore, we usually prefer using lemmatization over stemming.\n",
    "- Example: reduce words such as “am”, “are”, and “is” to a common form such as “be”"
   ]
  },
  {
   "cell_type": "code",
   "execution_count": 29,
   "metadata": {},
   "outputs": [
    {
     "name": "stdout",
     "output_type": "stream",
     "text": [
      "[nltk_data] Downloading package wordnet to C:\\Users\\save\n",
      "[nltk_data]     advait\\AppData\\Roaming\\nltk_data...\n",
      "[nltk_data]   Package wordnet is already up-to-date!\n"
     ]
    },
    {
     "data": {
      "text/plain": [
       "True"
      ]
     },
     "execution_count": 29,
     "metadata": {},
     "output_type": "execute_result"
    }
   ],
   "source": [
    "nltk.download('wordnet')"
   ]
  },
  {
   "cell_type": "code",
   "execution_count": 30,
   "metadata": {
    "scrolled": true
   },
   "outputs": [
    {
     "name": "stdout",
     "output_type": "stream",
     "text": [
      "increase\n"
     ]
    }
   ],
   "source": [
    "lemmatizer = WordNetLemmatizer()\n",
    " \n",
    "print(lemmatizer.lemmatize('increases'))"
   ]
  },
  {
   "cell_type": "markdown",
   "metadata": {},
   "source": [
    "- Sometimes, if you try to lemmatize a word like the word playing, it will end up with the same word.\n",
    "- This is because the default part of speech is nouns. To get verbs, you should specify it like this:"
   ]
  },
  {
   "cell_type": "code",
   "execution_count": 31,
   "metadata": {},
   "outputs": [
    {
     "name": "stdout",
     "output_type": "stream",
     "text": [
      "playing\n",
      "play\n"
     ]
    }
   ],
   "source": [
    "print(lemmatizer.lemmatize('playing'))\n",
    "print(lemmatizer.lemmatize('playing', pos=\"v\"))"
   ]
  },
  {
   "cell_type": "markdown",
   "metadata": {},
   "source": [
    "- This is a very good level of text compression, you end up with about 50% to 60% compression.\n",
    "- The result could be a verb, noun, adjective, or adverb"
   ]
  },
  {
   "cell_type": "code",
   "execution_count": 32,
   "metadata": {},
   "outputs": [
    {
     "name": "stdout",
     "output_type": "stream",
     "text": [
      "play\n",
      "playing\n",
      "playing\n",
      "playing\n"
     ]
    }
   ],
   "source": [
    "print(lemmatizer.lemmatize('playing', pos=\"v\"))\n",
    " \n",
    "print(lemmatizer.lemmatize('playing', pos=\"n\"))\n",
    " \n",
    "print(lemmatizer.lemmatize('playing', pos=\"a\"))\n",
    " \n",
    "print(lemmatizer.lemmatize('playing', pos=\"r\"))"
   ]
  },
  {
   "cell_type": "code",
   "execution_count": 33,
   "metadata": {},
   "outputs": [],
   "source": [
    "positive_features['review_lemmatized'] = positive_features.review_tokenized.apply(lambda x: [lemmatizer.lemmatize(word) for word in x])\n",
    "negative_features['review_lemmatized'] = negative_features.review_tokenized.apply(lambda x: [lemmatizer.lemmatize(word) for word in x])"
   ]
  },
  {
   "cell_type": "code",
   "execution_count": 34,
   "metadata": {},
   "outputs": [
    {
     "data": {
      "text/plain": [
       "0    [films, adapted, comic, books, plenty, success...\n",
       "1    [every, movie, comes, along, suspect, studio, ...\n",
       "2    [got, mail, works, alot, better, deserves, ord...\n",
       "3    [jaws, rare, film, grabs, attention, shows, si...\n",
       "4    [moviemaking, lot, like, general, manager, nfl...\n",
       "Name: review_tokenized, dtype: object"
      ]
     },
     "execution_count": 34,
     "metadata": {},
     "output_type": "execute_result"
    }
   ],
   "source": [
    "positive_features.review_tokenized.head()"
   ]
  },
  {
   "cell_type": "code",
   "execution_count": 35,
   "metadata": {},
   "outputs": [
    {
     "data": {
      "text/plain": [
       "0    [film, adapted, comic, book, plenty, success, ...\n",
       "1    [every, movie, come, along, suspect, studio, e...\n",
       "2    [got, mail, work, alot, better, deserves, orde...\n",
       "3    [jaw, rare, film, grab, attention, show, singl...\n",
       "4    [moviemaking, lot, like, general, manager, nfl...\n",
       "Name: review_lemmatized, dtype: object"
      ]
     },
     "execution_count": 35,
     "metadata": {},
     "output_type": "execute_result"
    }
   ],
   "source": [
    "positive_features.review_lemmatized.head()"
   ]
  },
  {
   "cell_type": "markdown",
   "metadata": {},
   "source": [
    "### Stemming and Lemmatization Difference"
   ]
  },
  {
   "cell_type": "code",
   "execution_count": 36,
   "metadata": {},
   "outputs": [
    {
     "name": "stdout",
     "output_type": "stream",
     "text": [
      "stone\n",
      "speak\n",
      "bedroom\n",
      "joke\n",
      "lisa\n",
      "purpl\n",
      "----------------------\n",
      "stone\n",
      "speak\n",
      "bedroom\n",
      "joke\n",
      "lisa\n",
      "purple\n"
     ]
    }
   ],
   "source": [
    "print(stemmer.stem('stones'))\n",
    " \n",
    "print(stemmer.stem('speaking'))\n",
    " \n",
    "print(stemmer.stem('bedroom'))\n",
    " \n",
    "print(stemmer.stem('jokes'))\n",
    " \n",
    "print(stemmer.stem('lisa'))\n",
    " \n",
    "print(stemmer.stem('purple'))\n",
    " \n",
    "print('----------------------')\n",
    " \n",
    "print(lemmatizer.lemmatize('stones'))\n",
    " \n",
    "print(lemmatizer.lemmatize('speaking', pos = 'v'))\n",
    " \n",
    "print(lemmatizer.lemmatize('bedroom'))\n",
    " \n",
    "print(lemmatizer.lemmatize('jokes'))\n",
    " \n",
    "print(lemmatizer.lemmatize('lisa'))\n",
    " \n",
    "print(lemmatizer.lemmatize('purple'))"
   ]
  },
  {
   "cell_type": "markdown",
   "metadata": {},
   "source": [
    "- Stemming works on words without knowing its context and that’s why stemming has lower accuracy and faster than lemmatization.\n",
    "- Word lemmatizing returns a real word even if it’s not the same word, it could be a synonym, but at least it’s a real word.\n",
    "- When accuracy is not as important as speed, stemming might be better."
   ]
  },
  {
   "cell_type": "markdown",
   "metadata": {},
   "source": [
    "### Plotting Frequencies of Words"
   ]
  },
  {
   "cell_type": "markdown",
   "metadata": {},
   "source": [
    "__Extract all words in a list:__"
   ]
  },
  {
   "cell_type": "code",
   "execution_count": 37,
   "metadata": {},
   "outputs": [],
   "source": [
    "positive_review_list = positive_features['review_lemmatized'].tolist()\n",
    "negative_review_list = negative_features['review_lemmatized'].tolist()"
   ]
  },
  {
   "cell_type": "code",
   "execution_count": 38,
   "metadata": {},
   "outputs": [],
   "source": [
    "positive_review_list = [item for sublist in positive_review_list for item in sublist]\n",
    "negative_review_list = [item for sublist in negative_review_list for item in sublist]"
   ]
  },
  {
   "cell_type": "markdown",
   "metadata": {},
   "source": [
    "Number of words:"
   ]
  },
  {
   "cell_type": "code",
   "execution_count": 39,
   "metadata": {},
   "outputs": [
    {
     "data": {
      "text/plain": [
       "383999"
      ]
     },
     "execution_count": 39,
     "metadata": {},
     "output_type": "execute_result"
    }
   ],
   "source": [
    "len(positive_review_list)"
   ]
  },
  {
   "cell_type": "code",
   "execution_count": 40,
   "metadata": {},
   "outputs": [
    {
     "data": {
      "text/plain": [
       "342813"
      ]
     },
     "execution_count": 40,
     "metadata": {},
     "output_type": "execute_result"
    }
   ],
   "source": [
    "len(negative_review_list)"
   ]
  },
  {
   "cell_type": "code",
   "execution_count": 41,
   "metadata": {},
   "outputs": [],
   "source": [
    "all_words = (positive_review_list + negative_review_list)"
   ]
  },
  {
   "cell_type": "code",
   "execution_count": 42,
   "metadata": {},
   "outputs": [
    {
     "data": {
      "text/plain": [
       "726812"
      ]
     },
     "execution_count": 42,
     "metadata": {},
     "output_type": "execute_result"
    }
   ],
   "source": [
    "len(all_words)"
   ]
  },
  {
   "cell_type": "code",
   "execution_count": 43,
   "metadata": {},
   "outputs": [],
   "source": [
    "word_counter = Counter(all_words)"
   ]
  },
  {
   "cell_type": "code",
   "execution_count": 44,
   "metadata": {},
   "outputs": [],
   "source": [
    "most_common_words = word_counter.most_common()[:10]"
   ]
  },
  {
   "cell_type": "code",
   "execution_count": 45,
   "metadata": {},
   "outputs": [],
   "source": [
    "most_common_words = pd.DataFrame(most_common_words)"
   ]
  },
  {
   "cell_type": "code",
   "execution_count": 46,
   "metadata": {},
   "outputs": [],
   "source": [
    "most_common_words.columns = ['word', 'freq']"
   ]
  },
  {
   "cell_type": "code",
   "execution_count": 47,
   "metadata": {
    "scrolled": true
   },
   "outputs": [
    {
     "data": {
      "text/html": [
       "<div>\n",
       "<style scoped>\n",
       "    .dataframe tbody tr th:only-of-type {\n",
       "        vertical-align: middle;\n",
       "    }\n",
       "\n",
       "    .dataframe tbody tr th {\n",
       "        vertical-align: top;\n",
       "    }\n",
       "\n",
       "    .dataframe thead th {\n",
       "        text-align: right;\n",
       "    }\n",
       "</style>\n",
       "<table border=\"1\" class=\"dataframe\">\n",
       "  <thead>\n",
       "    <tr style=\"text-align: right;\">\n",
       "      <th></th>\n",
       "      <th>word</th>\n",
       "      <th>freq</th>\n",
       "    </tr>\n",
       "  </thead>\n",
       "  <tbody>\n",
       "    <tr>\n",
       "      <th>0</th>\n",
       "      <td>'s</td>\n",
       "      <td>14031</td>\n",
       "    </tr>\n",
       "    <tr>\n",
       "      <th>1</th>\n",
       "      <td>film</td>\n",
       "      <td>10963</td>\n",
       "    </tr>\n",
       "    <tr>\n",
       "      <th>2</th>\n",
       "      <td>movie</td>\n",
       "      <td>6861</td>\n",
       "    </tr>\n",
       "    <tr>\n",
       "      <th>3</th>\n",
       "      <td>one</td>\n",
       "      <td>5756</td>\n",
       "    </tr>\n",
       "    <tr>\n",
       "      <th>4</th>\n",
       "      <td>character</td>\n",
       "      <td>3854</td>\n",
       "    </tr>\n",
       "    <tr>\n",
       "      <th>5</th>\n",
       "      <td>like</td>\n",
       "      <td>3643</td>\n",
       "    </tr>\n",
       "    <tr>\n",
       "      <th>6</th>\n",
       "      <td>time</td>\n",
       "      <td>2847</td>\n",
       "    </tr>\n",
       "    <tr>\n",
       "      <th>7</th>\n",
       "      <td>get</td>\n",
       "      <td>2787</td>\n",
       "    </tr>\n",
       "    <tr>\n",
       "      <th>8</th>\n",
       "      <td>scene</td>\n",
       "      <td>2642</td>\n",
       "    </tr>\n",
       "    <tr>\n",
       "      <th>9</th>\n",
       "      <td>make</td>\n",
       "      <td>2585</td>\n",
       "    </tr>\n",
       "  </tbody>\n",
       "</table>\n",
       "</div>"
      ],
      "text/plain": [
       "        word   freq\n",
       "0         's  14031\n",
       "1       film  10963\n",
       "2      movie   6861\n",
       "3        one   5756\n",
       "4  character   3854\n",
       "5       like   3643\n",
       "6       time   2847\n",
       "7        get   2787\n",
       "8      scene   2642\n",
       "9       make   2585"
      ]
     },
     "execution_count": 47,
     "metadata": {},
     "output_type": "execute_result"
    }
   ],
   "source": [
    "most_common_words"
   ]
  },
  {
   "cell_type": "code",
   "execution_count": 48,
   "metadata": {},
   "outputs": [
    {
     "data": {
      "text/plain": [
       "<matplotlib.axes._subplots.AxesSubplot at 0x1ff591d1c50>"
      ]
     },
     "execution_count": 48,
     "metadata": {},
     "output_type": "execute_result"
    },
    {
     "data": {
      "image/png": "[encoded data removed]",
      "text/plain": [
       "<matplotlib.figure.Figure at 0x1ff591d1668>"
      ]
     },
     "metadata": {},
     "output_type": "display_data"
    }
   ],
   "source": [
    "most_common_words.sort_values(by='freq',ascending=True).plot(x='word', kind='barh')"
   ]
  },
  {
   "cell_type": "markdown",
   "metadata": {},
   "source": [
    "- We can sort the word counts and plot their values on Logarithmic axes to check the shape of the distribution. \n",
    "- This visualization is particularly useful if comparing 2 or more datasets\n",
    "- A flatter distribution indicates a large vocabulary while a peaked distribution a restricted vocabulary often due to a focused topic or specialized language."
   ]
  },
  {
   "cell_type": "code",
   "execution_count": 49,
   "metadata": {},
   "outputs": [
    {
     "data": {
      "image/png": "[encoded data removed]",
      "text/plain": [
       "<matplotlib.figure.Figure at 0x1ff59002eb8>"
      ]
     },
     "metadata": {},
     "output_type": "display_data"
    }
   ],
   "source": [
    "sorted_word_counts = sorted(list(word_counter.values()), reverse=True)\n",
    "\n",
    "plt.loglog(sorted_word_counts)\n",
    "plt.ylabel(\"Freq\")\n",
    "plt.xlabel(\"Word Rank\");"
   ]
  },
  {
   "cell_type": "markdown",
   "metadata": {},
   "source": [
    "- Another related plot is the histogram of sorted_word_counts, which displays how many words have a count in a specific range.\n",
    "- The distribution is highly peaked at low counts, i.e. most of the words appear which a low count, so we better display it on semilogarithmic axes to inspect the tail of the distribution."
   ]
  },
  {
   "cell_type": "code",
   "execution_count": 50,
   "metadata": {},
   "outputs": [
    {
     "data": {
      "image/png": "[encoded data removed]",
      "text/plain": [
       "<matplotlib.figure.Figure at 0x1ff5902f400>"
      ]
     },
     "metadata": {},
     "output_type": "display_data"
    }
   ],
   "source": [
    "plt.hist(sorted_word_counts, bins=50);"
   ]
  },
  {
   "cell_type": "code",
   "execution_count": 51,
   "metadata": {},
   "outputs": [
    {
     "data": {
      "image/png": "[encoded data removed]",
      "text/plain": [
       "<matplotlib.figure.Figure at 0x1ff592e60f0>"
      ]
     },
     "metadata": {},
     "output_type": "display_data"
    }
   ],
   "source": [
    "plt.hist(sorted_word_counts, bins=50, log=True);"
   ]
  },
  {
   "cell_type": "code",
   "execution_count": 52,
   "metadata": {},
   "outputs": [
    {
     "data": {
      "image/png": "[encoded data removed]",
      "text/plain": [
       "<matplotlib.figure.Figure at 0x1ff5ce2c1d0>"
      ]
     },
     "metadata": {},
     "output_type": "display_data"
    }
   ],
   "source": [
    "sns.distplot(positive_features['review_lemmatized'].apply(lambda y: len(y)), label='positive reviews',hist=False)\n",
    "sns.distplot(negative_features['review_lemmatized'].apply(lambda y: len(y)), label='negative reviews',hist=False)\n",
    "plt.legend()\n",
    "plt.show()"
   ]
  },
  {
   "cell_type": "markdown",
   "metadata": {},
   "source": [
    "### Removing frequent unimportant words"
   ]
  },
  {
   "cell_type": "code",
   "execution_count": 113,
   "metadata": {},
   "outputs": [
    {
     "data": {
      "text/plain": [
       "[\"'s\", 'film', 'movie']"
      ]
     },
     "execution_count": 113,
     "metadata": {},
     "output_type": "execute_result"
    }
   ],
   "source": [
    "most_common_words.word.tolist()[:3]"
   ]
  },
  {
   "cell_type": "code",
   "execution_count": 114,
   "metadata": {},
   "outputs": [
    {
     "data": {
      "text/plain": [
       "[\"'s\", 'film', 'movie']"
      ]
     },
     "execution_count": 114,
     "metadata": {},
     "output_type": "execute_result"
    }
   ],
   "source": [
    "remove = most_common_words.word.tolist()[:3]\n",
    "remove"
   ]
  },
  {
   "cell_type": "code",
   "execution_count": 115,
   "metadata": {
    "scrolled": true
   },
   "outputs": [],
   "source": [
    "negative_features['review_lemmatized'] = negative_features['review_lemmatized'].apply(lambda x: [y for y in x if y not in remove])\n",
    "positive_features['review_lemmatized'] = positive_features['review_lemmatized'].apply(lambda x: [y for y in x if y not in remove])"
   ]
  },
  {
   "cell_type": "markdown",
   "metadata": {},
   "source": [
    "## Advanced processing and Modelling:"
   ]
  },
  {
   "cell_type": "markdown",
   "metadata": {},
   "source": [
    "### Build a bag-of-words Naive Bayes model\n",
    "- The simplest model for analyzing text is just to think about text as an unordered collection of words (bag-of-words). This can generally allow to infer from the text the category, the topic or the sentiment.\n",
    "- From the bag-of-words model we can build features to be used by a classifier, here we assume that each word is a feature that can either be True or False. We implement this in Python as a dictionary where for each word in a sentence we associate True, if a word is missing, that would be the same as assigning False.\n",
    "- Bag of Words (BoW) refers to the representation of text which describes the presence of words within the text data. \n",
    "- The intuition behind this is that two similar text fields will contain similar kind of words, and will therefore have a similar bag of words. Further, that from the text alone we can learn something about the meaning of the document."
   ]
  },
  {
   "cell_type": "markdown",
   "metadata": {},
   "source": [
    "__Converting word lists back to string reviews:__\n",
    "- Creating training data i.e. review - label combinations\n",
    "- CountVectorizer tokenizes strings internally"
   ]
  },
  {
   "cell_type": "code",
   "execution_count": 116,
   "metadata": {},
   "outputs": [],
   "source": [
    "positive_features['review_lemmatized_train'] = positive_features.review_lemmatized.apply(lambda x: ' '.join(x))\n",
    "negative_features['review_lemmatized_train'] = negative_features.review_lemmatized.apply(lambda x: ' '.join(x))"
   ]
  },
  {
   "cell_type": "markdown",
   "metadata": {},
   "source": [
    "__Defining Target and Feature variables:__"
   ]
  },
  {
   "cell_type": "code",
   "execution_count": 117,
   "metadata": {},
   "outputs": [],
   "source": [
    "x = (positive_features['review_lemmatized_train'].append(negative_features['review_lemmatized_train']))\n",
    "y = (positive_features['label'].append(negative_features['label']))"
   ]
  },
  {
   "cell_type": "markdown",
   "metadata": {},
   "source": [
    "__Label Encoding Target Variable:__"
   ]
  },
  {
   "cell_type": "code",
   "execution_count": 118,
   "metadata": {},
   "outputs": [
    {
     "data": {
      "text/plain": [
       "['neg', 'pos']"
      ]
     },
     "execution_count": 118,
     "metadata": {},
     "output_type": "execute_result"
    }
   ],
   "source": [
    "le = preprocessing.LabelEncoder()\n",
    "le.fit(y)\n",
    "\n",
    "list(le.classes_)"
   ]
  },
  {
   "cell_type": "code",
   "execution_count": 119,
   "metadata": {},
   "outputs": [],
   "source": [
    "y = le.transform(y) "
   ]
  },
  {
   "cell_type": "code",
   "execution_count": 120,
   "metadata": {},
   "outputs": [
    {
     "name": "stdout",
     "output_type": "stream",
     "text": [
      "Labels for '['neg' 'pos']' are '[0 1]' respectively.\n"
     ]
    }
   ],
   "source": [
    "print('Labels for \\'{}\\' are \\'{}\\' respectively.'.format(le.inverse_transform(np.unique(y)),np.unique(y)))"
   ]
  },
  {
   "cell_type": "markdown",
   "metadata": {},
   "source": [
    "__Bag of Words Vectorizer:__"
   ]
  },
  {
   "cell_type": "code",
   "execution_count": 121,
   "metadata": {
    "scrolled": true
   },
   "outputs": [
    {
     "data": {
      "text/plain": [
       "<2000x25000 sparse matrix of type '<class 'numpy.int64'>'\n",
       "\twith 511942 stored elements in Compressed Sparse Row format>"
      ]
     },
     "execution_count": 121,
     "metadata": {},
     "output_type": "execute_result"
    }
   ],
   "source": [
    "bow = CountVectorizer(max_features=25000, lowercase=True,analyzer = \"word\")\n",
    "train_bow_neg = bow.fit_transform(x)\n",
    "train_bow_neg"
   ]
  },
  {
   "cell_type": "code",
   "execution_count": 122,
   "metadata": {},
   "outputs": [
    {
     "data": {
      "text/plain": [
       "(2000, 25000)"
      ]
     },
     "execution_count": 122,
     "metadata": {},
     "output_type": "execute_result"
    }
   ],
   "source": [
    "train_bow_neg.toarray().shape"
   ]
  },
  {
   "cell_type": "code",
   "execution_count": 123,
   "metadata": {
    "scrolled": true
   },
   "outputs": [
    {
     "data": {
      "text/plain": [
       "array([[0, 0, 0, ..., 0, 0, 0],\n",
       "       [0, 0, 0, ..., 0, 0, 0],\n",
       "       [0, 1, 0, ..., 0, 0, 0],\n",
       "       [0, 0, 0, ..., 0, 0, 0]], dtype=int64)"
      ]
     },
     "execution_count": 123,
     "metadata": {},
     "output_type": "execute_result"
    }
   ],
   "source": [
    "train_bow_neg.toarray()[1:5]"
   ]
  },
  {
   "cell_type": "code",
   "execution_count": 124,
   "metadata": {},
   "outputs": [],
   "source": [
    "vocab = bow.get_feature_names()"
   ]
  },
  {
   "cell_type": "code",
   "execution_count": 125,
   "metadata": {},
   "outputs": [],
   "source": [
    "# Sum up the counts of each vocabulary word\n",
    "dist = np.sum(train_bow_neg.toarray(), axis=0)\n",
    "\n",
    "word_freq = pd.DataFrame({'word':vocab,'freq':dist})"
   ]
  },
  {
   "cell_type": "code",
   "execution_count": 126,
   "metadata": {
    "scrolled": false
   },
   "outputs": [
    {
     "data": {
      "text/html": [
       "<div>\n",
       "<style scoped>\n",
       "    .dataframe tbody tr th:only-of-type {\n",
       "        vertical-align: middle;\n",
       "    }\n",
       "\n",
       "    .dataframe tbody tr th {\n",
       "        vertical-align: top;\n",
       "    }\n",
       "\n",
       "    .dataframe thead th {\n",
       "        text-align: right;\n",
       "    }\n",
       "</style>\n",
       "<table border=\"1\" class=\"dataframe\">\n",
       "  <thead>\n",
       "    <tr style=\"text-align: right;\">\n",
       "      <th></th>\n",
       "      <th>freq</th>\n",
       "      <th>word</th>\n",
       "    </tr>\n",
       "  </thead>\n",
       "  <tbody>\n",
       "    <tr>\n",
       "      <th>13113</th>\n",
       "      <td>3788</td>\n",
       "      <td>like</td>\n",
       "    </tr>\n",
       "    <tr>\n",
       "      <th>22698</th>\n",
       "      <td>2976</td>\n",
       "      <td>time</td>\n",
       "    </tr>\n",
       "    <tr>\n",
       "      <th>9660</th>\n",
       "      <td>2811</td>\n",
       "      <td>get</td>\n",
       "    </tr>\n",
       "    <tr>\n",
       "      <th>18974</th>\n",
       "      <td>2662</td>\n",
       "      <td>scene</td>\n",
       "    </tr>\n",
       "    <tr>\n",
       "      <th>13612</th>\n",
       "      <td>2634</td>\n",
       "      <td>make</td>\n",
       "    </tr>\n",
       "    <tr>\n",
       "      <th>8213</th>\n",
       "      <td>2568</td>\n",
       "      <td>even</td>\n",
       "    </tr>\n",
       "    <tr>\n",
       "      <th>9875</th>\n",
       "      <td>2429</td>\n",
       "      <td>good</td>\n",
       "    </tr>\n",
       "    <tr>\n",
       "      <th>21153</th>\n",
       "      <td>2344</td>\n",
       "      <td>story</td>\n",
       "    </tr>\n",
       "    <tr>\n",
       "      <th>24753</th>\n",
       "      <td>2109</td>\n",
       "      <td>would</td>\n",
       "    </tr>\n",
       "    <tr>\n",
       "      <th>14693</th>\n",
       "      <td>2049</td>\n",
       "      <td>much</td>\n",
       "    </tr>\n",
       "  </tbody>\n",
       "</table>\n",
       "</div>"
      ],
      "text/plain": [
       "       freq   word\n",
       "13113  3788   like\n",
       "22698  2976   time\n",
       "9660   2811    get\n",
       "18974  2662  scene\n",
       "13612  2634   make\n",
       "8213   2568   even\n",
       "9875   2429   good\n",
       "21153  2344  story\n",
       "24753  2109  would\n",
       "14693  2049   much"
      ]
     },
     "execution_count": 126,
     "metadata": {},
     "output_type": "execute_result"
    }
   ],
   "source": [
    "word_freq.sort_values(by='freq',ascending=False)[:10]"
   ]
  },
  {
   "cell_type": "markdown",
   "metadata": {},
   "source": [
    "__Splitting into Train and test datasets:__"
   ]
  },
  {
   "cell_type": "code",
   "execution_count": 127,
   "metadata": {},
   "outputs": [],
   "source": [
    "xtrain, xtest, ytrain, ytest = train_test_split \\\n",
    "                (train_bow_neg.toarray(), y,test_size=0.3, \\\n",
    "                random_state=1000)\n"
   ]
  },
  {
   "cell_type": "code",
   "execution_count": 128,
   "metadata": {},
   "outputs": [
    {
     "name": "stdout",
     "output_type": "stream",
     "text": [
      "No. of True Cases in training data set for 708\n",
      "No. of True Cases in testing data set for 292\n",
      "Ratio of True Cases in training data set:  0.51\n",
      "Ratio of True Cases in testing data set:  0.49\n"
     ]
    }
   ],
   "source": [
    "print (\"No. of True Cases in training data set for\" , ytrain.sum())\n",
    "print (\"No. of True Cases in testing data set for\",ytest.sum())\n",
    "\n",
    "print (\"Ratio of True Cases in training data set: \" , round(ytrain.sum()/len(ytrain),2))\n",
    "print (\"Ratio of True Cases in testing data set: \", round(ytest.sum()/len(ytest),2))"
   ]
  },
  {
   "cell_type": "code",
   "execution_count": 129,
   "metadata": {},
   "outputs": [
    {
     "data": {
      "text/plain": [
       "(1400, 25000)"
      ]
     },
     "execution_count": 129,
     "metadata": {},
     "output_type": "execute_result"
    }
   ],
   "source": [
    "xtrain.shape"
   ]
  },
  {
   "cell_type": "code",
   "execution_count": 130,
   "metadata": {},
   "outputs": [
    {
     "data": {
      "text/plain": [
       "<2000x25000 sparse matrix of type '<class 'numpy.int64'>'\n",
       "\twith 511942 stored elements in Compressed Sparse Row format>"
      ]
     },
     "execution_count": 130,
     "metadata": {},
     "output_type": "execute_result"
    }
   ],
   "source": [
    "train_bow_neg"
   ]
  },
  {
   "cell_type": "code",
   "execution_count": 131,
   "metadata": {},
   "outputs": [
    {
     "name": "stdout",
     "output_type": "stream",
     "text": [
      "Training the Naive Bayes Classifier\n"
     ]
    }
   ],
   "source": [
    "print( \"Training the Naive Bayes Classifier\")\n",
    "\n",
    "# Initialize a Random Forest classifier with 100 trees\n",
    "NB = MultinomialNB() \n",
    "\n",
    "# This may take a few minutes to run\n",
    "NB_clf = NB.fit( xtrain, ytrain )"
   ]
  },
  {
   "cell_type": "code",
   "execution_count": 132,
   "metadata": {},
   "outputs": [],
   "source": [
    "prob_test  = NB.predict_proba(xtest)\n",
    "prob_train = NB.predict_proba(xtrain)\n",
    "\n",
    "#Probability Threshold = 0.5 (default) \n",
    "pred_test  = NB.predict(xtest)\n",
    "pred_train = NB.predict(xtrain)"
   ]
  },
  {
   "cell_type": "code",
   "execution_count": 133,
   "metadata": {},
   "outputs": [
    {
     "name": "stdout",
     "output_type": "stream",
     "text": [
      "Model ROC-AUC score for training sample: 0.997\n",
      "Model ROC-AUC score for test sample: 0.869\n"
     ]
    }
   ],
   "source": [
    "auc_score = roc_auc_score(ytrain, prob_train[:,1])\n",
    "print (\"Model ROC-AUC score for training sample: %.3f\" \\\n",
    "                                      % auc_score)\n",
    "auc_score = roc_auc_score(ytest, prob_test[:,1])\n",
    "print (\"Model ROC-AUC score for test sample: %.3f\" \\\n",
    "                                      % auc_score)"
   ]
  },
  {
   "cell_type": "code",
   "execution_count": 134,
   "metadata": {},
   "outputs": [
    {
     "name": "stdout",
     "output_type": "stream",
     "text": [
      "Train Accuracy ::  0.9785714285714285\n",
      "Test Accuracy ::  0.8\n"
     ]
    }
   ],
   "source": [
    "#Calculate train and test accuracy\n",
    "train_acc = accuracy_score(ytrain, pred_train)\n",
    "test_acc  = accuracy_score(ytest, pred_test)\n",
    "print (\"Train Accuracy :: \", train_acc)\n",
    "print (\"Test Accuracy :: \", test_acc)"
   ]
  },
  {
   "cell_type": "code",
   "execution_count": 135,
   "metadata": {},
   "outputs": [
    {
     "name": "stdout",
     "output_type": "stream",
     "text": [
      "\n",
      " Confusion matrix: \n",
      "\n"
     ]
    },
    {
     "data": {
      "image/png": "[encoded data removed]",
      "text/plain": [
       "<matplotlib.figure.Figure at 0x1ff5cd9f780>"
      ]
     },
     "metadata": {},
     "output_type": "display_data"
    }
   ],
   "source": [
    "print (\"\\n Confusion matrix: \\n\")\n",
    "skplt.metrics.plot_confusion_matrix(ytest, pred_test, title=\"Confusion Matrix\",\n",
    "                text_fontsize='large')\n",
    "plt.show()\n",
    "# Colors https://matplotlib.org/examples/color/colormaps_reference.html"
   ]
  },
  {
   "cell_type": "code",
   "execution_count": 136,
   "metadata": {},
   "outputs": [
    {
     "name": "stdout",
     "output_type": "stream",
     "text": [
      "\n",
      " Classification report (weighted average across classes) ::\n",
      "              precision    recall  f1-score   support\n",
      "\n",
      "          0       0.81      0.80      0.80       308\n",
      "          1       0.79      0.80      0.80       292\n",
      "\n",
      "avg / total       0.80      0.80      0.80       600\n",
      "\n"
     ]
    }
   ],
   "source": [
    "#Calculate classification model evaluation metrics like precision, recall, f1 score\n",
    "report = classification_report(ytest, pred_test)\n",
    "precision,recall,fscore,support = precision_recall_fscore_support(ytest,pred_test,average='weighted')\n",
    "print(\"\\n Classification report (weighted average across classes) ::\\n\", classification_report(ytest, pred_test))"
   ]
  },
  {
   "cell_type": "code",
   "execution_count": 137,
   "metadata": {},
   "outputs": [
    {
     "data": {
      "text/plain": [
       "array([[ 4., 46.,  3., ...,  0.,  1.,  0.],\n",
       "       [ 2., 41.,  5., ..., 10.,  1.,  0.]])"
      ]
     },
     "execution_count": 137,
     "metadata": {},
     "output_type": "execute_result"
    }
   ],
   "source": [
    "NB_clf.feature_count_"
   ]
  },
  {
   "cell_type": "markdown",
   "metadata": {},
   "source": [
    "### n-grams"
   ]
  },
  {
   "cell_type": "code",
   "execution_count": 138,
   "metadata": {},
   "outputs": [],
   "source": [
    "bow = CountVectorizer(max_features=25000, lowercase=True,analyzer = \"word\",ngram_range=(1, 2))\n",
    "train_bow_neg = bow.fit_transform(x)"
   ]
  },
  {
   "cell_type": "code",
   "execution_count": 139,
   "metadata": {},
   "outputs": [
    {
     "data": {
      "text/plain": [
       "['000 000',\n",
       " '000 year',\n",
       " '10 000',\n",
       " '10 10',\n",
       " '10 minute',\n",
       " '10 scale',\n",
       " '10 thing',\n",
       " '10 year',\n",
       " '100 000',\n",
       " '100 million',\n",
       " '100 minute',\n",
       " '101 dalmatian',\n",
       " '102 dalmatian',\n",
       " '11 year',\n",
       " '12 monkey',\n",
       " '12 year',\n",
       " '13 rating',\n",
       " '13 year',\n",
       " '13th warrior',\n",
       " '14 year',\n",
       " '15 minute',\n",
       " '15 year',\n",
       " '16 year',\n",
       " '16x9 television',\n",
       " '17 rating',\n",
       " '17 year',\n",
       " '17th century',\n",
       " '18th century',\n",
       " '19 year',\n",
       " '1996 scream',\n",
       " '1998 know',\n",
       " '1999 eugene',\n",
       " '19th century',\n",
       " '20 000',\n",
       " '20 minute',\n",
       " '20 year',\n",
       " '200 cigarette',\n",
       " '200 million',\n",
       " '200 year',\n",
       " '2001 space',\n",
       " '20th anniversary',\n",
       " '20th century',\n",
       " '21 year',\n",
       " '21st century',\n",
       " '22 year',\n",
       " '23 year',\n",
       " '24 hour',\n",
       " '25 minute',\n",
       " '25 year',\n",
       " '28 day',\n",
       " '30 000',\n",
       " '30 minute',\n",
       " '30 second',\n",
       " '30 year',\n",
       " '40 million',\n",
       " '40 minute',\n",
       " '40 year',\n",
       " '45 minute',\n",
       " '48 hour',\n",
       " '50 000',\n",
       " '50 year',\n",
       " '500 000',\n",
       " '60 minute',\n",
       " '60 second',\n",
       " '70 million',\n",
       " '80 minute',\n",
       " '90 million',\n",
       " '90 minute',\n",
       " '95 minute',\n",
       " '_saving private',\n",
       " '_the caveman',\n",
       " 'aaron eckhart',\n",
       " 'ability create',\n",
       " 'ability make',\n",
       " 'able create',\n",
       " 'able find',\n",
       " 'able get',\n",
       " 'able give',\n",
       " 'able keep',\n",
       " 'able make',\n",
       " 'able put',\n",
       " 'able say',\n",
       " 'able see',\n",
       " 'able take',\n",
       " 'able talk',\n",
       " 'absent minded',\n",
       " 'absolute power',\n",
       " 'absolutely breathtaking',\n",
       " 'absolutely brilliant',\n",
       " 'absolutely hilarious',\n",
       " 'absolutely nothing',\n",
       " 'academy award',\n",
       " 'acceptable teenager',\n",
       " 'accidentally kill',\n",
       " 'ace ventura',\n",
       " 'across board',\n",
       " 'across country',\n",
       " 'across screen',\n",
       " 'across street',\n",
       " 'act like',\n",
       " 'act violence',\n",
       " 'act well',\n",
       " 'acting ability',\n",
       " 'acting average',\n",
       " 'acting bad',\n",
       " 'acting career',\n",
       " 'acting department',\n",
       " 'acting directing',\n",
       " 'acting even',\n",
       " 'acting everyone',\n",
       " 'acting good',\n",
       " 'acting great',\n",
       " 'acting however',\n",
       " 'acting job',\n",
       " 'acting like',\n",
       " 'acting make',\n",
       " 'acting performance',\n",
       " 'acting quite',\n",
       " 'acting range',\n",
       " 'acting skill',\n",
       " 'acting talent',\n",
       " 'acting top',\n",
       " 'acting writing',\n",
       " 'action action',\n",
       " 'action adventure',\n",
       " 'action called',\n",
       " 'action comedy',\n",
       " 'action director',\n",
       " 'action disney',\n",
       " 'action drama',\n",
       " 'action even',\n",
       " 'action fan',\n",
       " 'action figure',\n",
       " 'action flick',\n",
       " 'action genre',\n",
       " 'action get',\n",
       " 'action go',\n",
       " 'action hero',\n",
       " 'action however',\n",
       " 'action jackson',\n",
       " 'action like',\n",
       " 'action make',\n",
       " 'action might',\n",
       " 'action packed',\n",
       " 'action picture',\n",
       " 'action scene',\n",
       " 'action sequence',\n",
       " 'action set',\n",
       " 'action special',\n",
       " 'action star',\n",
       " 'action suspense',\n",
       " 'action take',\n",
       " 'action there',\n",
       " 'action thriller',\n",
       " 'action time',\n",
       " 'action well',\n",
       " 'actor actress',\n",
       " 'actor also',\n",
       " 'actor best',\n",
       " 'actor could',\n",
       " 'actor deliver',\n",
       " 'actor director',\n",
       " 'actor especially',\n",
       " 'actor ever',\n",
       " 'actor get',\n",
       " 'actor give',\n",
       " 'actor good',\n",
       " 'actor great',\n",
       " 'actor he',\n",
       " 'actor hollywood',\n",
       " 'actor however',\n",
       " 'actor james',\n",
       " 'actor john',\n",
       " 'actor like',\n",
       " 'actor make',\n",
       " 'actor name',\n",
       " 'actor never',\n",
       " 'actor oscar',\n",
       " 'actor play',\n",
       " 'actor played',\n",
       " 'actor playing',\n",
       " 'actor really',\n",
       " 'actor role',\n",
       " 'actor script',\n",
       " 'actor seem',\n",
       " 'actor time',\n",
       " 'actor turned',\n",
       " 'actor usually',\n",
       " 'actor work',\n",
       " 'actor working',\n",
       " 'actor would',\n",
       " 'actual story',\n",
       " 'actually act',\n",
       " 'actually bad',\n",
       " 'actually begin',\n",
       " 'actually care',\n",
       " 'actually come',\n",
       " 'actually find',\n",
       " 'actually funny',\n",
       " 'actually get',\n",
       " 'actually go',\n",
       " 'actually good',\n",
       " 'actually got',\n",
       " 'actually happened',\n",
       " 'actually interesting',\n",
       " 'actually know',\n",
       " 'actually like',\n",
       " 'actually look',\n",
       " 'actually lot',\n",
       " 'actually make',\n",
       " 'actually pretty',\n",
       " 'actually quite',\n",
       " 'actually saw',\n",
       " 'actually say',\n",
       " 'actually see',\n",
       " 'actually show',\n",
       " 'actually take',\n",
       " 'actually think',\n",
       " 'actually try',\n",
       " 'actually well',\n",
       " 'actually work',\n",
       " 'ad campaign',\n",
       " 'ad lib',\n",
       " 'adam sandler',\n",
       " 'add another',\n",
       " 'add anything',\n",
       " 'add depth',\n",
       " 'add insult',\n",
       " 'add little',\n",
       " 'add much',\n",
       " 'add nothing',\n",
       " 'addams family',\n",
       " 'ado nothing',\n",
       " 'adult audience',\n",
       " 'adult child',\n",
       " 'advance screening',\n",
       " 'adventure story',\n",
       " 'affleck damon',\n",
       " 'afore mentioned',\n",
       " 'african american',\n",
       " 'age group',\n",
       " 'agent kay',\n",
       " 'ago galaxy',\n",
       " 'agrees take',\n",
       " 'ahead time',\n",
       " 'aidan quinn',\n",
       " 'air bud',\n",
       " 'air force',\n",
       " 'airplane naked',\n",
       " 'akiva goldsman',\n",
       " 'al pacino',\n",
       " 'al simmons',\n",
       " 'al toy',\n",
       " 'alain chabat',\n",
       " 'alan arkin',\n",
       " 'alan cumming',\n",
       " 'alan parker',\n",
       " 'alan rickman',\n",
       " 'alan smithee',\n",
       " 'albert brook',\n",
       " 'alcoholic mother',\n",
       " 'alec baldwin',\n",
       " 'alec guinness',\n",
       " 'alex browning',\n",
       " 'alex cox',\n",
       " 'alex proyas',\n",
       " 'alfred hitchcock',\n",
       " 'alfred molina',\n",
       " 'ali larter',\n",
       " 'alicia silverstone',\n",
       " 'alicia witt',\n",
       " 'alien alien',\n",
       " 'alien come',\n",
       " 'alien creature',\n",
       " 'alien dna',\n",
       " 'alien human',\n",
       " 'alien invasion',\n",
       " 'alien planet',\n",
       " 'alien race',\n",
       " 'alien resurrection',\n",
       " 'alien ripley',\n",
       " 'alien series',\n",
       " 'alien ship',\n",
       " 'alien specie',\n",
       " 'all american',\n",
       " 'all around',\n",
       " 'all out',\n",
       " 'all star',\n",
       " 'all time',\n",
       " 'all too',\n",
       " 'allows audience',\n",
       " 'ally mcbeal',\n",
       " 'ally sheedy',\n",
       " 'almod var',\n",
       " 'almost always',\n",
       " 'almost bad',\n",
       " 'almost certainly',\n",
       " 'almost completely',\n",
       " 'almost entirely',\n",
       " 'almost every',\n",
       " 'almost everyone',\n",
       " 'almost everything',\n",
       " 'almost exclusively',\n",
       " 'almost feel',\n",
       " 'almost forgotten',\n",
       " 'almost good',\n",
       " 'almost hero',\n",
       " 'almost immediately',\n",
       " 'almost impossible',\n",
       " 'almost like',\n",
       " 'almost make',\n",
       " 'almost much',\n",
       " 'almost never',\n",
       " 'almost nothing',\n",
       " 'almost seems',\n",
       " 'almost two',\n",
       " 'almost worth',\n",
       " 'alone enough',\n",
       " 'along best',\n",
       " 'along came',\n",
       " 'along come',\n",
       " 'along line',\n",
       " 'along rest',\n",
       " 'along ride',\n",
       " 'along way',\n",
       " 'already know',\n",
       " 'already mentioned',\n",
       " 'already said',\n",
       " 'already seen',\n",
       " 'also another',\n",
       " 'also appears',\n",
       " 'also bad',\n",
       " 'also come',\n",
       " 'also directed',\n",
       " 'also director',\n",
       " 'also effective',\n",
       " 'also enjoyed',\n",
       " 'also entertaining',\n",
       " 'also excellent',\n",
       " 'also extremely',\n",
       " 'also fails',\n",
       " 'also feature',\n",
       " 'also featured',\n",
       " 'also feel',\n",
       " 'also find',\n",
       " 'also first',\n",
       " 'also found',\n",
       " 'also funny',\n",
       " 'also get',\n",
       " 'also give',\n",
       " 'also given',\n",
       " 'also go',\n",
       " 'also good',\n",
       " 'also great',\n",
       " 'also happens',\n",
       " 'also help',\n",
       " 'also impressive',\n",
       " 'also included',\n",
       " 'also includes',\n",
       " 'also interesting',\n",
       " 'also involved',\n",
       " 'also know',\n",
       " 'also like',\n",
       " 'also liked',\n",
       " 'also look',\n",
       " 'also made',\n",
       " 'also make',\n",
       " 'also making',\n",
       " 'also manages',\n",
       " 'also meet',\n",
       " 'also much',\n",
       " 'also nice',\n",
       " 'also note',\n",
       " 'also offer',\n",
       " 'also part',\n",
       " 'also play',\n",
       " 'also played',\n",
       " 'also point',\n",
       " 'also pretty',\n",
       " 'also provides',\n",
       " 'also put',\n",
       " 'also quite',\n",
       " 'also rather',\n",
       " 'also scene',\n",
       " 'also see',\n",
       " 'also seems',\n",
       " 'also show',\n",
       " 'also take',\n",
       " 'also there',\n",
       " 'also try',\n",
       " 'also turn',\n",
       " 'also want',\n",
       " 'also well',\n",
       " 'also work',\n",
       " 'also written',\n",
       " 'also wrote',\n",
       " 'alter ego',\n",
       " 'alternate reality',\n",
       " 'although first',\n",
       " 'although get',\n",
       " 'although good',\n",
       " 'although he',\n",
       " 'although know',\n",
       " 'although many',\n",
       " 'although may',\n",
       " 'although moment',\n",
       " 'although much',\n",
       " 'although never',\n",
       " 'although there',\n",
       " 'although think',\n",
       " 'although time',\n",
       " 'although would',\n",
       " 'always get',\n",
       " 'always great',\n",
       " 'always know',\n",
       " 'always reliable',\n",
       " 'always right',\n",
       " 'always seems',\n",
       " 'always wanted',\n",
       " 'amanda detmer',\n",
       " 'amanda peet',\n",
       " 'amazing potent',\n",
       " 'amazing thing',\n",
       " 'amazing visuals',\n",
       " 'america make',\n",
       " 'america sweetheart',\n",
       " 'american action',\n",
       " 'american audience',\n",
       " 'american beauty',\n",
       " 'american cinema',\n",
       " 'american dream',\n",
       " 'american history',\n",
       " 'american outlaw',\n",
       " 'american pie',\n",
       " 'american politics',\n",
       " 'american pop',\n",
       " 'american psycho',\n",
       " 'american quilt',\n",
       " 'american release',\n",
       " 'american society',\n",
       " 'american southwest',\n",
       " 'american town',\n",
       " 'american version',\n",
       " 'american werewolf',\n",
       " 'amidala natalie',\n",
       " 'among best',\n",
       " 'among many',\n",
       " 'among others',\n",
       " 'among people',\n",
       " 'among thing',\n",
       " 'amount money',\n",
       " 'amount nothing',\n",
       " 'amount time',\n",
       " 'amusement park',\n",
       " 'amusing moment',\n",
       " 'amusing scene',\n",
       " 'amy heckerling',\n",
       " 'amy smart',\n",
       " 'anakin skywalker',\n",
       " 'ancient chinese',\n",
       " 'and coming',\n",
       " 'and ends',\n",
       " 'and half',\n",
       " 'and or',\n",
       " 'and out',\n",
       " 'and true',\n",
       " 'and white',\n",
       " 'andie macdowell',\n",
       " 'andrew davis',\n",
       " 'andrew kevin',\n",
       " 'andrew niccol',\n",
       " 'andromeda strain',\n",
       " 'andy garcia',\n",
       " 'angel death',\n",
       " 'angela bassett',\n",
       " 'angela featherstone',\n",
       " 'angelina jolie',\n",
       " 'angry inch',\n",
       " 'animated feature',\n",
       " 'animated series',\n",
       " 'animated version',\n",
       " 'animation first',\n",
       " 'ann miller',\n",
       " 'anna king',\n",
       " 'anne bancroft',\n",
       " 'anne heche',\n",
       " 'anne moss',\n",
       " 'annette bening',\n",
       " 'another action',\n",
       " 'another alien',\n",
       " 'another another',\n",
       " 'another chance',\n",
       " 'another example',\n",
       " 'another girl',\n",
       " 'another good',\n",
       " 'another great',\n",
       " 'another level',\n",
       " 'another long',\n",
       " 'another man',\n",
       " 'another oscar',\n",
       " 'another person',\n",
       " 'another problem',\n",
       " 'another recent',\n",
       " 'another scene',\n",
       " 'another sequel',\n",
       " 'another side',\n",
       " 'another small',\n",
       " 'another story',\n",
       " 'another subplot',\n",
       " 'another thing',\n",
       " 'another time',\n",
       " 'another two',\n",
       " 'another woman',\n",
       " 'another world',\n",
       " 'another young',\n",
       " 'answer question',\n",
       " 'anthony anderson',\n",
       " 'anthony heald',\n",
       " 'anthony hopkins',\n",
       " 'anti climactic',\n",
       " 'anti hero',\n",
       " 'anti war',\n",
       " 'antonio banderas',\n",
       " 'any given',\n",
       " 'anybody else',\n",
       " 'anyone age',\n",
       " 'anyone audience',\n",
       " 'anyone care',\n",
       " 'anyone could',\n",
       " 'anyone else',\n",
       " 'anyone even',\n",
       " 'anyone ever',\n",
       " 'anyone familiar',\n",
       " 'anyone know',\n",
       " 'anyone like',\n",
       " 'anyone looking',\n",
       " 'anyone read',\n",
       " 'anyone see',\n",
       " 'anyone seen',\n",
       " 'anyone want',\n",
       " 'anyone who',\n",
       " 'anyone would',\n",
       " 'anything else',\n",
       " 'anything except',\n",
       " 'anything get',\n",
       " 'anything interesting',\n",
       " 'anything like',\n",
       " 'anything made',\n",
       " 'anything new',\n",
       " 'anything original',\n",
       " 'anything really',\n",
       " 'anything remotely',\n",
       " 'anything say',\n",
       " 'anything sort',\n",
       " 'anything special',\n",
       " 'anything ve',\n",
       " 'anything want',\n",
       " 'anything would',\n",
       " 'anywhere near',\n",
       " 'apartment building',\n",
       " 'ape man',\n",
       " 'apollo 13',\n",
       " 'apparent lack',\n",
       " 'apparent reason',\n",
       " 'apparently like',\n",
       " 'apparently thought',\n",
       " 'appealing actor',\n",
       " 'appears briefly',\n",
       " 'appears scene',\n",
       " 'appears though',\n",
       " 'apple pie',\n",
       " 'apprentice obi',\n",
       " 'approach work',\n",
       " 'apt pupil',\n",
       " 'aptly named',\n",
       " 'arch enemy',\n",
       " 'argo city',\n",
       " 'arguably best',\n",
       " 'arm dealer',\n",
       " 'arm length',\n",
       " 'arm race',\n",
       " 'armed force',\n",
       " 'armin mueller',\n",
       " 'armored car',\n",
       " 'army deathless',\n",
       " 'army general',\n",
       " 'arnold schwarzenegger',\n",
       " 'around block',\n",
       " 'around city',\n",
       " 'around corner',\n",
       " 'around every',\n",
       " 'around house',\n",
       " 'around including',\n",
       " 'around like',\n",
       " 'around long',\n",
       " 'around looking',\n",
       " 'around much',\n",
       " 'around neck',\n",
       " 'around new',\n",
       " 'around room',\n",
       " 'around seeing',\n",
       " 'around seems',\n",
       " 'around ship',\n",
       " 'around time',\n",
       " 'around town',\n",
       " 'around two',\n",
       " 'around world',\n",
       " 'arrived theater',\n",
       " 'art action',\n",
       " 'art dealer',\n",
       " 'art direction',\n",
       " 'art expert',\n",
       " 'art flick',\n",
       " 'art form',\n",
       " 'art house',\n",
       " 'art jeffries',\n",
       " 'art review',\n",
       " 'art sf',\n",
       " 'art skill',\n",
       " 'art thou',\n",
       " 'art war',\n",
       " 'artemus gordon',\n",
       " 'artie lange',\n",
       " 'artificial intelligence',\n",
       " 'artistic merit',\n",
       " 'as nails',\n",
       " 'ashley judd',\n",
       " 'asian american',\n",
       " 'ask well',\n",
       " 'ask would',\n",
       " 'asking question',\n",
       " 'asks harry',\n",
       " 'aspect life',\n",
       " 'aspect ratio',\n",
       " 'aspect story',\n",
       " 'ass kicking',\n",
       " 'assassination attempt',\n",
       " 'assault precinct',\n",
       " 'assume would',\n",
       " 'asteroid size',\n",
       " 'astronaut wife',\n",
       " 'atlantic city',\n",
       " 'atom egoyan',\n",
       " 'att com',\n",
       " 'attack scene',\n",
       " 'attempt characterization',\n",
       " 'attempt destroy',\n",
       " 'attempt develop',\n",
       " 'attempt development',\n",
       " 'attempt draw',\n",
       " 'attempt escape',\n",
       " 'attempt find',\n",
       " 'attempt gain',\n",
       " 'attempt get',\n",
       " 'attempt give',\n",
       " 'attempt humor',\n",
       " 'attempt inject',\n",
       " 'attempt kill',\n",
       " 'attempt made',\n",
       " 'attempt make',\n",
       " 'attempt rescue',\n",
       " 'attempt show',\n",
       " 'attempt steal',\n",
       " 'attempt use',\n",
       " 'attempted murder',\n",
       " 'attempting make',\n",
       " 'attention detail',\n",
       " 'attention span',\n",
       " 'attitude towards',\n",
       " 'attractive woman',\n",
       " 'audience attention',\n",
       " 'audience can',\n",
       " 'audience could',\n",
       " 'audience enjoy',\n",
       " 'audience even',\n",
       " 'audience expectation',\n",
       " 'audience feel',\n",
       " 'audience find',\n",
       " 'audience get',\n",
       " 'audience know',\n",
       " 'audience laugh',\n",
       " 'audience like',\n",
       " 'audience likely',\n",
       " 'audience may',\n",
       " 'audience member',\n",
       " 'audience much',\n",
       " 'audience must',\n",
       " 'audience participation',\n",
       " 'audience probably',\n",
       " 'audience really',\n",
       " 'audience saw',\n",
       " 'audience see',\n",
       " 'audience seeing',\n",
       " 'audience something',\n",
       " 'audience story',\n",
       " 'audience think',\n",
       " 'audience would',\n",
       " 'audio commentary',\n",
       " 'audio track',\n",
       " 'austin power',\n",
       " 'author review',\n",
       " 'authority figure',\n",
       " 'auto pilot',\n",
       " 'automobile accident',\n",
       " 'available dvd',\n",
       " 'available video',\n",
       " 'avant garde',\n",
       " 'avenge death',\n",
       " 'average american',\n",
       " 'average joe',\n",
       " 'average person',\n",
       " 'average viewer',\n",
       " 'avery brook',\n",
       " 'avoid cost',\n",
       " 'award best',\n",
       " 'award nomination',\n",
       " 'award winner',\n",
       " 'award winning',\n",
       " 'away best',\n",
       " 'away even',\n",
       " 'away home',\n",
       " 'away left',\n",
       " 'away like',\n",
       " 'away much',\n",
       " 'away perhaps',\n",
       " 'away story',\n",
       " 'away though',\n",
       " 'awe inspiring',\n",
       " 'awful lot',\n",
       " 'awful performance',\n",
       " 'awful script',\n",
       " 'ba ku',\n",
       " 'babe pig',\n",
       " 'baby genius',\n",
       " 'baby sitter',\n",
       " 'bachelor party',\n",
       " 'back better',\n",
       " 'back big',\n",
       " 'back course',\n",
       " 'back dead',\n",
       " 'back door',\n",
       " 'back early',\n",
       " 'back earth',\n",
       " 'back enjoy',\n",
       " 'back forth',\n",
       " 'back future',\n",
       " 'back give',\n",
       " 'back haunt',\n",
       " 'back home',\n",
       " 'back life',\n",
       " 'back minor',\n",
       " 'back new',\n",
       " 'back original',\n",
       " 'back room',\n",
       " 'back seat',\n",
       " 'back see',\n",
       " 'back story',\n",
       " 'back time',\n",
       " 'back together',\n",
       " 'back vengeance',\n",
       " 'back watch',\n",
       " 'back world',\n",
       " 'back yard',\n",
       " 'background music',\n",
       " 'bacon give',\n",
       " 'bad acting',\n",
       " 'bad action',\n",
       " 'bad actor',\n",
       " 'bad ass',\n",
       " 'bad bad',\n",
       " 'bad boy',\n",
       " 'bad ca',\n",
       " 'bad case',\n",
       " 'bad could',\n",
       " 'bad day',\n",
       " 'bad decision',\n",
       " 'bad dialogue',\n",
       " 'bad direction',\n",
       " 'bad director',\n",
       " 'bad either',\n",
       " 'bad enough',\n",
       " 'bad even',\n",
       " 'bad fact',\n",
       " 'bad get',\n",
       " 'bad go',\n",
       " 'bad good',\n",
       " 'bad guy',\n",
       " 'bad hair',\n",
       " 'bad happens',\n",
       " 'bad he',\n",
       " 'bad horror',\n",
       " 'bad idea',\n",
       " 'bad joke',\n",
       " 'bad know',\n",
       " 'bad least',\n",
       " 'bad line',\n",
       " 'bad luck',\n",
       " 'bad many',\n",
       " 'bad material',\n",
       " 'bad might',\n",
       " 'bad movie',\n",
       " 'bad name',\n",
       " 'bad news',\n",
       " 'bad nothing',\n",
       " 'bad people',\n",
       " 'bad performance',\n",
       " 'bad plot',\n",
       " 'bad really',\n",
       " 'bad scene',\n",
       " 'bad science',\n",
       " 'bad script',\n",
       " 'bad see',\n",
       " 'bad side',\n",
       " 'bad sign',\n",
       " 'bad since',\n",
       " 'bad special',\n",
       " 'bad story',\n",
       " 'bad taste',\n",
       " 'bad there',\n",
       " 'bad they',\n",
       " 'bad thing',\n",
       " 'bad though',\n",
       " 'bad time',\n",
       " 'bad way',\n",
       " 'bad well',\n",
       " 'bad would',\n",
       " 'bad writing',\n",
       " 'badly acted',\n",
       " 'badly written',\n",
       " 'bag full',\n",
       " 'bail bondsman',\n",
       " 'baker hall',\n",
       " 'balthazar getty',\n",
       " 'band angry',\n",
       " 'band member',\n",
       " 'bang bang',\n",
       " 'bank account',\n",
       " 'bank robber',\n",
       " 'bank robbery',\n",
       " 'bar owner',\n",
       " 'barb wire',\n",
       " 'barbara hershey',\n",
       " 'barbara windsor',\n",
       " 'barber woody',\n",
       " 'bare breast',\n",
       " 'bare knuckle',\n",
       " 'bargain basement',\n",
       " 'barnes peter',\n",
       " 'barry bostwick',\n",
       " 'barry levinson',\n",
       " 'barry pepper',\n",
       " 'barry sonnenfeld',\n",
       " 'baseball bat',\n",
       " 'baseball player',\n",
       " 'based book',\n",
       " 'based comic',\n",
       " 'based novel',\n",
       " 'based real',\n",
       " 'based story',\n",
       " 'based television',\n",
       " 'based true',\n",
       " 'based upon',\n",
       " 'basic instinct',\n",
       " 'basic plot',\n",
       " 'basic premise',\n",
       " 'basic story',\n",
       " 'basketball diary',\n",
       " 'basketball player',\n",
       " 'basketball team',\n",
       " 'bastard carolina',\n",
       " 'bastard quick',\n",
       " 'bastard quickie',\n",
       " 'bathing suit',\n",
       " 'bathroom humor',\n",
       " 'batman forever',\n",
       " 'batman return',\n",
       " 'batman robin',\n",
       " 'batman series',\n",
       " 'battle scene',\n",
       " 'battle sequence',\n",
       " 'battlefield earth',\n",
       " 'baz luhrmann',\n",
       " 'bb gun',\n",
       " 'beast people',\n",
       " 'beat head',\n",
       " 'beat people',\n",
       " 'beautiful girl',\n",
       " 'beautiful intelligent',\n",
       " 'beautiful people',\n",
       " 'beautiful wife',\n",
       " 'beautiful woman',\n",
       " 'beautifully filmed',\n",
       " 'beauty beast',\n",
       " 'beavis butt',\n",
       " 'beavis butthead',\n",
       " 'became clear',\n",
       " 'became popular',\n",
       " 'become best',\n",
       " 'become big',\n",
       " 'become clear',\n",
       " 'become cult',\n",
       " 'become even',\n",
       " 'become friend',\n",
       " 'become good',\n",
       " 'become human',\n",
       " 'become involved',\n",
       " 'become major',\n",
       " 'become part',\n",
       " 'become something',\n",
       " 'becomes almost',\n",
       " 'becomes apparent',\n",
       " 'becomes clear',\n",
       " 'becomes convinced',\n",
       " 'becomes determined',\n",
       " 'becomes even',\n",
       " 'becomes involved',\n",
       " 'becomes quite',\n",
       " 'becomes tedious',\n",
       " 'becomes victim',\n",
       " 'bed together',\n",
       " 'begin end',\n",
       " 'begin fall',\n",
       " 'begin go',\n",
       " 'begin lose',\n",
       " 'begin play',\n",
       " 'begin realize',\n",
       " 'begin suspect',\n",
       " 'begin take',\n",
       " 'beginning end',\n",
       " 'begs question',\n",
       " 'behave like',\n",
       " 'behind bar',\n",
       " 'behind camera',\n",
       " 'behind scene',\n",
       " 'behind the',\n",
       " 'being john',\n",
       " 'bela lugosi',\n",
       " 'belief god',\n",
       " 'believable performance',\n",
       " 'believe actually',\n",
       " 'believe anything',\n",
       " 'believe bad',\n",
       " 'believe could',\n",
       " 'believe first',\n",
       " 'believe he',\n",
       " 'believe look',\n",
       " 'believe say',\n",
       " 'believe see',\n",
       " 'belly laugh',\n",
       " 'ben affleck',\n",
       " 'ben katie',\n",
       " 'ben kingsley',\n",
       " 'ben stiller',\n",
       " 'ben willis',\n",
       " 'beneath surface',\n",
       " 'benefit doubt',\n",
       " 'benicio del',\n",
       " 'benigni guido',\n",
       " 'benny joon',\n",
       " 'bernard bresslaw',\n",
       " 'beside point',\n",
       " 'best 1997',\n",
       " 'best 1998',\n",
       " 'best 80s',\n",
       " 'best acting',\n",
       " 'best action',\n",
       " 'best actor',\n",
       " 'best actress',\n",
       " 'best animated',\n",
       " 'best aspect',\n",
       " 'best bad',\n",
       " 'best best',\n",
       " 'best bit',\n",
       " 'best child',\n",
       " 'best choice',\n",
       " 'best comic',\n",
       " 'best date',\n",
       " 'best day',\n",
       " 'best decade',\n",
       " 'best described',\n",
       " 'best ever',\n",
       " 'best example',\n",
       " 'best friend',\n",
       " 'best known',\n",
       " 'best last',\n",
       " 'best left',\n",
       " 'best like',\n",
       " 'best line',\n",
       " 'best moment',\n",
       " 'best part',\n",
       " 'best performance',\n",
       " 'best picture',\n",
       " 'best remembered',\n",
       " 'best role',\n",
       " 'best scene',\n",
       " 'best science',\n",
       " 'best seller',\n",
       " 'best selling',\n",
       " 'best supporting',\n",
       " 'best thing',\n",
       " ...]"
      ]
     },
     "execution_count": 139,
     "metadata": {},
     "output_type": "execute_result"
    }
   ],
   "source": [
    "[x for x in bow.get_feature_names() if len(x.split())>1]"
   ]
  },
  {
   "cell_type": "markdown",
   "metadata": {},
   "source": [
    "### Term Frequency and Inverse Document Frequency\n",
    "- Term Frequency measures how frequently a term occurs in a document.\n",
    "- Since every document is different in length, it is possible that a term would appear much more times in long documents than shorter ones. Thus, the term frequency is often divided by the document length (aka. the total number of terms in the document) as a way of normalization: \n",
    "\n",
    "        TF(t) = (Number of times term t appears in a document) / (Total number of terms in the document).\n",
    "\n",
    "- Inverse Document Frequency measures how important a term is. While computing TF, all terms are considered equally important. \n",
    "- However it is known that certain terms, such as \"is\", \"of\", and \"that\", may appear a lot of times but have little importance. Thus we need to weigh down the frequent terms while scale up the rare ones, by computing the following: \n",
    "\n",
    "        IDF(t) = log_e(Total number of documents / Number of documents with term t in it)."
   ]
  },
  {
   "cell_type": "markdown",
   "metadata": {},
   "source": [
    "### Term Frequency-Inverse Document Frequency (TF-IDF) - Random Forest\n",
    "- TF-IDF transform can be defined as the product of the term frequency and the inverse document frequency\n",
    "- TfidfTransformer() takes the raw term frequencies from CountVectorizer as input and transforms them into tf-idfs:"
   ]
  },
  {
   "cell_type": "code",
   "execution_count": 140,
   "metadata": {},
   "outputs": [
    {
     "data": {
      "text/plain": [
       "array([[0, 0, 0, ..., 0, 0, 0],\n",
       "       [0, 0, 0, ..., 0, 0, 0],\n",
       "       [0, 0, 0, ..., 0, 0, 0],\n",
       "       ...,\n",
       "       [0, 0, 0, ..., 0, 0, 0],\n",
       "       [0, 0, 0, ..., 0, 0, 0],\n",
       "       [0, 0, 0, ..., 0, 0, 0]], dtype=int64)"
      ]
     },
     "execution_count": 140,
     "metadata": {},
     "output_type": "execute_result"
    }
   ],
   "source": [
    "xtrain"
   ]
  },
  {
   "cell_type": "code",
   "execution_count": 141,
   "metadata": {},
   "outputs": [],
   "source": [
    "tf = TfidfVectorizer(smooth_idf=False, sublinear_tf=False, norm=None, analyzer='word')\n",
    "txt_fitted = tf.fit(x)\n",
    "txt_transformed = txt_fitted.transform(x)"
   ]
  },
  {
   "cell_type": "code",
   "execution_count": 142,
   "metadata": {},
   "outputs": [
    {
     "data": {
      "text/plain": [
       "(2000, 35581)"
      ]
     },
     "execution_count": 142,
     "metadata": {},
     "output_type": "execute_result"
    }
   ],
   "source": [
    "txt_transformed.shape"
   ]
  },
  {
   "cell_type": "code",
   "execution_count": 143,
   "metadata": {},
   "outputs": [
    {
     "data": {
      "text/plain": [
       "array([[0.        , 0.        , 0.        , ..., 0.        , 0.        ,\n",
       "        0.        ],\n",
       "       [0.        , 0.        , 0.        , ..., 0.        , 0.        ,\n",
       "        0.        ],\n",
       "       [0.        , 4.07911388, 0.        , ..., 0.        , 0.        ,\n",
       "        0.        ],\n",
       "       [0.        , 0.        , 0.        , ..., 0.        , 0.        ,\n",
       "        0.        ]])"
      ]
     },
     "execution_count": 143,
     "metadata": {},
     "output_type": "execute_result"
    }
   ],
   "source": [
    "txt_transformed.toarray()[1:5]"
   ]
  },
  {
   "cell_type": "code",
   "execution_count": 144,
   "metadata": {},
   "outputs": [
    {
     "name": "stdout",
     "output_type": "stream",
     "text": [
      "Features with lowest idf:\n",
      "['like' 'time' 'get' 'make' 'even' 'good' 'scene' 'much' 'would' 'story']\n",
      "\n",
      "Features with highest idf:\n",
      "['pyjama' 'pyle' 'forefather' 'pyre' 'pyroclastic' 'foredoomed'\n",
      " 'pyrotechnical' 'pysche' 'foregrounds' 'zzzzzzz']\n"
     ]
    }
   ],
   "source": [
    "# get feature names\n",
    "feature_names = np.array(tf.get_feature_names())\n",
    "sorted_by_idf = np.argsort(tf.idf_)\n",
    "print(\"Features with lowest idf:\\n{}\".format(\n",
    "       feature_names[sorted_by_idf[:10]]))\n",
    "print(\"\\nFeatures with highest idf:\\n{}\".format(\n",
    "       feature_names[sorted_by_idf[-10:]]))"
   ]
  },
  {
   "cell_type": "code",
   "execution_count": 145,
   "metadata": {},
   "outputs": [],
   "source": [
    "xtrain, xtest, ytrain, ytest = train_test_split \\\n",
    "                (txt_transformed.toarray(), y,test_size=0.3, \\\n",
    "                random_state=1000)\n"
   ]
  },
  {
   "cell_type": "code",
   "execution_count": 146,
   "metadata": {},
   "outputs": [
    {
     "name": "stdout",
     "output_type": "stream",
     "text": [
      "No. of True Cases in training data set for 708\n",
      "No. of True Cases in testing data set for 292\n",
      "Ratio of True Cases in training data set:  0.51\n",
      "Ratio of True Cases in testing data set:  0.49\n"
     ]
    }
   ],
   "source": [
    "print (\"No. of True Cases in training data set for\" , ytrain.sum())\n",
    "print (\"No. of True Cases in testing data set for\",ytest.sum())\n",
    "\n",
    "print (\"Ratio of True Cases in training data set: \" , round(ytrain.sum()/len(ytrain),2))\n",
    "print (\"Ratio of True Cases in testing data set: \", round(ytest.sum()/len(ytest),2))"
   ]
  },
  {
   "cell_type": "code",
   "execution_count": 147,
   "metadata": {
    "scrolled": true
   },
   "outputs": [
    {
     "name": "stdout",
     "output_type": "stream",
     "text": [
      "Training the random forest...\n"
     ]
    },
    {
     "name": "stderr",
     "output_type": "stream",
     "text": [
      "[Parallel(n_jobs=1)]: Done 1000 out of 1000 | elapsed:  1.0min finished\n"
     ]
    }
   ],
   "source": [
    "print( \"Training the random forest...\")\n",
    "from sklearn.ensemble import RandomForestClassifier\n",
    "\n",
    "# Initialize a Random Forest classifier with 100 trees\n",
    "forest = RandomForestClassifier(n_estimators = 1000,verbose=True) \n",
    "\n",
    "# Fit the forest to the training set, using the bag of words as \n",
    "# features and the sentiment labels as the response variable\n",
    "#\n",
    "# This may take a few minutes to run\n",
    "forest = forest.fit( xtrain, ytrain )"
   ]
  },
  {
   "cell_type": "code",
   "execution_count": 148,
   "metadata": {},
   "outputs": [
    {
     "name": "stderr",
     "output_type": "stream",
     "text": [
      "[Parallel(n_jobs=1)]: Done 1000 out of 1000 | elapsed:    0.2s finished\n",
      "[Parallel(n_jobs=1)]: Done 1000 out of 1000 | elapsed:    0.6s finished\n",
      "[Parallel(n_jobs=1)]: Done 1000 out of 1000 | elapsed:    0.2s finished\n",
      "[Parallel(n_jobs=1)]: Done 1000 out of 1000 | elapsed:    0.6s finished\n"
     ]
    }
   ],
   "source": [
    "prob_test  = forest.predict_proba(xtest)\n",
    "prob_train = forest.predict_proba(xtrain)\n",
    "\n",
    "#Probability Threshold = 0.5 (default) \n",
    "pred_test  = forest.predict(xtest)\n",
    "pred_train = forest.predict(xtrain)"
   ]
  },
  {
   "cell_type": "code",
   "execution_count": 149,
   "metadata": {},
   "outputs": [
    {
     "name": "stdout",
     "output_type": "stream",
     "text": [
      "Model ROC-AUC score for training sample: 1.000\n",
      "Model ROC-AUC score for test sample: 0.924\n"
     ]
    }
   ],
   "source": [
    "auc_score = roc_auc_score(ytrain, prob_train[:,1])\n",
    "print (\"Model ROC-AUC score for training sample: %.3f\" \\\n",
    "                                      % auc_score)\n",
    "auc_score = roc_auc_score(ytest, prob_test[:,1])\n",
    "print (\"Model ROC-AUC score for test sample: %.3f\" \\\n",
    "                                      % auc_score)"
   ]
  },
  {
   "cell_type": "code",
   "execution_count": 150,
   "metadata": {},
   "outputs": [
    {
     "name": "stdout",
     "output_type": "stream",
     "text": [
      "Train Accuracy ::  1.0\n",
      "Test Accuracy ::  0.84\n"
     ]
    }
   ],
   "source": [
    "#Calculate train and test accuracy\n",
    "train_acc = accuracy_score(ytrain, pred_train)\n",
    "test_acc  = accuracy_score(ytest, pred_test)\n",
    "print (\"Train Accuracy :: \", train_acc)\n",
    "print (\"Test Accuracy :: \", test_acc)"
   ]
  },
  {
   "cell_type": "code",
   "execution_count": 151,
   "metadata": {},
   "outputs": [
    {
     "name": "stdout",
     "output_type": "stream",
     "text": [
      "Top 15 - RF Feature Importance\n"
     ]
    },
    {
     "data": {
      "text/html": [
       "<style  type=\"text/css\" >\n",
       "    #T_4b4d1bee_e7ea_11e8_9aa2_c85b76e35b9erow0_col1 {\n",
       "            background-color:  #48a848;\n",
       "        }    #T_4b4d1bee_e7ea_11e8_9aa2_c85b76e35b9erow1_col1 {\n",
       "            background-color:  #70be70;\n",
       "        }    #T_4b4d1bee_e7ea_11e8_9aa2_c85b76e35b9erow2_col1 {\n",
       "            background-color:  #88cb88;\n",
       "        }    #T_4b4d1bee_e7ea_11e8_9aa2_c85b76e35b9erow3_col1 {\n",
       "            background-color:  #a4dba4;\n",
       "        }    #T_4b4d1bee_e7ea_11e8_9aa2_c85b76e35b9erow4_col1 {\n",
       "            background-color:  #a9dea9;\n",
       "        }    #T_4b4d1bee_e7ea_11e8_9aa2_c85b76e35b9erow5_col1 {\n",
       "            background-color:  #aadeaa;\n",
       "        }    #T_4b4d1bee_e7ea_11e8_9aa2_c85b76e35b9erow6_col1 {\n",
       "            background-color:  #b0e1b0;\n",
       "        }    #T_4b4d1bee_e7ea_11e8_9aa2_c85b76e35b9erow7_col1 {\n",
       "            background-color:  #b0e2b0;\n",
       "        }    #T_4b4d1bee_e7ea_11e8_9aa2_c85b76e35b9erow8_col1 {\n",
       "            background-color:  #b7e5b7;\n",
       "        }    #T_4b4d1bee_e7ea_11e8_9aa2_c85b76e35b9erow9_col1 {\n",
       "            background-color:  #b9e7b9;\n",
       "        }    #T_4b4d1bee_e7ea_11e8_9aa2_c85b76e35b9erow10_col1 {\n",
       "            background-color:  #bbe8bb;\n",
       "        }    #T_4b4d1bee_e7ea_11e8_9aa2_c85b76e35b9erow11_col1 {\n",
       "            background-color:  #bce8bc;\n",
       "        }    #T_4b4d1bee_e7ea_11e8_9aa2_c85b76e35b9erow12_col1 {\n",
       "            background-color:  #bce8bc;\n",
       "        }    #T_4b4d1bee_e7ea_11e8_9aa2_c85b76e35b9erow13_col1 {\n",
       "            background-color:  #bce8bc;\n",
       "        }    #T_4b4d1bee_e7ea_11e8_9aa2_c85b76e35b9erow14_col1 {\n",
       "            background-color:  #bde9bd;\n",
       "        }    #T_4b4d1bee_e7ea_11e8_9aa2_c85b76e35b9erow15_col1 {\n",
       "            background-color:  #bde9bd;\n",
       "        }    #T_4b4d1bee_e7ea_11e8_9aa2_c85b76e35b9erow16_col1 {\n",
       "            background-color:  #bde9bd;\n",
       "        }    #T_4b4d1bee_e7ea_11e8_9aa2_c85b76e35b9erow17_col1 {\n",
       "            background-color:  #bfeabf;\n",
       "        }    #T_4b4d1bee_e7ea_11e8_9aa2_c85b76e35b9erow18_col1 {\n",
       "            background-color:  #c0eac0;\n",
       "        }    #T_4b4d1bee_e7ea_11e8_9aa2_c85b76e35b9erow19_col1 {\n",
       "            background-color:  #c2ebc2;\n",
       "        }</style>  \n",
       "<table id=\"T_4b4d1bee_e7ea_11e8_9aa2_c85b76e35b9e\" > \n",
       "<thead>    <tr> \n",
       "        <th class=\"blank level0\" ></th> \n",
       "        <th class=\"col_heading level0 col0\" >Feature</th> \n",
       "        <th class=\"col_heading level0 col1\" >Var Imp</th> \n",
       "    </tr></thead> \n",
       "<tbody>    <tr> \n",
       "        <th id=\"T_4b4d1bee_e7ea_11e8_9aa2_c85b76e35b9elevel0_row0\" class=\"row_heading level0 row0\" >0</th> \n",
       "        <td id=\"T_4b4d1bee_e7ea_11e8_9aa2_c85b76e35b9erow0_col0\" class=\"data row0 col0\" >bad</td> \n",
       "        <td id=\"T_4b4d1bee_e7ea_11e8_9aa2_c85b76e35b9erow0_col1\" class=\"data row0 col1\" >0.00607658</td> \n",
       "    </tr>    <tr> \n",
       "        <th id=\"T_4b4d1bee_e7ea_11e8_9aa2_c85b76e35b9elevel0_row1\" class=\"row_heading level0 row1\" >1</th> \n",
       "        <td id=\"T_4b4d1bee_e7ea_11e8_9aa2_c85b76e35b9erow1_col0\" class=\"data row1 col0\" >worst</td> \n",
       "        <td id=\"T_4b4d1bee_e7ea_11e8_9aa2_c85b76e35b9erow1_col1\" class=\"data row1 col1\" >0.00469758</td> \n",
       "    </tr>    <tr> \n",
       "        <th id=\"T_4b4d1bee_e7ea_11e8_9aa2_c85b76e35b9elevel0_row2\" class=\"row_heading level0 row2\" >2</th> \n",
       "        <td id=\"T_4b4d1bee_e7ea_11e8_9aa2_c85b76e35b9erow2_col0\" class=\"data row2 col0\" >boring</td> \n",
       "        <td id=\"T_4b4d1bee_e7ea_11e8_9aa2_c85b76e35b9erow2_col1\" class=\"data row2 col1\" >0.00386609</td> \n",
       "    </tr>    <tr> \n",
       "        <th id=\"T_4b4d1bee_e7ea_11e8_9aa2_c85b76e35b9elevel0_row3\" class=\"row_heading level0 row3\" >3</th> \n",
       "        <td id=\"T_4b4d1bee_e7ea_11e8_9aa2_c85b76e35b9erow3_col0\" class=\"data row3 col0\" >stupid</td> \n",
       "        <td id=\"T_4b4d1bee_e7ea_11e8_9aa2_c85b76e35b9erow3_col1\" class=\"data row3 col1\" >0.00292356</td> \n",
       "    </tr>    <tr> \n",
       "        <th id=\"T_4b4d1bee_e7ea_11e8_9aa2_c85b76e35b9elevel0_row4\" class=\"row_heading level0 row4\" >4</th> \n",
       "        <td id=\"T_4b4d1bee_e7ea_11e8_9aa2_c85b76e35b9erow4_col0\" class=\"data row4 col0\" >plot</td> \n",
       "        <td id=\"T_4b4d1bee_e7ea_11e8_9aa2_c85b76e35b9erow4_col1\" class=\"data row4 col1\" >0.00272594</td> \n",
       "    </tr>    <tr> \n",
       "        <th id=\"T_4b4d1bee_e7ea_11e8_9aa2_c85b76e35b9elevel0_row5\" class=\"row_heading level0 row5\" >5</th> \n",
       "        <td id=\"T_4b4d1bee_e7ea_11e8_9aa2_c85b76e35b9erow5_col0\" class=\"data row5 col0\" >mess</td> \n",
       "        <td id=\"T_4b4d1bee_e7ea_11e8_9aa2_c85b76e35b9erow5_col1\" class=\"data row5 col1\" >0.00268919</td> \n",
       "    </tr>    <tr> \n",
       "        <th id=\"T_4b4d1bee_e7ea_11e8_9aa2_c85b76e35b9elevel0_row6\" class=\"row_heading level0 row6\" >6</th> \n",
       "        <td id=\"T_4b4d1bee_e7ea_11e8_9aa2_c85b76e35b9erow6_col0\" class=\"data row6 col0\" >waste</td> \n",
       "        <td id=\"T_4b4d1bee_e7ea_11e8_9aa2_c85b76e35b9erow6_col1\" class=\"data row6 col1\" >0.00252514</td> \n",
       "    </tr>    <tr> \n",
       "        <th id=\"T_4b4d1bee_e7ea_11e8_9aa2_c85b76e35b9elevel0_row7\" class=\"row_heading level0 row7\" >7</th> \n",
       "        <td id=\"T_4b4d1bee_e7ea_11e8_9aa2_c85b76e35b9erow7_col0\" class=\"data row7 col0\" >also</td> \n",
       "        <td id=\"T_4b4d1bee_e7ea_11e8_9aa2_c85b76e35b9erow7_col1\" class=\"data row7 col1\" >0.00249119</td> \n",
       "    </tr>    <tr> \n",
       "        <th id=\"T_4b4d1bee_e7ea_11e8_9aa2_c85b76e35b9elevel0_row8\" class=\"row_heading level0 row8\" >8</th> \n",
       "        <td id=\"T_4b4d1bee_e7ea_11e8_9aa2_c85b76e35b9erow8_col0\" class=\"data row8 col0\" >life</td> \n",
       "        <td id=\"T_4b4d1bee_e7ea_11e8_9aa2_c85b76e35b9erow8_col1\" class=\"data row8 col1\" >0.0022665</td> \n",
       "    </tr>    <tr> \n",
       "        <th id=\"T_4b4d1bee_e7ea_11e8_9aa2_c85b76e35b9elevel0_row9\" class=\"row_heading level0 row9\" >9</th> \n",
       "        <td id=\"T_4b4d1bee_e7ea_11e8_9aa2_c85b76e35b9erow9_col0\" class=\"data row9 col0\" >excellent</td> \n",
       "        <td id=\"T_4b4d1bee_e7ea_11e8_9aa2_c85b76e35b9erow9_col1\" class=\"data row9 col1\" >0.00217535</td> \n",
       "    </tr>    <tr> \n",
       "        <th id=\"T_4b4d1bee_e7ea_11e8_9aa2_c85b76e35b9elevel0_row10\" class=\"row_heading level0 row10\" >10</th> \n",
       "        <td id=\"T_4b4d1bee_e7ea_11e8_9aa2_c85b76e35b9erow10_col0\" class=\"data row10 col0\" >well</td> \n",
       "        <td id=\"T_4b4d1bee_e7ea_11e8_9aa2_c85b76e35b9erow10_col1\" class=\"data row10 col1\" >0.00210821</td> \n",
       "    </tr>    <tr> \n",
       "        <th id=\"T_4b4d1bee_e7ea_11e8_9aa2_c85b76e35b9elevel0_row11\" class=\"row_heading level0 row11\" >11</th> \n",
       "        <td id=\"T_4b4d1bee_e7ea_11e8_9aa2_c85b76e35b9erow11_col0\" class=\"data row11 col0\" >performance</td> \n",
       "        <td id=\"T_4b4d1bee_e7ea_11e8_9aa2_c85b76e35b9erow11_col1\" class=\"data row11 col1\" >0.00207814</td> \n",
       "    </tr>    <tr> \n",
       "        <th id=\"T_4b4d1bee_e7ea_11e8_9aa2_c85b76e35b9elevel0_row12\" class=\"row_heading level0 row12\" >12</th> \n",
       "        <td id=\"T_4b4d1bee_e7ea_11e8_9aa2_c85b76e35b9erow12_col0\" class=\"data row12 col0\" >nothing</td> \n",
       "        <td id=\"T_4b4d1bee_e7ea_11e8_9aa2_c85b76e35b9erow12_col1\" class=\"data row12 col1\" >0.00207048</td> \n",
       "    </tr>    <tr> \n",
       "        <th id=\"T_4b4d1bee_e7ea_11e8_9aa2_c85b76e35b9elevel0_row13\" class=\"row_heading level0 row13\" >13</th> \n",
       "        <td id=\"T_4b4d1bee_e7ea_11e8_9aa2_c85b76e35b9erow13_col0\" class=\"data row13 col0\" >lame</td> \n",
       "        <td id=\"T_4b4d1bee_e7ea_11e8_9aa2_c85b76e35b9erow13_col1\" class=\"data row13 col1\" >0.00206098</td> \n",
       "    </tr>    <tr> \n",
       "        <th id=\"T_4b4d1bee_e7ea_11e8_9aa2_c85b76e35b9elevel0_row14\" class=\"row_heading level0 row14\" >14</th> \n",
       "        <td id=\"T_4b4d1bee_e7ea_11e8_9aa2_c85b76e35b9erow14_col0\" class=\"data row14 col0\" >world</td> \n",
       "        <td id=\"T_4b4d1bee_e7ea_11e8_9aa2_c85b76e35b9erow14_col1\" class=\"data row14 col1\" >0.00204524</td> \n",
       "    </tr>    <tr> \n",
       "        <th id=\"T_4b4d1bee_e7ea_11e8_9aa2_c85b76e35b9elevel0_row15\" class=\"row_heading level0 row15\" >15</th> \n",
       "        <td id=\"T_4b4d1bee_e7ea_11e8_9aa2_c85b76e35b9erow15_col0\" class=\"data row15 col0\" >awful</td> \n",
       "        <td id=\"T_4b4d1bee_e7ea_11e8_9aa2_c85b76e35b9erow15_col1\" class=\"data row15 col1\" >0.00203915</td> \n",
       "    </tr>    <tr> \n",
       "        <th id=\"T_4b4d1bee_e7ea_11e8_9aa2_c85b76e35b9elevel0_row16\" class=\"row_heading level0 row16\" >16</th> \n",
       "        <td id=\"T_4b4d1bee_e7ea_11e8_9aa2_c85b76e35b9erow16_col0\" class=\"data row16 col0\" >script</td> \n",
       "        <td id=\"T_4b4d1bee_e7ea_11e8_9aa2_c85b76e35b9erow16_col1\" class=\"data row16 col1\" >0.00203254</td> \n",
       "    </tr>    <tr> \n",
       "        <th id=\"T_4b4d1bee_e7ea_11e8_9aa2_c85b76e35b9elevel0_row17\" class=\"row_heading level0 row17\" >17</th> \n",
       "        <td id=\"T_4b4d1bee_e7ea_11e8_9aa2_c85b76e35b9erow17_col0\" class=\"data row17 col0\" >wasted</td> \n",
       "        <td id=\"T_4b4d1bee_e7ea_11e8_9aa2_c85b76e35b9erow17_col1\" class=\"data row17 col1\" >0.00199225</td> \n",
       "    </tr>    <tr> \n",
       "        <th id=\"T_4b4d1bee_e7ea_11e8_9aa2_c85b76e35b9elevel0_row18\" class=\"row_heading level0 row18\" >18</th> \n",
       "        <td id=\"T_4b4d1bee_e7ea_11e8_9aa2_c85b76e35b9erow18_col0\" class=\"data row18 col0\" >allows</td> \n",
       "        <td id=\"T_4b4d1bee_e7ea_11e8_9aa2_c85b76e35b9erow18_col1\" class=\"data row18 col1\" >0.0019617</td> \n",
       "    </tr>    <tr> \n",
       "        <th id=\"T_4b4d1bee_e7ea_11e8_9aa2_c85b76e35b9elevel0_row19\" class=\"row_heading level0 row19\" >19</th> \n",
       "        <td id=\"T_4b4d1bee_e7ea_11e8_9aa2_c85b76e35b9erow19_col0\" class=\"data row19 col0\" >best</td> \n",
       "        <td id=\"T_4b4d1bee_e7ea_11e8_9aa2_c85b76e35b9erow19_col1\" class=\"data row19 col1\" >0.00188557</td> \n",
       "    </tr></tbody> \n",
       "</table> "
      ],
      "text/plain": [
       "<pandas.io.formats.style.Styler at 0x1ff04739dd8>"
      ]
     },
     "execution_count": 151,
     "metadata": {},
     "output_type": "execute_result"
    }
   ],
   "source": [
    "#Define colormap\n",
    "cm = sns.light_palette(\"green\", as_cmap=True)\n",
    "var_imp_rf = pd.DataFrame({'Feature':txt_fitted.get_feature_names(),'Var Imp':forest.feature_importances_}).sort_values(by='Var Imp',ascending = False).reset_index(drop=True)\n",
    "print(\"Top 15 - RF Feature Importance\")\n",
    "var_imp_rf.head(20).style.background_gradient(cmap = cm, high = 0.6, low = 0.3, axis = 0)"
   ]
  },
  {
   "cell_type": "markdown",
   "metadata": {},
   "source": [
    "### NLTK VADER Sentiment Intensity Analyzer:\n",
    "- Valence Aware Dictionary and sEntiment Reasoner\n",
    "- It is a lexicon and rule-based sentiment analysis tool specifically created for working with messy social media texts.\n",
    "- VADER belongs to a type of sentiment analysis that is based on lexicons of sentiment-related words. \n",
    "- In this approach, each of the words in the lexicon is rated as to whether it is positive or negative, and in many cases, how positive or negative."
   ]
  },
  {
   "cell_type": "code",
   "execution_count": 152,
   "metadata": {},
   "outputs": [
    {
     "name": "stdout",
     "output_type": "stream",
     "text": [
      "[nltk_data] Downloading package vader_lexicon to C:\\Users\\save\n",
      "[nltk_data]     advait\\AppData\\Roaming\\nltk_data...\n",
      "[nltk_data]   Package vader_lexicon is already up-to-date!\n"
     ]
    },
    {
     "data": {
      "text/plain": [
       "True"
      ]
     },
     "execution_count": 152,
     "metadata": {},
     "output_type": "execute_result"
    }
   ],
   "source": [
    "nltk.download('vader_lexicon')"
   ]
  },
  {
   "cell_type": "code",
   "execution_count": 153,
   "metadata": {},
   "outputs": [],
   "source": [
    "vader = SentimentIntensityAnalyzer()"
   ]
  },
  {
   "cell_type": "code",
   "execution_count": 154,
   "metadata": {},
   "outputs": [
    {
     "data": {
      "text/plain": [
       "'got mail work alot better deserves order make success cast two extremely popular attractive star share screen two hour collect profit real acting involved original inventive bone body basically complete re-shoot shop around corner adding modern twist essentially go defies concept good contemporary filmmaking overly sentimental time terribly mushy mention manipulative oh enjoyable manipulation must something casting manipulation make work well absolutely hated previous ryan/hanks teaming sleepless seattle directing helmed woman quite yet figured liked much got mail really important like something much even question storyline cliched come tom hank play joe fox insanely likeable owner discount book chain meg ryan play kathleen kelley even insanely likeable proprietor family-run child book shop called nice homage shop around corner fox kelley soon become bitter rival new fox book store opening right across block small business little know already love internet neither party know person true identity rest story important serve mere backdrop two star share screen sure mildly interesting subplots fail comparison utter cuteness main relationship course lead predictable climax foreseeable ending damn cute well-done doubt entire year contains scene evokes much pure joy part ryan discovers true identity online love filled lack better word happiness first time year actually left theater smiling'"
      ]
     },
     "execution_count": 154,
     "metadata": {},
     "output_type": "execute_result"
    }
   ],
   "source": [
    "x.tolist()[2]"
   ]
  },
  {
   "cell_type": "code",
   "execution_count": 155,
   "metadata": {},
   "outputs": [
    {
     "data": {
      "text/plain": [
       "{'compound': 0.9956, 'neg': 0.111, 'neu': 0.557, 'pos': 0.333}"
      ]
     },
     "execution_count": 155,
     "metadata": {},
     "output_type": "execute_result"
    }
   ],
   "source": [
    "ss = vader.polarity_scores(x.tolist()[2])\n",
    "ss"
   ]
  },
  {
   "cell_type": "code",
   "execution_count": 156,
   "metadata": {},
   "outputs": [
    {
     "name": "stdout",
     "output_type": "stream",
     "text": [
      "1 1\n"
     ]
    }
   ],
   "source": [
    "def vader_polarity(text):\n",
    "    \"\"\" Transform the output to a binary 0/1 result \"\"\"\n",
    "    score = vader.polarity_scores(text)\n",
    "    return 1 if score['pos'] > score['neg'] else 0\n",
    " \n",
    "print (vader_polarity(x.tolist()[2]), y[2]) # 0 1"
   ]
  },
  {
   "cell_type": "markdown",
   "metadata": {},
   "source": [
    "Predict and score on movie reviews dataset using VADER:"
   ]
  },
  {
   "cell_type": "code",
   "execution_count": 157,
   "metadata": {},
   "outputs": [],
   "source": [
    "pred_y = [vader_polarity(text) for text in x.tolist()]"
   ]
  },
  {
   "cell_type": "code",
   "execution_count": 158,
   "metadata": {},
   "outputs": [
    {
     "name": "stdout",
     "output_type": "stream",
     "text": [
      "0.5975\n"
     ]
    }
   ],
   "source": [
    "print (accuracy_score(y, pred_y))"
   ]
  },
  {
   "cell_type": "code",
   "execution_count": 159,
   "metadata": {},
   "outputs": [],
   "source": [
    "sentences = [\"VADER is smart, handsome, and funny.\", # positive sentence example\n",
    "    \"VADER is smart, handsome, and funny!\", # punctuation emphasis handled correctly (sentiment intensity adjusted)\n",
    "    \"VADER is very smart, handsome, and funny.\",  # booster words handled correctly (sentiment intensity adjusted)\n",
    "    \"VADER is VERY SMART, handsome, and FUNNY.\",  # emphasis for ALLCAPS handled\n",
    "    \"VADER is VERY SMART, handsome, and FUNNY!!!\",# combination of signals - VADER appropriately adjusts intensity\n",
    "    \"VADER is VERY SMART, really handsome, and INCREDIBLY FUNNY!!!\",# booster words & punctuation make this close to ceiling for score\n",
    "    \"The book was good.\",         # positive sentence\n",
    "    \"The book was kind of good.\", # qualified positive sentence is handled correctly (intensity adjusted)\n",
    "    \"The plot was good, but the characters are uncompelling and the dialog is not great.\", # mixed negation sentence\n",
    "    \"A really bad, horrible book.\",       # negative sentence with booster words\n",
    "    \"At least it isn't a horrible book.\", # negated negative sentence with contraction\n",
    "    \":) and :D\",     # emoticons handled\n",
    "    \"\",              # an empty string is correctly handled\n",
    "    \"Today sux\",     #  negative slang handled\n",
    "    \"Today sux!\",    #  negative slang with punctuation emphasis handled\n",
    "    \"Today SUX!\",    #  negative slang with capitalization emphasis\n",
    "    \"Today kinda sux! But I'll get by, lol\" # mixed sentiment example with slang and constrastive conjunction \"but\"\n",
    " ]\n",
    "\n",
    "#Reference: http://www.nltk.org/howto/sentiment.html"
   ]
  },
  {
   "cell_type": "code",
   "execution_count": 160,
   "metadata": {},
   "outputs": [
    {
     "name": "stdout",
     "output_type": "stream",
     "text": [
      "VADER is smart, handsome, and funny.\n",
      "compound: 0.8316, neg: 0.0, neu: 0.254, pos: 0.746, \n",
      "VADER is smart, handsome, and funny!\n",
      "compound: 0.8439, neg: 0.0, neu: 0.248, pos: 0.752, \n",
      "VADER is very smart, handsome, and funny.\n",
      "compound: 0.8545, neg: 0.0, neu: 0.299, pos: 0.701, \n",
      "VADER is VERY SMART, handsome, and FUNNY.\n",
      "compound: 0.9227, neg: 0.0, neu: 0.246, pos: 0.754, \n",
      "VADER is VERY SMART, handsome, and FUNNY!!!\n",
      "compound: 0.9342, neg: 0.0, neu: 0.233, pos: 0.767, \n",
      "VADER is VERY SMART, really handsome, and INCREDIBLY FUNNY!!!\n",
      "compound: 0.9469, neg: 0.0, neu: 0.294, pos: 0.706, \n",
      "The book was good.\n",
      "compound: 0.4404, neg: 0.0, neu: 0.508, pos: 0.492, \n",
      "The book was kind of good.\n",
      "compound: 0.3832, neg: 0.0, neu: 0.657, pos: 0.343, \n",
      "The plot was good, but the characters are uncompelling and the dialog is not great.\n",
      "compound: -0.7042, neg: 0.327, neu: 0.579, pos: 0.094, \n",
      "A really bad, horrible book.\n",
      "compound: -0.8211, neg: 0.791, neu: 0.209, pos: 0.0, \n",
      "At least it isn't a horrible book.\n",
      "compound: 0.431, neg: 0.0, neu: 0.637, pos: 0.363, \n",
      ":) and :D\n",
      "compound: 0.7925, neg: 0.0, neu: 0.124, pos: 0.876, \n",
      "\n",
      "compound: 0.0, neg: 0.0, neu: 0.0, pos: 0.0, \n",
      "Today sux\n",
      "compound: -0.3612, neg: 0.714, neu: 0.286, pos: 0.0, \n",
      "Today sux!\n",
      "compound: -0.4199, neg: 0.736, neu: 0.264, pos: 0.0, \n",
      "Today SUX!\n",
      "compound: -0.5461, neg: 0.779, neu: 0.221, pos: 0.0, \n",
      "Today kinda sux! But I'll get by, lol\n",
      "compound: 0.2228, neg: 0.195, neu: 0.531, pos: 0.274, \n"
     ]
    }
   ],
   "source": [
    "for sentence in sentences:\n",
    "    print(sentence)\n",
    "    ss = vader.polarity_scores(sentence)\n",
    "    for k in sorted(ss):\n",
    "        print('{0}: {1}, '.format(k, ss[k]), end='')\n",
    "    print()"
   ]
  },
  {
   "cell_type": "markdown",
   "metadata": {},
   "source": [
    "### Topic Modelling using Latent Dirichlet Allocation"
   ]
  },
  {
   "cell_type": "markdown",
   "metadata": {},
   "source": [
    "__Create the Dictionary and Corpus needed for Topic Modeling:__\n",
    "- Gensim creates a unique id for each word in the document. The produced corpus shown above is a mapping of (word_id, word_frequency).\n",
    "- For example, (0, 1) above implies, word id 0 occurs once in the first document. Likewise, word id 1 occurs twice and so on.\n",
    "- This is used as the input by the LDA model."
   ]
  },
  {
   "cell_type": "code",
   "execution_count": 161,
   "metadata": {
    "scrolled": true
   },
   "outputs": [
    {
     "data": {
      "text/plain": [
       "[[(\"'\", 1),\n",
       "  (\"'80s\", 1),\n",
       "  (\"'ll\", 1),\n",
       "  (\"'re\", 1),\n",
       "  ('00', 1),\n",
       "  ('102', 1),\n",
       "  ('12-part', 1),\n",
       "  ('1888', 1),\n",
       "  ('2', 2),\n",
       "  ('30', 1),\n",
       "  ('500', 1),\n",
       "  ('abberline', 2),\n",
       "  ('ably', 1),\n",
       "  ('absinthe', 1),\n",
       "  ('accent', 2),\n",
       "  ('act', 1),\n",
       "  ('acting', 1),\n",
       "  ('actually', 1),\n",
       "  ('adapted', 1),\n",
       "  ('alan', 1),\n",
       "  ('albert', 1),\n",
       "  ('allen', 1),\n",
       "  ('almost', 1),\n",
       "  ('amount', 1),\n",
       "  ('another', 1),\n",
       "  ('anyone', 1),\n",
       "  ('anything', 1),\n",
       "  ('ape', 1),\n",
       "  ('appearance', 1),\n",
       "  ('arriving', 1),\n",
       "  ('arthouse', 1),\n",
       "  ('attempt', 1),\n",
       "  ('back', 1),\n",
       "  ('bad', 1),\n",
       "  ('batman', 1),\n",
       "  ('befriends', 1),\n",
       "  ('behind', 1),\n",
       "  ('better', 1),\n",
       "  ('big', 1),\n",
       "  ('black-and-white', 1),\n",
       "  ('blame', 1),\n",
       "  ('bleak', 1),\n",
       "  ('blindly', 1),\n",
       "  ('block', 1),\n",
       "  ('blow', 1),\n",
       "  ('book', 4),\n",
       "  ('bother', 1),\n",
       "  ('briefed', 1),\n",
       "  ('british', 1),\n",
       "  ('brother', 1),\n",
       "  ('brought', 1),\n",
       "  ('burton', 1),\n",
       "  ('ca', 1),\n",
       "  ('call', 1),\n",
       "  ('called', 2),\n",
       "  ('campbell', 3),\n",
       "  ('capable', 1),\n",
       "  ('capture', 1),\n",
       "  ('car/who', 1),\n",
       "  ('carrot', 1),\n",
       "  ('carving', 1),\n",
       "  ('case', 1),\n",
       "  ('casper', 1),\n",
       "  ('casting', 1),\n",
       "  ('certainly', 1),\n",
       "  ('child', 1),\n",
       "  ('chooses', 1),\n",
       "  ('cinematographer', 1),\n",
       "  ('cloaking', 1),\n",
       "  ('color', 1),\n",
       "  ('coltrane', 1),\n",
       "  ('comic', 5),\n",
       "  ('comment', 1),\n",
       "  ('committing', 1),\n",
       "  ('comparison', 1),\n",
       "  ('completely', 1),\n",
       "  ('consist', 1),\n",
       "  ('content', 1),\n",
       "  ('copious', 1),\n",
       "  ('copper', 1),\n",
       "  ('could', 1),\n",
       "  ('course', 1),\n",
       "  ('crack', 1),\n",
       "  ('crazy', 1),\n",
       "  ('created', 1),\n",
       "  ('creepy', 1),\n",
       "  ('crime', 2),\n",
       "  ('cringed', 1),\n",
       "  ('crowd', 1),\n",
       "  ('dalmatian', 1),\n",
       "  ('dark', 1),\n",
       "  ('day', 1),\n",
       "  ('deftly', 1),\n",
       "  ('deming', 1),\n",
       "  ('depp', 2),\n",
       "  ('design', 1),\n",
       "  ('direct', 2),\n",
       "  ('director', 1),\n",
       "  ('dismiss', 1),\n",
       "  ('dream', 1),\n",
       "  ('dreamy', 1),\n",
       "  ('dreariness', 1),\n",
       "  ('drug', 1),\n",
       "  ('east', 1),\n",
       "  ('eddie', 1),\n",
       "  ('electric', 1),\n",
       "  ('end', 2),\n",
       "  ('ending', 1),\n",
       "  ('englishman', 1),\n",
       "  ('enough', 2),\n",
       "  ('even', 3),\n",
       "  ('feature', 1),\n",
       "  ('filthy', 1),\n",
       "  ('finalized', 1),\n",
       "  ('find', 1),\n",
       "  ('finger', 1),\n",
       "  ('finished', 1),\n",
       "  ('first', 2),\n",
       "  ('flashback', 1),\n",
       "  ('flashy', 1),\n",
       "  ('footnote', 1),\n",
       "  ('frederick', 1),\n",
       "  ('funny', 1),\n",
       "  ('geared', 1),\n",
       "  ('genius', 1),\n",
       "  ('get', 2),\n",
       "  ('getting', 1),\n",
       "  ('ghastly', 1),\n",
       "  ('ghetto', 2),\n",
       "  ('ghost', 1),\n",
       "  ('go', 1),\n",
       "  ('godley', 1),\n",
       "  ('good', 2),\n",
       "  ('gould', 1),\n",
       "  ('graham', 2),\n",
       "  ('graphic', 1),\n",
       "  ('great', 1),\n",
       "  ('gruesome', 1),\n",
       "  ('guttenberg', 1),\n",
       "  ('half', 1),\n",
       "  ('handling', 1),\n",
       "  ('hayes', 1),\n",
       "  ('heather', 1),\n",
       "  ('hell', 5),\n",
       "  ('helped', 1),\n",
       "  ('hidden', 1),\n",
       "  ('hold', 1),\n",
       "  ('hollow', 1),\n",
       "  ('holm', 1),\n",
       "  ('horribly', 1),\n",
       "  ('however', 1),\n",
       "  ('hughes', 2),\n",
       "  ('ians', 1),\n",
       "  ('identity', 2),\n",
       "  ('ii', 1),\n",
       "  ('imagining', 1),\n",
       "  ('includes', 1),\n",
       "  ('indian', 1),\n",
       "  ('inspector', 1),\n",
       "  ('interesting', 1),\n",
       "  ('investigate', 1),\n",
       "  ('irish', 1),\n",
       "  ('it', 1),\n",
       "  ('jack', 2),\n",
       "  ('jackson', 1),\n",
       "  ('jew', 1),\n",
       "  ('job', 1),\n",
       "  ('joe', 1),\n",
       "  ('johnny', 1),\n",
       "  ('keeping', 1),\n",
       "  ('kelly', 1),\n",
       "  ('kid', 1),\n",
       "  ('killer', 1),\n",
       "  ('killing', 1),\n",
       "  ('language', 1),\n",
       "  ('le', 1),\n",
       "  ('level', 1),\n",
       "  ('like', 4),\n",
       "  ('limit', 1),\n",
       "  ('little', 2),\n",
       "  ('local', 1),\n",
       "  ('log', 1),\n",
       "  ('london', 2),\n",
       "  ('long', 1),\n",
       "  ('look', 2),\n",
       "  ('love', 1),\n",
       "  ('ludicrous', 1),\n",
       "  ('mad', 1),\n",
       "  ('made', 1),\n",
       "  ('make', 2),\n",
       "  ('manson', 1),\n",
       "  ('marilyn', 1),\n",
       "  ('martin', 1),\n",
       "  ('mary', 1),\n",
       "  ('medium', 1),\n",
       "  ('menace', 1),\n",
       "  ('mi', 1),\n",
       "  ('michael', 1),\n",
       "  ('mid', 1),\n",
       "  ('might', 1),\n",
       "  ('moore', 3),\n",
       "  ('mouth', 1),\n",
       "  ('much', 1),\n",
       "  ('music', 1),\n",
       "  ('mysterious', 1),\n",
       "  (\"n't\", 1),\n",
       "  ('named', 1),\n",
       "  ('nearly', 1),\n",
       "  ('need', 1),\n",
       "  ('nervous', 1),\n",
       "  ('never', 2),\n",
       "  ('new', 1),\n",
       "  ('nothing', 1),\n",
       "  ('novel', 1),\n",
       "  ('odd', 1),\n",
       "  ('onto', 1),\n",
       "  ('opened', 1),\n",
       "  ('opium', 1),\n",
       "  ('original', 1),\n",
       "  ('oscar', 1),\n",
       "  ('page', 1),\n",
       "  ('pale', 1),\n",
       "  ('particular', 1),\n",
       "  ('past', 1),\n",
       "  ('peak', 1),\n",
       "  ('performance', 1),\n",
       "  ('peter', 2),\n",
       "  ('place', 2),\n",
       "  ('planet', 1),\n",
       "  ('plenty', 1),\n",
       "  ('point', 1),\n",
       "  ('police', 1),\n",
       "  ('prague', 1),\n",
       "  ('precision', 1),\n",
       "  ('print', 1),\n",
       "  ('proceeds', 1),\n",
       "  ('production', 1),\n",
       "  ('profession', 1),\n",
       "  ('prophetic', 1),\n",
       "  ('psychopath', 1),\n",
       "  ('quell', 1),\n",
       "  ('question', 1),\n",
       "  ('r', 1),\n",
       "  ('rables', 1),\n",
       "  ('rafael', 1),\n",
       "  ('really', 2),\n",
       "  ('reason', 1),\n",
       "  ('remind', 1),\n",
       "  ('researched', 1),\n",
       "  ('richardson', 1),\n",
       "  ('riddle', 1),\n",
       "  ('ripper', 3),\n",
       "  ('robbie', 1),\n",
       "  ('role', 1),\n",
       "  ('saw', 1),\n",
       "  ('say', 4),\n",
       "  ('saying', 1),\n",
       "  ('scene', 1),\n",
       "  ('screenwriter', 1),\n",
       "  ('secret', 1),\n",
       "  ('see', 2),\n",
       "  ('seems', 2),\n",
       "  ('sense', 1),\n",
       "  ('series', 1),\n",
       "  ('set', 1),\n",
       "  ('sexuality', 1),\n",
       "  ('shakespeare', 1),\n",
       "  ('simpson', 1),\n",
       "  ('slay', 1),\n",
       "  ('sleepy', 1),\n",
       "  ('society', 1),\n",
       "  ('solid', 1),\n",
       "  ('song', 1),\n",
       "  ('sooty', 1),\n",
       "  ('source', 1),\n",
       "  ('spawn', 1),\n",
       "  ('star', 1),\n",
       "  ('starter', 1),\n",
       "  ('starting', 2),\n",
       "  ('steve', 1),\n",
       "  ('stiff', 1),\n",
       "  ('stomach', 1),\n",
       "  ('stonecutter', 1),\n",
       "  ('street', 1),\n",
       "  ('strong', 2),\n",
       "  ('stumbling', 1),\n",
       "  ('subject', 1),\n",
       "  ('success', 1),\n",
       "  ('superheroes', 1),\n",
       "  ('superman', 1),\n",
       "  ('supporting', 1),\n",
       "  ('surgeon', 1),\n",
       "  ('surgical', 1),\n",
       "  ('surprise', 1),\n",
       "  ('surprising', 1),\n",
       "  ('surroundings', 1),\n",
       "  ('terry', 1),\n",
       "  ('that', 1),\n",
       "  ('theory', 1),\n",
       "  ('there', 1),\n",
       "  ('they', 1),\n",
       "  ('thing', 1),\n",
       "  ('think', 1),\n",
       "  ('thoroughly', 1),\n",
       "  ('though', 1),\n",
       "  ('tim', 1),\n",
       "  ('time', 2),\n",
       "  ('top', 1),\n",
       "  ('toward', 1),\n",
       "  ('try', 1),\n",
       "  ('turn', 2),\n",
       "  ('turning', 1),\n",
       "  ('twin', 1),\n",
       "  ('typically', 1),\n",
       "  ('unfortunate', 2),\n",
       "  ('unique', 1),\n",
       "  ('unsuccessfully', 1),\n",
       "  ('upon', 1),\n",
       "  ('vertical', 1),\n",
       "  ('victorian-era', 1),\n",
       "  ('viewer', 1),\n",
       "  ('violence', 1),\n",
       "  ('violence/gore', 1),\n",
       "  ('violent', 1),\n",
       "  ('watch', 1),\n",
       "  ('watchman', 1),\n",
       "  ('well', 1),\n",
       "  ('whether', 1),\n",
       "  ('whistling', 1),\n",
       "  ('whitechapel', 2),\n",
       "  ('whole', 2),\n",
       "  ('whore', 1),\n",
       "  ('widower', 1),\n",
       "  ('winner', 1),\n",
       "  ('word', 2),\n",
       "  ('world', 2),\n",
       "  ('worry', 1),\n",
       "  ('would', 1),\n",
       "  ('yglesias', 1)]]"
      ]
     },
     "execution_count": 161,
     "metadata": {},
     "output_type": "execute_result"
    }
   ],
   "source": [
    "# Create Dictionary\n",
    "id2word = corpora.Dictionary(x.apply(lambda x: x.split()))\n",
    "\n",
    "# Create Corpus\n",
    "texts = x.apply(lambda x: x.split())\n",
    "\n",
    "# Term Document Frequency\n",
    "corpus = [id2word.doc2bow(text) for text in texts]\n",
    "\n",
    "# View\n",
    "#Readable format of corpus (term-frequency)\n",
    "[[(id2word[id], freq) for id, freq in cp] for cp in corpus[:1]]"
   ]
  },
  {
   "cell_type": "markdown",
   "metadata": {},
   "source": [
    "__Build the LDA Model:__\n",
    "- alpha and eta are hyperparameters that affect sparsity of the topics. According to the Gensim docs, both defaults to 1.0/num_topics prior.\n",
    "- chunksize is the number of documents to be used in each training chunk. update_every determines how often the model parameters should be updated and passes is the total number of training passes."
   ]
  },
  {
   "cell_type": "code",
   "execution_count": 162,
   "metadata": {},
   "outputs": [],
   "source": [
    "# Build LDA model\n",
    "lda_model = gensim.models.ldamodel.LdaModel(corpus=corpus,\n",
    "                                           id2word=id2word,\n",
    "                                           num_topics=5, \n",
    "                                           random_state=100,\n",
    "                                           update_every=1,\n",
    "                                           chunksize=100,\n",
    "                                           passes=10,\n",
    "                                           alpha='auto',\n",
    "                                           per_word_topics=True)"
   ]
  },
  {
   "cell_type": "markdown",
   "metadata": {},
   "source": [
    "__View and Interpreting the topics in LDA model:__\n",
    "\n",
    "- The weights reflect how important a keyword is to that topic"
   ]
  },
  {
   "cell_type": "code",
   "execution_count": 163,
   "metadata": {
    "scrolled": true
   },
   "outputs": [
    {
     "name": "stdout",
     "output_type": "stream",
     "text": [
      "[(0,\n",
      "  '0.005*\"like\" + 0.005*\"story\" + 0.005*\"life\" + 0.004*\"get\" + 0.004*\"make\" + '\n",
      "  '0.004*\"scene\" + 0.004*\"time\" + 0.004*\"two\" + 0.004*\"love\" + 0.003*\"would\"'),\n",
      " (1,\n",
      "  '0.008*\"like\" + 0.006*\"bad\" + 0.006*\"even\" + 0.006*\"get\" + 0.006*\"time\" + '\n",
      "  '0.006*\"good\" + 0.005*\"scene\" + 0.005*\"plot\" + 0.005*\"make\" + '\n",
      "  '0.004*\"action\"'),\n",
      " (2,\n",
      "  '0.017*\"--\" + 0.005*\"harry\" + 0.004*\"spice\" + 0.004*\"wild\" + '\n",
      "  '0.003*\"anaconda\" + 0.003*\"joe\" + 0.003*\"robert\" + 0.003*\"park\" + '\n",
      "  '0.002*\"amanda\" + 0.002*\"west\"'),\n",
      " (3,\n",
      "  '0.008*\"--\" + 0.007*\"horror\" + 0.007*\"scream\" + 0.005*\"disney\" + '\n",
      "  '0.004*\"julie\" + 0.004*\"ape\" + 0.004*\"animated\" + 0.003*\"bat\" + '\n",
      "  '0.003*\"slasher\" + 0.003*\"legend\"'),\n",
      " (4,\n",
      "  '0.005*\"alien\" + 0.004*\"effect\" + 0.004*\"war\" + 0.004*\"human\" + '\n",
      "  '0.004*\"planet\" + 0.003*\"ship\" + 0.003*\"world\" + 0.003*\"star\" + '\n",
      "  '0.003*\"earth\" + 0.003*\"special\"')]\n"
     ]
    }
   ],
   "source": [
    "# Print the Keyword in the 10 topics\n",
    "pprint(lda_model.print_topics())\n",
    "doc_lda = lda_model[corpus]"
   ]
  },
  {
   "cell_type": "markdown",
   "metadata": {},
   "source": [
    "### Word Embedding - word vectors\n",
    "__Word vectors can be very useful. They open a bunch of new opportunities. Here are some of them:__\n",
    "- Use them as the input of a neural network, usually boosting performance\n",
    "- It can be considered automatic feature extraction\n",
    "- Establish synonyms\n",
    "- Dimensionality reduction\n",
    "- Create Document Vectors: either by averaging the word vectors or by using the Doc2Vec "
   ]
  },
  {
   "cell_type": "code",
   "execution_count": 164,
   "metadata": {},
   "outputs": [
    {
     "data": {
      "text/plain": [
       "0    [adapted, comic, book, plenty, success, whethe...\n",
       "1    [every, come, along, suspect, studio, every, i...\n",
       "2    [got, mail, work, alot, better, deserves, orde...\n",
       "3    [jaw, rare, grab, attention, show, single, ima...\n",
       "4    [moviemaking, lot, like, general, manager, nfl...\n",
       "Name: review_lemmatized_train, dtype: object"
      ]
     },
     "execution_count": 164,
     "metadata": {},
     "output_type": "execute_result"
    }
   ],
   "source": [
    "texts.head()"
   ]
  },
  {
   "cell_type": "code",
   "execution_count": 165,
   "metadata": {},
   "outputs": [],
   "source": [
    "model = word2vec.Word2Vec(texts, min_count=1)"
   ]
  },
  {
   "cell_type": "code",
   "execution_count": 166,
   "metadata": {},
   "outputs": [
    {
     "data": {
      "text/plain": [
       "{'adapted': <gensim.models.keyedvectors.Vocab at 0x1ff098ff8d0>,\n",
       " 'comic': <gensim.models.keyedvectors.Vocab at 0x1ff098fbcf8>,\n",
       " 'book': <gensim.models.keyedvectors.Vocab at 0x1ff098fb7f0>,\n",
       " 'plenty': <gensim.models.keyedvectors.Vocab at 0x1ff098fbc88>,\n",
       " 'success': <gensim.models.keyedvectors.Vocab at 0x1ff098fb7b8>,\n",
       " 'whether': <gensim.models.keyedvectors.Vocab at 0x1ff098ee6d8>,\n",
       " 'they': <gensim.models.keyedvectors.Vocab at 0x1ff098eedd8>,\n",
       " \"'re\": <gensim.models.keyedvectors.Vocab at 0x1ff098efe10>,\n",
       " 'superheroes': <gensim.models.keyedvectors.Vocab at 0x1ff098efda0>,\n",
       " 'batman': <gensim.models.keyedvectors.Vocab at 0x1ff098efd68>,\n",
       " 'superman': <gensim.models.keyedvectors.Vocab at 0x1ff098efdd8>,\n",
       " 'spawn': <gensim.models.keyedvectors.Vocab at 0x1ff098f3a90>,\n",
       " 'geared': <gensim.models.keyedvectors.Vocab at 0x1ff098f04e0>,\n",
       " 'toward': <gensim.models.keyedvectors.Vocab at 0x1ff098f0eb8>,\n",
       " 'kid': <gensim.models.keyedvectors.Vocab at 0x1ff098e4898>,\n",
       " 'casper': <gensim.models.keyedvectors.Vocab at 0x1ff098ecba8>,\n",
       " 'arthouse': <gensim.models.keyedvectors.Vocab at 0x1ff098ea898>,\n",
       " 'crowd': <gensim.models.keyedvectors.Vocab at 0x1ff098dfac8>,\n",
       " 'ghost': <gensim.models.keyedvectors.Vocab at 0x1ff098d7c88>,\n",
       " 'world': <gensim.models.keyedvectors.Vocab at 0x1ff098d7ac8>,\n",
       " 'there': <gensim.models.keyedvectors.Vocab at 0x1ff098d7208>,\n",
       " 'never': <gensim.models.keyedvectors.Vocab at 0x1ff098d62b0>,\n",
       " 'really': <gensim.models.keyedvectors.Vocab at 0x1ff098d6e80>,\n",
       " 'like': <gensim.models.keyedvectors.Vocab at 0x1ff098da6a0>,\n",
       " 'hell': <gensim.models.keyedvectors.Vocab at 0x1ff098d3898>,\n",
       " 'starter': <gensim.models.keyedvectors.Vocab at 0x1ff098d3ba8>,\n",
       " 'created': <gensim.models.keyedvectors.Vocab at 0x1ff098cf710>,\n",
       " 'alan': <gensim.models.keyedvectors.Vocab at 0x1ff098cfe80>,\n",
       " 'moore': <gensim.models.keyedvectors.Vocab at 0x1ff098cf080>,\n",
       " 'eddie': <gensim.models.keyedvectors.Vocab at 0x1ff098cfda0>,\n",
       " 'campbell': <gensim.models.keyedvectors.Vocab at 0x1ff098cf748>,\n",
       " 'brought': <gensim.models.keyedvectors.Vocab at 0x1ff098cf780>,\n",
       " 'medium': <gensim.models.keyedvectors.Vocab at 0x1ff098d4b38>,\n",
       " 'whole': <gensim.models.keyedvectors.Vocab at 0x1ff098d4390>,\n",
       " 'new': <gensim.models.keyedvectors.Vocab at 0x1ff098cc3c8>,\n",
       " 'level': <gensim.models.keyedvectors.Vocab at 0x1ff098cc780>,\n",
       " 'mid': <gensim.models.keyedvectors.Vocab at 0x1ff098ccf98>,\n",
       " \"'80s\": <gensim.models.keyedvectors.Vocab at 0x1ff098c8a20>,\n",
       " '12-part': <gensim.models.keyedvectors.Vocab at 0x1ff098c6438>,\n",
       " 'series': <gensim.models.keyedvectors.Vocab at 0x1ff098ca860>,\n",
       " 'called': <gensim.models.keyedvectors.Vocab at 0x1ff098c3c88>,\n",
       " 'watchman': <gensim.models.keyedvectors.Vocab at 0x1ff098c3f28>,\n",
       " 'say': <gensim.models.keyedvectors.Vocab at 0x1ff098c1518>,\n",
       " 'thoroughly': <gensim.models.keyedvectors.Vocab at 0x1ff098c5630>,\n",
       " 'researched': <gensim.models.keyedvectors.Vocab at 0x1ff098c5940>,\n",
       " 'subject': <gensim.models.keyedvectors.Vocab at 0x1ff098c5b70>,\n",
       " 'jack': <gensim.models.keyedvectors.Vocab at 0x1ff098bc7b8>,\n",
       " 'ripper': <gensim.models.keyedvectors.Vocab at 0x1ff098be668>,\n",
       " 'would': <gensim.models.keyedvectors.Vocab at 0x1ff098bebe0>,\n",
       " 'saying': <gensim.models.keyedvectors.Vocab at 0x1ff098bee48>,\n",
       " 'michael': <gensim.models.keyedvectors.Vocab at 0x1ff098bfe80>,\n",
       " 'jackson': <gensim.models.keyedvectors.Vocab at 0x1ff098bf048>,\n",
       " 'starting': <gensim.models.keyedvectors.Vocab at 0x1ff098b8e80>,\n",
       " 'look': <gensim.models.keyedvectors.Vocab at 0x1ff098b88d0>,\n",
       " 'little': <gensim.models.keyedvectors.Vocab at 0x1ff098ba390>,\n",
       " 'odd': <gensim.models.keyedvectors.Vocab at 0x1ff098b70b8>,\n",
       " 'graphic': <gensim.models.keyedvectors.Vocab at 0x1ff098b6f60>,\n",
       " 'novel': <gensim.models.keyedvectors.Vocab at 0x1ff098b6400>,\n",
       " '500': <gensim.models.keyedvectors.Vocab at 0x1ff098b63c8>,\n",
       " 'page': <gensim.models.keyedvectors.Vocab at 0x1ff098b4a58>,\n",
       " 'long': <gensim.models.keyedvectors.Vocab at 0x1ff098b4c50>,\n",
       " 'includes': <gensim.models.keyedvectors.Vocab at 0x1ff098b3630>,\n",
       " 'nearly': <gensim.models.keyedvectors.Vocab at 0x1ff098af080>,\n",
       " '30': <gensim.models.keyedvectors.Vocab at 0x1ff098ae630>,\n",
       " 'consist': <gensim.models.keyedvectors.Vocab at 0x1ff098ad8d0>,\n",
       " 'nothing': <gensim.models.keyedvectors.Vocab at 0x1ff098adfd0>,\n",
       " 'footnote': <gensim.models.keyedvectors.Vocab at 0x1ff098ad7b8>,\n",
       " 'word': <gensim.models.keyedvectors.Vocab at 0x1ff098a43c8>,\n",
       " 'dismiss': <gensim.models.keyedvectors.Vocab at 0x1ff098a2a20>,\n",
       " 'source': <gensim.models.keyedvectors.Vocab at 0x1ff098a27b8>,\n",
       " 'get': <gensim.models.keyedvectors.Vocab at 0x1ff0989eda0>,\n",
       " 'past': <gensim.models.keyedvectors.Vocab at 0x1ff0989ef98>,\n",
       " 'thing': <gensim.models.keyedvectors.Vocab at 0x1ff09899518>,\n",
       " 'might': <gensim.models.keyedvectors.Vocab at 0x1ff098994a8>,\n",
       " 'find': <gensim.models.keyedvectors.Vocab at 0x1ff0989cac8>,\n",
       " 'another': <gensim.models.keyedvectors.Vocab at 0x1ff0989a3c8>,\n",
       " 'stumbling': <gensim.models.keyedvectors.Vocab at 0x1ff0989a978>,\n",
       " 'block': <gensim.models.keyedvectors.Vocab at 0x1ff0989a080>,\n",
       " 'director': <gensim.models.keyedvectors.Vocab at 0x1ff09897dd8>,\n",
       " 'albert': <gensim.models.keyedvectors.Vocab at 0x1ff09898c88>,\n",
       " 'allen': <gensim.models.keyedvectors.Vocab at 0x1ff09898cc0>,\n",
       " 'hughes': <gensim.models.keyedvectors.Vocab at 0x1ff09894c50>,\n",
       " 'getting': <gensim.models.keyedvectors.Vocab at 0x1ff09893160>,\n",
       " 'brother': <gensim.models.keyedvectors.Vocab at 0x1ff0988acf8>,\n",
       " 'direct': <gensim.models.keyedvectors.Vocab at 0x1ff0988da20>,\n",
       " 'seems': <gensim.models.keyedvectors.Vocab at 0x1ff09890518>,\n",
       " 'almost': <gensim.models.keyedvectors.Vocab at 0x1ff098894a8>,\n",
       " 'ludicrous': <gensim.models.keyedvectors.Vocab at 0x1ff09889a20>,\n",
       " 'casting': <gensim.models.keyedvectors.Vocab at 0x1ff098897f0>,\n",
       " 'carrot': <gensim.models.keyedvectors.Vocab at 0x1ff09888c50>,\n",
       " 'top': <gensim.models.keyedvectors.Vocab at 0x1ff09888fd0>,\n",
       " 'well': <gensim.models.keyedvectors.Vocab at 0x1ff09888be0>,\n",
       " 'anything': <gensim.models.keyedvectors.Vocab at 0x1ff09888c18>,\n",
       " 'riddle': <gensim.models.keyedvectors.Vocab at 0x1ff09888d30>,\n",
       " 'better': <gensim.models.keyedvectors.Vocab at 0x1ff09888b38>,\n",
       " 'that': <gensim.models.keyedvectors.Vocab at 0x1ff09885d30>,\n",
       " 'set': <gensim.models.keyedvectors.Vocab at 0x1ff09885a90>,\n",
       " 'ghetto': <gensim.models.keyedvectors.Vocab at 0x1ff09885c18>,\n",
       " 'feature': <gensim.models.keyedvectors.Vocab at 0x1ff09881630>,\n",
       " 'violent': <gensim.models.keyedvectors.Vocab at 0x1ff09881198>,\n",
       " 'street': <gensim.models.keyedvectors.Vocab at 0x1ff09884780>,\n",
       " 'crime': <gensim.models.keyedvectors.Vocab at 0x1ff09884f98>,\n",
       " 'mad': <gensim.models.keyedvectors.Vocab at 0x1ff09882978>,\n",
       " 'genius': <gensim.models.keyedvectors.Vocab at 0x1ff09882b00>,\n",
       " 'behind': <gensim.models.keyedvectors.Vocab at 0x1ff098829b0>,\n",
       " 'menace': <gensim.models.keyedvectors.Vocab at 0x1ff0987d940>,\n",
       " 'ii': <gensim.models.keyedvectors.Vocab at 0x1ff0987d128>,\n",
       " 'society': <gensim.models.keyedvectors.Vocab at 0x1ff09879b70>,\n",
       " 'question': <gensim.models.keyedvectors.Vocab at 0x1ff098756d8>,\n",
       " 'course': <gensim.models.keyedvectors.Vocab at 0x1ff09877588>,\n",
       " 'whitechapel': <gensim.models.keyedvectors.Vocab at 0x1ff098785c0>,\n",
       " '1888': <gensim.models.keyedvectors.Vocab at 0x1ff09878198>,\n",
       " 'london': <gensim.models.keyedvectors.Vocab at 0x1ff09872748>,\n",
       " 'east': <gensim.models.keyedvectors.Vocab at 0x1ff098736d8>,\n",
       " 'end': <gensim.models.keyedvectors.Vocab at 0x1ff09873c88>,\n",
       " 'filthy': <gensim.models.keyedvectors.Vocab at 0x1ff0986ea58>,\n",
       " 'sooty': <gensim.models.keyedvectors.Vocab at 0x1ff0986bba8>,\n",
       " 'place': <gensim.models.keyedvectors.Vocab at 0x1ff09863e48>,\n",
       " 'whore': <gensim.models.keyedvectors.Vocab at 0x1ff09863588>,\n",
       " 'unfortunate': <gensim.models.keyedvectors.Vocab at 0x1ff09863f60>,\n",
       " 'nervous': <gensim.models.keyedvectors.Vocab at 0x1ff09865390>,\n",
       " 'mysterious': <gensim.models.keyedvectors.Vocab at 0x1ff09865400>,\n",
       " 'psychopath': <gensim.models.keyedvectors.Vocab at 0x1ff098688d0>,\n",
       " 'carving': <gensim.models.keyedvectors.Vocab at 0x1ff09869080>,\n",
       " 'profession': <gensim.models.keyedvectors.Vocab at 0x1ff09869860>,\n",
       " 'surgical': <gensim.models.keyedvectors.Vocab at 0x1ff098697f0>,\n",
       " 'precision': <gensim.models.keyedvectors.Vocab at 0x1ff09862b38>,\n",
       " 'first': <gensim.models.keyedvectors.Vocab at 0x1ff09862ba8>,\n",
       " 'stiff': <gensim.models.keyedvectors.Vocab at 0x1ff0985e588>,\n",
       " 'turn': <gensim.models.keyedvectors.Vocab at 0x1ff0985d710>,\n",
       " 'copper': <gensim.models.keyedvectors.Vocab at 0x1ff098584e0>,\n",
       " 'peter': <gensim.models.keyedvectors.Vocab at 0x1ff0984ffd0>,\n",
       " 'godley': <gensim.models.keyedvectors.Vocab at 0x1ff098522b0>,\n",
       " 'robbie': <gensim.models.keyedvectors.Vocab at 0x1ff09852ac8>,\n",
       " 'coltrane': <gensim.models.keyedvectors.Vocab at 0x1ff09852470>,\n",
       " 'enough': <gensim.models.keyedvectors.Vocab at 0x1ff09852c50>,\n",
       " 'call': <gensim.models.keyedvectors.Vocab at 0x1ff098545c0>,\n",
       " 'inspector': <gensim.models.keyedvectors.Vocab at 0x1ff09851f98>,\n",
       " 'frederick': <gensim.models.keyedvectors.Vocab at 0x1ff0984a278>,\n",
       " 'abberline': <gensim.models.keyedvectors.Vocab at 0x1ff09847d68>,\n",
       " 'johnny': <gensim.models.keyedvectors.Vocab at 0x1ff09847ef0>,\n",
       " 'depp': <gensim.models.keyedvectors.Vocab at 0x1ff09844b70>,\n",
       " 'blow': <gensim.models.keyedvectors.Vocab at 0x1ff098444e0>,\n",
       " 'crack': <gensim.models.keyedvectors.Vocab at 0x1ff098419b0>,\n",
       " 'case': <gensim.models.keyedvectors.Vocab at 0x1ff09842518>,\n",
       " 'widower': <gensim.models.keyedvectors.Vocab at 0x1ff0983fb00>,\n",
       " 'prophetic': <gensim.models.keyedvectors.Vocab at 0x1ff0983fc18>,\n",
       " 'dream': <gensim.models.keyedvectors.Vocab at 0x1ff0983f940>,\n",
       " 'unsuccessfully': <gensim.models.keyedvectors.Vocab at 0x1ff0983fe48>,\n",
       " 'try': <gensim.models.keyedvectors.Vocab at 0x1ff098436d8>,\n",
       " 'quell': <gensim.models.keyedvectors.Vocab at 0x1ff0983a2e8>,\n",
       " 'copious': <gensim.models.keyedvectors.Vocab at 0x1ff0983a518>,\n",
       " 'amount': <gensim.models.keyedvectors.Vocab at 0x1ff0983a550>,\n",
       " 'absinthe': <gensim.models.keyedvectors.Vocab at 0x1ff09836c50>,\n",
       " 'opium': <gensim.models.keyedvectors.Vocab at 0x1ff09836c88>,\n",
       " 'upon': <gensim.models.keyedvectors.Vocab at 0x1ff09839668>,\n",
       " 'arriving': <gensim.models.keyedvectors.Vocab at 0x1ff098355f8>,\n",
       " 'befriends': <gensim.models.keyedvectors.Vocab at 0x1ff098352b0>,\n",
       " 'named': <gensim.models.keyedvectors.Vocab at 0x1ff0982ee10>,\n",
       " 'mary': <gensim.models.keyedvectors.Vocab at 0x1ff0982b358>,\n",
       " 'kelly': <gensim.models.keyedvectors.Vocab at 0x1ff09829978>,\n",
       " 'heather': <gensim.models.keyedvectors.Vocab at 0x1ff09826b38>,\n",
       " 'graham': <gensim.models.keyedvectors.Vocab at 0x1ff098245f8>,\n",
       " 'proceeds': <gensim.models.keyedvectors.Vocab at 0x1ff09824e10>,\n",
       " 'investigate': <gensim.models.keyedvectors.Vocab at 0x1ff098271d0>,\n",
       " 'horribly': <gensim.models.keyedvectors.Vocab at 0x1ff09822390>,\n",
       " 'gruesome': <gensim.models.keyedvectors.Vocab at 0x1ff09820588>,\n",
       " 'even': <gensim.models.keyedvectors.Vocab at 0x1ff09823978>,\n",
       " 'police': <gensim.models.keyedvectors.Vocab at 0x1ff09823710>,\n",
       " 'surgeon': <gensim.models.keyedvectors.Vocab at 0x1ff09823828>,\n",
       " 'ca': <gensim.models.keyedvectors.Vocab at 0x1ff0981e208>,\n",
       " \"n't\": <gensim.models.keyedvectors.Vocab at 0x1ff0981ef98>,\n",
       " 'stomach': <gensim.models.keyedvectors.Vocab at 0x1ff0981dd68>,\n",
       " 'think': <gensim.models.keyedvectors.Vocab at 0x1ff0981f470>,\n",
       " 'anyone': <gensim.models.keyedvectors.Vocab at 0x1ff0981f240>,\n",
       " 'need': <gensim.models.keyedvectors.Vocab at 0x1ff0981fb00>,\n",
       " 'briefed': <gensim.models.keyedvectors.Vocab at 0x1ff0981fa90>,\n",
       " 'go': <gensim.models.keyedvectors.Vocab at 0x1ff0981be10>,\n",
       " 'particular': <gensim.models.keyedvectors.Vocab at 0x1ff0981bbe0>,\n",
       " 'unique': <gensim.models.keyedvectors.Vocab at 0x1ff0981bc88>,\n",
       " 'interesting': <gensim.models.keyedvectors.Vocab at 0x1ff098159e8>,\n",
       " 'theory': <gensim.models.keyedvectors.Vocab at 0x1ff09815908>,\n",
       " 'identity': <gensim.models.keyedvectors.Vocab at 0x1ff098176a0>,\n",
       " 'killer': <gensim.models.keyedvectors.Vocab at 0x1ff09810ac8>,\n",
       " 'reason': <gensim.models.keyedvectors.Vocab at 0x1ff0980d8d0>,\n",
       " 'chooses': <gensim.models.keyedvectors.Vocab at 0x1ff0980df60>,\n",
       " 'slay': <gensim.models.keyedvectors.Vocab at 0x1ff0980e438>,\n",
       " 'bother': <gensim.models.keyedvectors.Vocab at 0x1ff0980eb00>,\n",
       " 'cloaking': <gensim.models.keyedvectors.Vocab at 0x1ff0980ecc0>,\n",
       " 'screenwriter': <gensim.models.keyedvectors.Vocab at 0x1ff098146d8>,\n",
       " 'terry': <gensim.models.keyedvectors.Vocab at 0x1ff0980aa58>,\n",
       " 'hayes': <gensim.models.keyedvectors.Vocab at 0x1ff09809fd0>,\n",
       " 'vertical': <gensim.models.keyedvectors.Vocab at 0x1ff098094a8>,\n",
       " 'limit': <gensim.models.keyedvectors.Vocab at 0x1ff09809470>,\n",
       " 'rafael': <gensim.models.keyedvectors.Vocab at 0x1ff09809e48>,\n",
       " 'yglesias': <gensim.models.keyedvectors.Vocab at 0x1ff09806f28>,\n",
       " 'le': <gensim.models.keyedvectors.Vocab at 0x1ff098061d0>,\n",
       " 'mi': <gensim.models.keyedvectors.Vocab at 0x1ff09805cc0>,\n",
       " 'rables': <gensim.models.keyedvectors.Vocab at 0x1ff09804438>,\n",
       " 'good': <gensim.models.keyedvectors.Vocab at 0x1ff097fcba8>,\n",
       " 'job': <gensim.models.keyedvectors.Vocab at 0x1ff09800ac8>,\n",
       " 'keeping': <gensim.models.keyedvectors.Vocab at 0x1ff098001d0>,\n",
       " 'hidden': <gensim.models.keyedvectors.Vocab at 0x1ff097fd438>,\n",
       " 'viewer': <gensim.models.keyedvectors.Vocab at 0x1ff097f8d30>,\n",
       " 'funny': <gensim.models.keyedvectors.Vocab at 0x1ff097f9748>,\n",
       " 'watch': <gensim.models.keyedvectors.Vocab at 0x1ff097f3710>,\n",
       " 'local': <gensim.models.keyedvectors.Vocab at 0x1ff097f3518>,\n",
       " 'blindly': <gensim.models.keyedvectors.Vocab at 0x1ff097f36d8>,\n",
       " 'point': <gensim.models.keyedvectors.Vocab at 0x1ff097f46a0>,\n",
       " 'finger': <gensim.models.keyedvectors.Vocab at 0x1ff097f43c8>,\n",
       " 'blame': <gensim.models.keyedvectors.Vocab at 0x1ff097f5e80>,\n",
       " 'jew': <gensim.models.keyedvectors.Vocab at 0x1ff097f5198>,\n",
       " 'indian': <gensim.models.keyedvectors.Vocab at 0x1ff097f57f0>,\n",
       " 'englishman': <gensim.models.keyedvectors.Vocab at 0x1ff097f1c50>,\n",
       " 'could': <gensim.models.keyedvectors.Vocab at 0x1ff097f1a58>,\n",
       " 'capable': <gensim.models.keyedvectors.Vocab at 0x1ff097f1f98>,\n",
       " 'committing': <gensim.models.keyedvectors.Vocab at 0x1ff097f1ba8>,\n",
       " 'ghastly': <gensim.models.keyedvectors.Vocab at 0x1ff097f1b70>,\n",
       " 'act': <gensim.models.keyedvectors.Vocab at 0x1ff097f1ef0>,\n",
       " 'ending': <gensim.models.keyedvectors.Vocab at 0x1ff097f1be0>,\n",
       " 'whistling': <gensim.models.keyedvectors.Vocab at 0x1ff097f11d0>,\n",
       " 'stonecutter': <gensim.models.keyedvectors.Vocab at 0x1ff097ed0f0>,\n",
       " 'song': <gensim.models.keyedvectors.Vocab at 0x1ff097ea7f0>,\n",
       " 'simpson': <gensim.models.keyedvectors.Vocab at 0x1ff097ea2b0>,\n",
       " 'day': <gensim.models.keyedvectors.Vocab at 0x1ff097e9b00>,\n",
       " 'hold': <gensim.models.keyedvectors.Vocab at 0x1ff097e9be0>,\n",
       " 'back': <gensim.models.keyedvectors.Vocab at 0x1ff097e9390>,\n",
       " 'electric': <gensim.models.keyedvectors.Vocab at 0x1ff097e52e8>,\n",
       " 'car/who': <gensim.models.keyedvectors.Vocab at 0x1ff097e5240>,\n",
       " 'made': <gensim.models.keyedvectors.Vocab at 0x1ff097e88d0>,\n",
       " 'steve': <gensim.models.keyedvectors.Vocab at 0x1ff097e3940>,\n",
       " 'guttenberg': <gensim.models.keyedvectors.Vocab at 0x1ff097e2278>,\n",
       " 'star': <gensim.models.keyedvectors.Vocab at 0x1ff097e1a90>,\n",
       " 'worry': <gensim.models.keyedvectors.Vocab at 0x1ff097e1da0>,\n",
       " 'it': <gensim.models.keyedvectors.Vocab at 0x1ff097e1dd8>,\n",
       " \"'ll\": <gensim.models.keyedvectors.Vocab at 0x1ff097deac8>,\n",
       " 'make': <gensim.models.keyedvectors.Vocab at 0x1ff097de978>,\n",
       " 'sense': <gensim.models.keyedvectors.Vocab at 0x1ff097de7f0>,\n",
       " 'see': <gensim.models.keyedvectors.Vocab at 0x1ff097d95c0>,\n",
       " 'onto': <gensim.models.keyedvectors.Vocab at 0x1ff097d9080>,\n",
       " 'appearance': <gensim.models.keyedvectors.Vocab at 0x1ff097d6198>,\n",
       " 'certainly': <gensim.models.keyedvectors.Vocab at 0x1ff097d4a20>,\n",
       " 'dark': <gensim.models.keyedvectors.Vocab at 0x1ff097d25f8>,\n",
       " 'bleak': <gensim.models.keyedvectors.Vocab at 0x1ff097d0240>,\n",
       " 'surprising': <gensim.models.keyedvectors.Vocab at 0x1ff097d0be0>,\n",
       " 'much': <gensim.models.keyedvectors.Vocab at 0x1ff097cee48>,\n",
       " 'tim': <gensim.models.keyedvectors.Vocab at 0x1ff097ce5f8>,\n",
       " 'burton': <gensim.models.keyedvectors.Vocab at 0x1ff097cd3c8>,\n",
       " 'planet': <gensim.models.keyedvectors.Vocab at 0x1ff097caf60>,\n",
       " 'ape': <gensim.models.keyedvectors.Vocab at 0x1ff097ccfd0>,\n",
       " 'time': <gensim.models.keyedvectors.Vocab at 0x1ff097c82b0>,\n",
       " 'sleepy': <gensim.models.keyedvectors.Vocab at 0x1ff097c8be0>,\n",
       " 'hollow': <gensim.models.keyedvectors.Vocab at 0x1ff097c8828>,\n",
       " '2': <gensim.models.keyedvectors.Vocab at 0x1ff097c86a0>,\n",
       " 'print': <gensim.models.keyedvectors.Vocab at 0x1ff097c89b0>,\n",
       " 'saw': <gensim.models.keyedvectors.Vocab at 0x1ff097c2fd0>,\n",
       " 'completely': <gensim.models.keyedvectors.Vocab at 0x1ff097c0048>,\n",
       " 'finished': <gensim.models.keyedvectors.Vocab at 0x1ff097bd4a8>,\n",
       " 'color': <gensim.models.keyedvectors.Vocab at 0x1ff097c5da0>,\n",
       " 'music': <gensim.models.keyedvectors.Vocab at 0x1ff097c55f8>,\n",
       " 'finalized': <gensim.models.keyedvectors.Vocab at 0x1ff097c54a8>,\n",
       " 'comment': <gensim.models.keyedvectors.Vocab at 0x1ff097c4cf8>,\n",
       " 'marilyn': <gensim.models.keyedvectors.Vocab at 0x1ff097c4940>,\n",
       " 'manson': <gensim.models.keyedvectors.Vocab at 0x1ff097bce80>,\n",
       " 'cinematographer': <gensim.models.keyedvectors.Vocab at 0x1ff097b6b70>,\n",
       " 'deming': <gensim.models.keyedvectors.Vocab at 0x1ff097b67f0>,\n",
       " 'ably': <gensim.models.keyedvectors.Vocab at 0x1ff097b6748>,\n",
       " 'capture': <gensim.models.keyedvectors.Vocab at 0x1ff097b64a8>,\n",
       " 'dreariness': <gensim.models.keyedvectors.Vocab at 0x1ff097b7dd8>,\n",
       " 'victorian-era': <gensim.models.keyedvectors.Vocab at 0x1ff097b7358>,\n",
       " 'helped': <gensim.models.keyedvectors.Vocab at 0x1ff097b2b38>,\n",
       " 'flashy': <gensim.models.keyedvectors.Vocab at 0x1ff097b59b0>,\n",
       " 'killing': <gensim.models.keyedvectors.Vocab at 0x1ff097b5978>,\n",
       " 'scene': <gensim.models.keyedvectors.Vocab at 0x1ff097ac5f8>,\n",
       " 'remind': <gensim.models.keyedvectors.Vocab at 0x1ff097affd0>,\n",
       " 'crazy': <gensim.models.keyedvectors.Vocab at 0x1ff097aff98>,\n",
       " 'flashback': <gensim.models.keyedvectors.Vocab at 0x1ff097abe48>,\n",
       " 'twin': <gensim.models.keyedvectors.Vocab at 0x1ff097abef0>,\n",
       " 'peak': <gensim.models.keyedvectors.Vocab at 0x1ff097a5240>,\n",
       " 'though': <gensim.models.keyedvectors.Vocab at 0x1ff097a6278>,\n",
       " 'violence': <gensim.models.keyedvectors.Vocab at 0x1ff097a1278>,\n",
       " 'pale': <gensim.models.keyedvectors.Vocab at 0x1ff0979be10>,\n",
       " 'comparison': <gensim.models.keyedvectors.Vocab at 0x1ff0979a780>,\n",
       " 'black-and-white': <gensim.models.keyedvectors.Vocab at 0x1ff0979a3c8>,\n",
       " 'oscar': <gensim.models.keyedvectors.Vocab at 0x1ff09796ef0>,\n",
       " 'winner': <gensim.models.keyedvectors.Vocab at 0x1ff09795fd0>,\n",
       " 'martin': <gensim.models.keyedvectors.Vocab at 0x1ff097909e8>,\n",
       " 'child': <gensim.models.keyedvectors.Vocab at 0x1ff09790a20>,\n",
       " \"'\": <gensim.models.keyedvectors.Vocab at 0x1ff0978db38>,\n",
       " 'shakespeare': <gensim.models.keyedvectors.Vocab at 0x1ff0978a6a0>,\n",
       " 'love': <gensim.models.keyedvectors.Vocab at 0x1ff0978a908>,\n",
       " 'production': <gensim.models.keyedvectors.Vocab at 0x1ff0978a588>,\n",
       " 'design': <gensim.models.keyedvectors.Vocab at 0x1ff09786588>,\n",
       " 'original': <gensim.models.keyedvectors.Vocab at 0x1ff09786518>,\n",
       " 'prague': <gensim.models.keyedvectors.Vocab at 0x1ff09785ef0>,\n",
       " 'surroundings': <gensim.models.keyedvectors.Vocab at 0x1ff097859b0>,\n",
       " 'creepy': <gensim.models.keyedvectors.Vocab at 0x1ff097891d0>,\n",
       " 'acting': <gensim.models.keyedvectors.Vocab at 0x1ff09781358>,\n",
       " 'solid': <gensim.models.keyedvectors.Vocab at 0x1ff09781978>,\n",
       " 'dreamy': <gensim.models.keyedvectors.Vocab at 0x1ff09783d30>,\n",
       " 'turning': <gensim.models.keyedvectors.Vocab at 0x1ff097830b8>,\n",
       " 'typically': <gensim.models.keyedvectors.Vocab at 0x1ff0977f7f0>,\n",
       " 'strong': <gensim.models.keyedvectors.Vocab at 0x1ff0977eb00>,\n",
       " 'performance': <gensim.models.keyedvectors.Vocab at 0x1ff0977e6d8>,\n",
       " 'deftly': <gensim.models.keyedvectors.Vocab at 0x1ff0977e5c0>,\n",
       " 'handling': <gensim.models.keyedvectors.Vocab at 0x1ff0977e128>,\n",
       " 'british': <gensim.models.keyedvectors.Vocab at 0x1ff0977b198>,\n",
       " 'accent': <gensim.models.keyedvectors.Vocab at 0x1ff0977b518>,\n",
       " 'ians': <gensim.models.keyedvectors.Vocab at 0x1ff0977c048>,\n",
       " 'holm': <gensim.models.keyedvectors.Vocab at 0x1ff09779978>,\n",
       " 'joe': <gensim.models.keyedvectors.Vocab at 0x1ff09779470>,\n",
       " 'gould': <gensim.models.keyedvectors.Vocab at 0x1ff09778d30>,\n",
       " 'secret': <gensim.models.keyedvectors.Vocab at 0x1ff09778978>,\n",
       " 'richardson': <gensim.models.keyedvectors.Vocab at 0x1ff09778eb8>,\n",
       " '102': <gensim.models.keyedvectors.Vocab at 0x1ff097752b0>,\n",
       " 'dalmatian': <gensim.models.keyedvectors.Vocab at 0x1ff09777ef0>,\n",
       " 'log': <gensim.models.keyedvectors.Vocab at 0x1ff09777ac8>,\n",
       " 'great': <gensim.models.keyedvectors.Vocab at 0x1ff09773dd8>,\n",
       " 'supporting': <gensim.models.keyedvectors.Vocab at 0x1ff097760b8>,\n",
       " 'role': <gensim.models.keyedvectors.Vocab at 0x1ff097715c0>,\n",
       " 'big': <gensim.models.keyedvectors.Vocab at 0x1ff097727b8>,\n",
       " 'surprise': <gensim.models.keyedvectors.Vocab at 0x1ff09772080>,\n",
       " 'cringed': <gensim.models.keyedvectors.Vocab at 0x1ff0976e3c8>,\n",
       " 'opened': <gensim.models.keyedvectors.Vocab at 0x1ff09768940>,\n",
       " 'mouth': <gensim.models.keyedvectors.Vocab at 0x1ff09768b70>,\n",
       " 'imagining': <gensim.models.keyedvectors.Vocab at 0x1ff0976ad30>,\n",
       " 'attempt': <gensim.models.keyedvectors.Vocab at 0x1ff0976ba58>,\n",
       " 'irish': <gensim.models.keyedvectors.Vocab at 0x1ff0976b470>,\n",
       " 'actually': <gensim.models.keyedvectors.Vocab at 0x1ff09766fd0>,\n",
       " 'half': <gensim.models.keyedvectors.Vocab at 0x1ff09765358>,\n",
       " 'bad': <gensim.models.keyedvectors.Vocab at 0x1ff09760d68>,\n",
       " 'however': <gensim.models.keyedvectors.Vocab at 0x1ff09760400>,\n",
       " '00': <gensim.models.keyedvectors.Vocab at 0x1ff0975df60>,\n",
       " 'r': <gensim.models.keyedvectors.Vocab at 0x1ff09764f98>,\n",
       " 'violence/gore': <gensim.models.keyedvectors.Vocab at 0x1ff097643c8>,\n",
       " 'sexuality': <gensim.models.keyedvectors.Vocab at 0x1ff09764390>,\n",
       " 'language': <gensim.models.keyedvectors.Vocab at 0x1ff09761c88>,\n",
       " 'drug': <gensim.models.keyedvectors.Vocab at 0x1ff0975b6d8>,\n",
       " 'content': <gensim.models.keyedvectors.Vocab at 0x1ff0975a0f0>,\n",
       " 'every': <gensim.models.keyedvectors.Vocab at 0x1ff0975cc88>,\n",
       " 'come': <gensim.models.keyedvectors.Vocab at 0x1ff0975c780>,\n",
       " 'along': <gensim.models.keyedvectors.Vocab at 0x1ff0975c470>,\n",
       " 'suspect': <gensim.models.keyedvectors.Vocab at 0x1ff09755e10>,\n",
       " 'studio': <gensim.models.keyedvectors.Vocab at 0x1ff097537b8>,\n",
       " 'indication': <gensim.models.keyedvectors.Vocab at 0x1ff09751d30>,\n",
       " 'stinker': <gensim.models.keyedvectors.Vocab at 0x1ff09752ac8>,\n",
       " 'everybody': <gensim.models.keyedvectors.Vocab at 0x1ff0974c208>,\n",
       " 'perhaps': <gensim.models.keyedvectors.Vocab at 0x1ff0974b7b8>,\n",
       " 'becomes': <gensim.models.keyedvectors.Vocab at 0x1ff09749dd8>,\n",
       " 'critical': <gensim.models.keyedvectors.Vocab at 0x1ff09749ef0>,\n",
       " 'darling': <gensim.models.keyedvectors.Vocab at 0x1ff097460b8>,\n",
       " 'mtv': <gensim.models.keyedvectors.Vocab at 0x1ff097459b0>,\n",
       " '_election': <gensim.models.keyedvectors.Vocab at 0x1ff09745588>,\n",
       " 'high': <gensim.models.keyedvectors.Vocab at 0x1ff09748978>,\n",
       " 'school': <gensim.models.keyedvectors.Vocab at 0x1ff09748f28>,\n",
       " 'comedy': <gensim.models.keyedvectors.Vocab at 0x1ff0973fc18>,\n",
       " 'starring': <gensim.models.keyedvectors.Vocab at 0x1ff0973d1d0>,\n",
       " 'matthew': <gensim.models.keyedvectors.Vocab at 0x1ff0973d160>,\n",
       " 'broderick': <gensim.models.keyedvectors.Vocab at 0x1ff0973ea20>,\n",
       " 'reese': <gensim.models.keyedvectors.Vocab at 0x1ff0973e390>,\n",
       " 'witherspoon': <gensim.models.keyedvectors.Vocab at 0x1ff0973e9e8>,\n",
       " 'current': <gensim.models.keyedvectors.Vocab at 0x1ff0973a208>,\n",
       " 'example': <gensim.models.keyedvectors.Vocab at 0x1ff0973acf8>,\n",
       " 'anybody': <gensim.models.keyedvectors.Vocab at 0x1ff0973a240>,\n",
       " 'know': <gensim.models.keyedvectors.Vocab at 0x1ff0973a860>,\n",
       " 'existed': <gensim.models.keyedvectors.Vocab at 0x1ff0973a128>,\n",
       " 'week': <gensim.models.keyedvectors.Vocab at 0x1ff0973c2e8>,\n",
       " 'plot': <gensim.models.keyedvectors.Vocab at 0x1ff0973ceb8>,\n",
       " 'deceptively': <gensim.models.keyedvectors.Vocab at 0x1ff0973cd68>,\n",
       " 'simple': <gensim.models.keyedvectors.Vocab at 0x1ff0973ce80>,\n",
       " 'george': <gensim.models.keyedvectors.Vocab at 0x1ff09738198>,\n",
       " 'washington': <gensim.models.keyedvectors.Vocab at 0x1ff097382b0>,\n",
       " 'carver': <gensim.models.keyedvectors.Vocab at 0x1ff09739198>,\n",
       " 'student': <gensim.models.keyedvectors.Vocab at 0x1ff097367b8>,\n",
       " 'election': <gensim.models.keyedvectors.Vocab at 0x1ff09736ac8>,\n",
       " 'tracy': <gensim.models.keyedvectors.Vocab at 0x1ff09736470>,\n",
       " 'flick': <gensim.models.keyedvectors.Vocab at 0x1ff09736208>,\n",
       " 'over-achiever': <gensim.models.keyedvectors.Vocab at 0x1ff09735080>,\n",
       " 'hand': <gensim.models.keyedvectors.Vocab at 0x1ff09735390>,\n",
       " 'raised': <gensim.models.keyedvectors.Vocab at 0x1ff097359b0>,\n",
       " 'way': <gensim.models.keyedvectors.Vocab at 0x1ff0972f908>,\n",
       " 'mr': <gensim.models.keyedvectors.Vocab at 0x1ff0972fc88>,\n",
       " 'sick': <gensim.models.keyedvectors.Vocab at 0x1ff097306d8>,\n",
       " 'megalomaniac': <gensim.models.keyedvectors.Vocab at 0x1ff09730240>,\n",
       " 'encourages': <gensim.models.keyedvectors.Vocab at 0x1ff097306a0>,\n",
       " 'paul': <gensim.models.keyedvectors.Vocab at 0x1ff0972afd0>,\n",
       " 'popular-but-slow': <gensim.models.keyedvectors.Vocab at 0x1ff0972c240>,\n",
       " 'jock': <gensim.models.keyedvectors.Vocab at 0x1ff09729f98>,\n",
       " 'run': <gensim.models.keyedvectors.Vocab at 0x1ff09725a58>,\n",
       " 'nihilistic': <gensim.models.keyedvectors.Vocab at 0x1ff097251d0>,\n",
       " 'sister': <gensim.models.keyedvectors.Vocab at 0x1ff09724470>,\n",
       " 'jump': <gensim.models.keyedvectors.Vocab at 0x1ff097225c0>,\n",
       " 'race': <gensim.models.keyedvectors.Vocab at 0x1ff0971ec18>,\n",
       " 'personal': <gensim.models.keyedvectors.Vocab at 0x1ff097219e8>,\n",
       " 'side': <gensim.models.keyedvectors.Vocab at 0x1ff0971a9e8>,\n",
       " 'sleeper': <gensim.models.keyedvectors.Vocab at 0x1ff0971a438>,\n",
       " 'expectation': <gensim.models.keyedvectors.Vocab at 0x1ff0971a9b0>,\n",
       " 'low': <gensim.models.keyedvectors.Vocab at 0x1ff0971bf28>,\n",
       " 'going': <gensim.models.keyedvectors.Vocab at 0x1ff09713320>,\n",
       " 'fact': <gensim.models.keyedvectors.Vocab at 0x1ff097104a8>,\n",
       " 'quality': <gensim.models.keyedvectors.Vocab at 0x1ff09710f28>,\n",
       " 'stuff': <gensim.models.keyedvectors.Vocab at 0x1ff09716b38>,\n",
       " 'review': <gensim.models.keyedvectors.Vocab at 0x1ff0970def0>,\n",
       " 'enthusiastic': <gensim.models.keyedvectors.Vocab at 0x1ff0970d630>,\n",
       " 'right': <gensim.models.keyedvectors.Vocab at 0x1ff09718c50>,\n",
       " 'help': <gensim.models.keyedvectors.Vocab at 0x1ff09718f28>,\n",
       " 'baggage': <gensim.models.keyedvectors.Vocab at 0x1ff09718080>,\n",
       " 'glowing': <gensim.models.keyedvectors.Vocab at 0x1ff097081d0>,\n",
       " 'contrast': <gensim.models.keyedvectors.Vocab at 0x1ff0970cf98>,\n",
       " 'negative': <gensim.models.keyedvectors.Vocab at 0x1ff0970c550>,\n",
       " 'reviewer': <gensim.models.keyedvectors.Vocab at 0x1ff0970cb70>,\n",
       " 'likely': <gensim.models.keyedvectors.Vocab at 0x1ff09704208>,\n",
       " 'live': <gensim.models.keyedvectors.Vocab at 0x1ff09704a90>,\n",
       " 'hype': <gensim.models.keyedvectors.Vocab at 0x1ff09704a58>,\n",
       " '_election_': <gensim.models.keyedvectors.Vocab at 0x1ff09702048>,\n",
       " 'disappointing': <gensim.models.keyedvectors.Vocab at 0x1ff09702780>,\n",
       " 'contains': <gensim.models.keyedvectors.Vocab at 0x1ff097027f0>,\n",
       " 'significant': <gensim.models.keyedvectors.Vocab at 0x1ff09705f98>,\n",
       " 'detail': <gensim.models.keyedvectors.Vocab at 0x1ff09705f60>,\n",
       " 'lifted': <gensim.models.keyedvectors.Vocab at 0x1ff096fe400>,\n",
       " 'directly': <gensim.models.keyedvectors.Vocab at 0x1ff096fe470>,\n",
       " '_rushmore_': <gensim.models.keyedvectors.Vocab at 0x1ff096fe3c8>,\n",
       " 'released': <gensim.models.keyedvectors.Vocab at 0x1ff096fdcc0>,\n",
       " 'month': <gensim.models.keyedvectors.Vocab at 0x1ff096fd710>,\n",
       " 'earlier': <gensim.models.keyedvectors.Vocab at 0x1ff096f9128>,\n",
       " 'similarity': <gensim.models.keyedvectors.Vocab at 0x1ff096f5c18>,\n",
       " 'staggering': <gensim.models.keyedvectors.Vocab at 0x1ff096f4630>,\n",
       " 'president': <gensim.models.keyedvectors.Vocab at 0x1ff096f1780>,\n",
       " 'extraordinary': <gensim.models.keyedvectors.Vocab at 0x1ff096f1048>,\n",
       " 'number': <gensim.models.keyedvectors.Vocab at 0x1ff096f0358>,\n",
       " 'club': <gensim.models.keyedvectors.Vocab at 0x1ff096efb38>,\n",
       " 'involved': <gensim.models.keyedvectors.Vocab at 0x1ff096ef518>,\n",
       " 'play': <gensim.models.keyedvectors.Vocab at 0x1ff096ef438>,\n",
       " 'max': <gensim.models.keyedvectors.Vocab at 0x1ff096ec240>,\n",
       " 'fischer': <gensim.models.keyedvectors.Vocab at 0x1ff096eceb8>,\n",
       " 'tension': <gensim.models.keyedvectors.Vocab at 0x1ff096ee940>,\n",
       " 'potential': <gensim.models.keyedvectors.Vocab at 0x1ff096e7be0>,\n",
       " 'relationship': <gensim.models.keyedvectors.Vocab at 0x1ff096e7588>,\n",
       " 'teacher': <gensim.models.keyedvectors.Vocab at 0x1ff096e7ef0>,\n",
       " 'single': <gensim.models.keyedvectors.Vocab at 0x1ff096e9630>,\n",
       " 'parent': <gensim.models.keyedvectors.Vocab at 0x1ff096e9668>,\n",
       " 'home': <gensim.models.keyedvectors.Vocab at 0x1ff096e40b8>,\n",
       " 'contributed': <gensim.models.keyedvectors.Vocab at 0x1ff096dfbe0>,\n",
       " 'drive': <gensim.models.keyedvectors.Vocab at 0x1ff096e2e48>,\n",
       " 'male': <gensim.models.keyedvectors.Vocab at 0x1ff096e1550>,\n",
       " 'bumbling': <gensim.models.keyedvectors.Vocab at 0x1ff096e1be0>,\n",
       " 'adult': <gensim.models.keyedvectors.Vocab at 0x1ff096e1400>,\n",
       " 'pursues': <gensim.models.keyedvectors.Vocab at 0x1ff096e1b00>,\n",
       " 'extramarital': <gensim.models.keyedvectors.Vocab at 0x1ff096d9940>,\n",
       " 'affair': <gensim.models.keyedvectors.Vocab at 0x1ff096d6f28>,\n",
       " 'caught': <gensim.models.keyedvectors.Vocab at 0x1ff096d4c18>,\n",
       " 'life': <gensim.models.keyedvectors.Vocab at 0x1ff096d4358>,\n",
       " 'ruined': <gensim.models.keyedvectors.Vocab at 0x1ff096d23c8>,\n",
       " 'bee': <gensim.models.keyedvectors.Vocab at 0x1ff096cfa90>,\n",
       " 'sting': <gensim.models.keyedvectors.Vocab at 0x1ff096ce400>,\n",
       " 'bill': <gensim.models.keyedvectors.Vocab at 0x1ff096c75f8>,\n",
       " 'murray': <gensim.models.keyedvectors.Vocab at 0x1ff096ca0f0>,\n",
       " 'several': <gensim.models.keyedvectors.Vocab at 0x1ff096ca668>,\n",
       " 'happened': <gensim.models.keyedvectors.Vocab at 0x1ff096ca358>,\n",
       " 'individual': <gensim.models.keyedvectors.Vocab at 0x1ff096c2898>,\n",
       " 'screenplay': <gensim.models.keyedvectors.Vocab at 0x1ff096c1f28>,\n",
       " 'contain': <gensim.models.keyedvectors.Vocab at 0x1ff096c1470>,\n",
       " 'many': <gensim.models.keyedvectors.Vocab at 0x1ff096be048>,\n",
       " 'yet': <gensim.models.keyedvectors.Vocab at 0x1ff096bf5c0>,\n",
       " 'probably': <gensim.models.keyedvectors.Vocab at 0x1ff096ba438>,\n",
       " 'aware': <gensim.models.keyedvectors.Vocab at 0x1ff096ba8d0>,\n",
       " 'two': <gensim.models.keyedvectors.Vocab at 0x1ff096bd748>,\n",
       " 'different': <gensim.models.keyedvectors.Vocab at 0x1ff096bc198>,\n",
       " 'genre': <gensim.models.keyedvectors.Vocab at 0x1ff096bcbe0>,\n",
       " 'geek': <gensim.models.keyedvectors.Vocab at 0x1ff096b6898>,\n",
       " 'revenge': <gensim.models.keyedvectors.Vocab at 0x1ff096b4860>,\n",
       " 'fully': <gensim.models.keyedvectors.Vocab at 0x1ff096b0cf8>,\n",
       " 'formed': <gensim.models.keyedvectors.Vocab at 0x1ff096b0c88>,\n",
       " 'strength': <gensim.models.keyedvectors.Vocab at 0x1ff096b0cc0>,\n",
       " 'rely': <gensim.models.keyedvectors.Vocab at 0x1ff096b0d30>,\n",
       " 'fantastic': <gensim.models.keyedvectors.Vocab at 0x1ff096b2eb8>,\n",
       " 'newcomer': <gensim.models.keyedvectors.Vocab at 0x1ff096b2f28>,\n",
       " 'jessica': <gensim.models.keyedvectors.Vocab at 0x1ff096b2cc0>,\n",
       " 'anti-social': <gensim.models.keyedvectors.Vocab at 0x1ff096a9048>,\n",
       " 'tammy': <gensim.models.keyedvectors.Vocab at 0x1ff096a90f0>,\n",
       " 'playing': <gensim.models.keyedvectors.Vocab at 0x1ff096aecc0>,\n",
       " 'rooney': <gensim.models.keyedvectors.Vocab at 0x1ff096a3c50>,\n",
       " '_ferris': <gensim.models.keyedvectors.Vocab at 0x1ff096a3b00>,\n",
       " 'bueller_': <gensim.models.keyedvectors.Vocab at 0x1ff0969f7b8>,\n",
       " 'fun': <gensim.models.keyedvectors.Vocab at 0x1ff0969f710>,\n",
       " 'he': <gensim.models.keyedvectors.Vocab at 0x1ff0969d9e8>,\n",
       " 'since': <gensim.models.keyedvectors.Vocab at 0x1ff0969d0b8>,\n",
       " 'revelation': <gensim.models.keyedvectors.Vocab at 0x1ff0969d3c8>,\n",
       " 'early': <gensim.models.keyedvectors.Vocab at 0x1ff0969ae80>,\n",
       " 'year': <gensim.models.keyedvectors.Vocab at 0x1ff0969a518>,\n",
       " 'teenager': <gensim.models.keyedvectors.Vocab at 0x1ff0969aeb8>,\n",
       " 'clout': <gensim.models.keyedvectors.Vocab at 0x1ff0969c908>,\n",
       " 'money': <gensim.models.keyedvectors.Vocab at 0x1ff0969c828>,\n",
       " 'deserves': <gensim.models.keyedvectors.Vocab at 0x1ff0969c0b8>,\n",
       " 'nomination': <gensim.models.keyedvectors.Vocab at 0x1ff09696eb8>,\n",
       " 'speech': <gensim.models.keyedvectors.Vocab at 0x1ff09698f60>,\n",
       " 'gymnasium': <gensim.models.keyedvectors.Vocab at 0x1ff096982e8>,\n",
       " 'bothering': <gensim.models.keyedvectors.Vocab at 0x1ff09698630>,\n",
       " 'i': <gensim.models.keyedvectors.Vocab at 0x1ff09695cf8>,\n",
       " \"'ve\": <gensim.models.keyedvectors.Vocab at 0x1ff09692198>,\n",
       " 'seen': <gensim.models.keyedvectors.Vocab at 0x1ff09693630>,\n",
       " 'suppose': <gensim.models.keyedvectors.Vocab at 0x1ff096930f0>,\n",
       " 'coming': <gensim.models.keyedvectors.Vocab at 0x1ff09691780>,\n",
       " 'expect': <gensim.models.keyedvectors.Vocab at 0x1ff09690a58>,\n",
       " 'start': <gensim.models.keyedvectors.Vocab at 0x1ff09690470>,\n",
       " 'light': <gensim.models.keyedvectors.Vocab at 0x1ff0968c898>,\n",
       " 'airy': <gensim.models.keyedvectors.Vocab at 0x1ff0968ef98>,\n",
       " 'sitcom': <gensim.models.keyedvectors.Vocab at 0x1ff0968ecf8>,\n",
       " 'screw': <gensim.models.keyedvectors.Vocab at 0x1ff0968df98>,\n",
       " 'tighten': <gensim.models.keyedvectors.Vocab at 0x1ff0968d898>,\n",
       " 'mount': <gensim.models.keyedvectors.Vocab at 0x1ff0968d860>,\n",
       " 'alexander': <gensim.models.keyedvectors.Vocab at 0x1ff09689358>,\n",
       " 'payne': <gensim.models.keyedvectors.Vocab at 0x1ff0968aba8>,\n",
       " 'decides': <gensim.models.keyedvectors.Vocab at 0x1ff09683e48>,\n",
       " 'add': <gensim.models.keyedvectors.Vocab at 0x1ff096832b0>,\n",
       " 'element': <gensim.models.keyedvectors.Vocab at 0x1ff09684048>,\n",
       " 'frankly': <gensim.models.keyedvectors.Vocab at 0x1ff09684940>,\n",
       " 'distract': <gensim.models.keyedvectors.Vocab at 0x1ff0967f160>,\n",
       " 'story': <gensim.models.keyedvectors.Vocab at 0x1ff09682898>,\n",
       " 'determination': <gensim.models.keyedvectors.Vocab at 0x1ff09681d30>,\n",
       " 'win': <gensim.models.keyedvectors.Vocab at 0x1ff0967c6a0>,\n",
       " 'cost': <gensim.models.keyedvectors.Vocab at 0x1ff0967c9b0>,\n",
       " 'throw': <gensim.models.keyedvectors.Vocab at 0x1ff09678c88>,\n",
       " 'student/teacher': <gensim.models.keyedvectors.Vocab at 0x1ff096717f0>,\n",
       " 'logical': <gensim.models.keyedvectors.Vocab at 0x1ff096709e8>,\n",
       " 'lot': <gensim.models.keyedvectors.Vocab at 0x1ff096708d0>,\n",
       " 'tonal': <gensim.models.keyedvectors.Vocab at 0x1ff09670be0>,\n",
       " 'nosedive': <gensim.models.keyedvectors.Vocab at 0x1ff096700b8>,\n",
       " 'take': <gensim.models.keyedvectors.Vocab at 0x1ff0966e438>,\n",
       " 'explicitly': <gensim.models.keyedvectors.Vocab at 0x1ff0966d080>,\n",
       " 'sex-driven': <gensim.models.keyedvectors.Vocab at 0x1ff0966bfd0>,\n",
       " 'mark': <gensim.models.keyedvectors.Vocab at 0x1ff0966bf28>,\n",
       " 'disappointment': <gensim.models.keyedvectors.Vocab at 0x1ff0966b898>,\n",
       " 'got': <gensim.models.keyedvectors.Vocab at 0x1ff09667f60>,\n",
       " 'mail': <gensim.models.keyedvectors.Vocab at 0x1ff09669898>,\n",
       " 'work': <gensim.models.keyedvectors.Vocab at 0x1ff09669470>,\n",
       " 'alot': <gensim.models.keyedvectors.Vocab at 0x1ff096657b8>,\n",
       " 'order': <gensim.models.keyedvectors.Vocab at 0x1ff09666cf8>,\n",
       " 'cast': <gensim.models.keyedvectors.Vocab at 0x1ff096669e8>,\n",
       " 'extremely': <gensim.models.keyedvectors.Vocab at 0x1ff09666828>,\n",
       " 'popular': <gensim.models.keyedvectors.Vocab at 0x1ff09666128>,\n",
       " 'attractive': <gensim.models.keyedvectors.Vocab at 0x1ff09660668>,\n",
       " 'share': <gensim.models.keyedvectors.Vocab at 0x1ff09662a90>,\n",
       " 'screen': <gensim.models.keyedvectors.Vocab at 0x1ff096627b8>,\n",
       " 'hour': <gensim.models.keyedvectors.Vocab at 0x1ff09661eb8>,\n",
       " 'collect': <gensim.models.keyedvectors.Vocab at 0x1ff0965e438>,\n",
       " 'profit': <gensim.models.keyedvectors.Vocab at 0x1ff0965e9e8>,\n",
       " 'real': <gensim.models.keyedvectors.Vocab at 0x1ff0965e4a8>,\n",
       " 'inventive': <gensim.models.keyedvectors.Vocab at 0x1ff0965e550>,\n",
       " 'bone': <gensim.models.keyedvectors.Vocab at 0x1ff0965eb38>,\n",
       " 'body': <gensim.models.keyedvectors.Vocab at 0x1ff0965e208>,\n",
       " 'basically': <gensim.models.keyedvectors.Vocab at 0x1ff0965e978>,\n",
       " 'complete': <gensim.models.keyedvectors.Vocab at 0x1ff0965e470>,\n",
       " 're-shoot': <gensim.models.keyedvectors.Vocab at 0x1ff0965e588>,\n",
       " 'shop': <gensim.models.keyedvectors.Vocab at 0x1ff0965eac8>,\n",
       " 'around': <gensim.models.keyedvectors.Vocab at 0x1ff0965e668>,\n",
       " 'corner': <gensim.models.keyedvectors.Vocab at 0x1ff0965e518>,\n",
       " 'adding': <gensim.models.keyedvectors.Vocab at 0x1ff0965e2b0>,\n",
       " 'modern': <gensim.models.keyedvectors.Vocab at 0x1ff0965eb70>,\n",
       " 'twist': <gensim.models.keyedvectors.Vocab at 0x1ff0965e748>,\n",
       " 'essentially': <gensim.models.keyedvectors.Vocab at 0x1ff0965e898>,\n",
       " 'defies': <gensim.models.keyedvectors.Vocab at 0x1ff0965e400>,\n",
       " 'concept': <gensim.models.keyedvectors.Vocab at 0x1ff0965e4e0>,\n",
       " 'contemporary': <gensim.models.keyedvectors.Vocab at 0x1ff0965e1d0>,\n",
       " 'filmmaking': <gensim.models.keyedvectors.Vocab at 0x1ff0965e2e8>,\n",
       " 'overly': <gensim.models.keyedvectors.Vocab at 0x1ff0965e358>,\n",
       " 'sentimental': <gensim.models.keyedvectors.Vocab at 0x1ff0965e908>,\n",
       " 'terribly': <gensim.models.keyedvectors.Vocab at 0x1ff0965eba8>,\n",
       " 'mushy': <gensim.models.keyedvectors.Vocab at 0x1ff09659940>,\n",
       " 'mention': <gensim.models.keyedvectors.Vocab at 0x1ff0965ca20>,\n",
       " 'manipulative': <gensim.models.keyedvectors.Vocab at 0x1ff0965cba8>,\n",
       " 'oh': <gensim.models.keyedvectors.Vocab at 0x1ff0965c748>,\n",
       " 'enjoyable': <gensim.models.keyedvectors.Vocab at 0x1ff09655e10>,\n",
       " 'manipulation': <gensim.models.keyedvectors.Vocab at 0x1ff09655cc0>,\n",
       " 'must': <gensim.models.keyedvectors.Vocab at 0x1ff096556d8>,\n",
       " 'something': <gensim.models.keyedvectors.Vocab at 0x1ff09658198>,\n",
       " 'absolutely': <gensim.models.keyedvectors.Vocab at 0x1ff09650dd8>,\n",
       " 'hated': <gensim.models.keyedvectors.Vocab at 0x1ff0964ae80>,\n",
       " 'previous': <gensim.models.keyedvectors.Vocab at 0x1ff0964e828>,\n",
       " 'ryan/hanks': <gensim.models.keyedvectors.Vocab at 0x1ff0964ca58>,\n",
       " 'teaming': <gensim.models.keyedvectors.Vocab at 0x1ff09647518>,\n",
       " 'sleepless': <gensim.models.keyedvectors.Vocab at 0x1ff09648828>,\n",
       " 'seattle': <gensim.models.keyedvectors.Vocab at 0x1ff09648ef0>,\n",
       " 'directing': <gensim.models.keyedvectors.Vocab at 0x1ff09648ba8>,\n",
       " 'helmed': <gensim.models.keyedvectors.Vocab at 0x1ff096456a0>,\n",
       " 'woman': <gensim.models.keyedvectors.Vocab at 0x1ff09645c50>,\n",
       " 'quite': <gensim.models.keyedvectors.Vocab at 0x1ff09642400>,\n",
       " 'figured': <gensim.models.keyedvectors.Vocab at 0x1ff096426d8>,\n",
       " 'liked': <gensim.models.keyedvectors.Vocab at 0x1ff09642358>,\n",
       " 'important': <gensim.models.keyedvectors.Vocab at 0x1ff096406a0>,\n",
       " 'storyline': <gensim.models.keyedvectors.Vocab at 0x1ff09643898>,\n",
       " 'cliched': <gensim.models.keyedvectors.Vocab at 0x1ff0963bb70>,\n",
       " 'tom': <gensim.models.keyedvectors.Vocab at 0x1ff0963a5c0>,\n",
       " 'hank': <gensim.models.keyedvectors.Vocab at 0x1ff0963ac88>,\n",
       " 'fox': <gensim.models.keyedvectors.Vocab at 0x1ff0963a9e8>,\n",
       " 'insanely': <gensim.models.keyedvectors.Vocab at 0x1ff0962ffd0>,\n",
       " 'likeable': <gensim.models.keyedvectors.Vocab at 0x1ff09630da0>,\n",
       " 'owner': <gensim.models.keyedvectors.Vocab at 0x1ff0962eb00>,\n",
       " 'discount': <gensim.models.keyedvectors.Vocab at 0x1ff0962e828>,\n",
       " 'chain': <gensim.models.keyedvectors.Vocab at 0x1ff0962e048>,\n",
       " 'meg': <gensim.models.keyedvectors.Vocab at 0x1ff0962b630>,\n",
       " 'ryan': <gensim.models.keyedvectors.Vocab at 0x1ff0962c828>,\n",
       " 'kathleen': <gensim.models.keyedvectors.Vocab at 0x1ff09629898>,\n",
       " 'kelley': <gensim.models.keyedvectors.Vocab at 0x1ff096282e8>,\n",
       " 'proprietor': <gensim.models.keyedvectors.Vocab at 0x1ff09627c50>,\n",
       " 'family-run': <gensim.models.keyedvectors.Vocab at 0x1ff09627588>,\n",
       " 'nice': <gensim.models.keyedvectors.Vocab at 0x1ff09626400>,\n",
       " 'homage': <gensim.models.keyedvectors.Vocab at 0x1ff096237f0>,\n",
       " 'soon': <gensim.models.keyedvectors.Vocab at 0x1ff096237b8>,\n",
       " 'become': <gensim.models.keyedvectors.Vocab at 0x1ff096222e8>,\n",
       " 'bitter': <gensim.models.keyedvectors.Vocab at 0x1ff0961ca58>,\n",
       " 'rival': <gensim.models.keyedvectors.Vocab at 0x1ff0961f0b8>,\n",
       " 'store': <gensim.models.keyedvectors.Vocab at 0x1ff0961db70>,\n",
       " 'opening': <gensim.models.keyedvectors.Vocab at 0x1ff09618f98>,\n",
       " 'across': <gensim.models.keyedvectors.Vocab at 0x1ff09618080>,\n",
       " 'small': <gensim.models.keyedvectors.Vocab at 0x1ff09613da0>,\n",
       " 'business': <gensim.models.keyedvectors.Vocab at 0x1ff09615b00>,\n",
       " 'already': <gensim.models.keyedvectors.Vocab at 0x1ff09611fd0>,\n",
       " 'internet': <gensim.models.keyedvectors.Vocab at 0x1ff0960b048>,\n",
       " 'neither': <gensim.models.keyedvectors.Vocab at 0x1ff096074e0>,\n",
       " 'party': <gensim.models.keyedvectors.Vocab at 0x1ff096042b0>,\n",
       " 'person': <gensim.models.keyedvectors.Vocab at 0x1ff096049e8>,\n",
       " 'true': <gensim.models.keyedvectors.Vocab at 0x1ff09604ba8>,\n",
       " 'rest': <gensim.models.keyedvectors.Vocab at 0x1ff09601198>,\n",
       " 'serve': <gensim.models.keyedvectors.Vocab at 0x1ff09601fd0>,\n",
       " 'mere': <gensim.models.keyedvectors.Vocab at 0x1ff09601e10>,\n",
       " 'backdrop': <gensim.models.keyedvectors.Vocab at 0x1ff09603d30>,\n",
       " 'sure': <gensim.models.keyedvectors.Vocab at 0x1ff09600978>,\n",
       " 'mildly': <gensim.models.keyedvectors.Vocab at 0x1ff09600470>,\n",
       " 'subplots': <gensim.models.keyedvectors.Vocab at 0x1ff095ff4a8>,\n",
       " 'fail': <gensim.models.keyedvectors.Vocab at 0x1ff095ff128>,\n",
       " 'utter': <gensim.models.keyedvectors.Vocab at 0x1ff095fc518>,\n",
       " 'cuteness': <gensim.models.keyedvectors.Vocab at 0x1ff095fcef0>,\n",
       " 'main': <gensim.models.keyedvectors.Vocab at 0x1ff095fdfd0>,\n",
       " 'lead': <gensim.models.keyedvectors.Vocab at 0x1ff095fd048>,\n",
       " 'predictable': <gensim.models.keyedvectors.Vocab at 0x1ff095fd940>,\n",
       " 'climax': <gensim.models.keyedvectors.Vocab at 0x1ff095fbef0>,\n",
       " 'foreseeable': <gensim.models.keyedvectors.Vocab at 0x1ff095fb240>,\n",
       " 'damn': <gensim.models.keyedvectors.Vocab at 0x1ff095fb0b8>,\n",
       " 'cute': <gensim.models.keyedvectors.Vocab at 0x1ff095fbda0>,\n",
       " 'well-done': <gensim.models.keyedvectors.Vocab at 0x1ff095fb2b0>,\n",
       " 'doubt': <gensim.models.keyedvectors.Vocab at 0x1ff095f6f98>,\n",
       " 'entire': <gensim.models.keyedvectors.Vocab at 0x1ff095f1cf8>,\n",
       " 'evokes': <gensim.models.keyedvectors.Vocab at 0x1ff095f16a0>,\n",
       " 'pure': <gensim.models.keyedvectors.Vocab at 0x1ff095f22b0>,\n",
       " 'joy': <gensim.models.keyedvectors.Vocab at 0x1ff095f2198>,\n",
       " 'part': <gensim.models.keyedvectors.Vocab at 0x1ff095eebe0>,\n",
       " 'discovers': <gensim.models.keyedvectors.Vocab at 0x1ff095eee48>,\n",
       " 'online': <gensim.models.keyedvectors.Vocab at 0x1ff095ee748>,\n",
       " 'filled': <gensim.models.keyedvectors.Vocab at 0x1ff095e9c18>,\n",
       " 'lack': <gensim.models.keyedvectors.Vocab at 0x1ff095e8978>,\n",
       " 'happiness': <gensim.models.keyedvectors.Vocab at 0x1ff095e5f28>,\n",
       " 'left': <gensim.models.keyedvectors.Vocab at 0x1ff095e5e10>,\n",
       " 'theater': <gensim.models.keyedvectors.Vocab at 0x1ff095e28d0>,\n",
       " 'smiling': <gensim.models.keyedvectors.Vocab at 0x1ff095e22e8>,\n",
       " 'jaw': <gensim.models.keyedvectors.Vocab at 0x1ff095e2b38>,\n",
       " 'rare': <gensim.models.keyedvectors.Vocab at 0x1ff095e4d30>,\n",
       " 'grab': <gensim.models.keyedvectors.Vocab at 0x1ff095e4630>,\n",
       " 'attention': <gensim.models.keyedvectors.Vocab at 0x1ff095e1278>,\n",
       " 'show': <gensim.models.keyedvectors.Vocab at 0x1ff095e1198>,\n",
       " 'image': <gensim.models.keyedvectors.Vocab at 0x1ff095dea90>,\n",
       " 'open': <gensim.models.keyedvectors.Vocab at 0x1ff095de7f0>,\n",
       " 'blackness': <gensim.models.keyedvectors.Vocab at 0x1ff095e03c8>,\n",
       " 'distant': <gensim.models.keyedvectors.Vocab at 0x1ff095e04a8>,\n",
       " 'alien-like': <gensim.models.keyedvectors.Vocab at 0x1ff095e0ef0>,\n",
       " 'underwater': <gensim.models.keyedvectors.Vocab at 0x1ff095e01d0>,\n",
       " 'sound': <gensim.models.keyedvectors.Vocab at 0x1ff095e0b00>,\n",
       " 'ominous': <gensim.models.keyedvectors.Vocab at 0x1ff095dcef0>,\n",
       " 'bar': <gensim.models.keyedvectors.Vocab at 0x1ff095dd4e0>,\n",
       " 'composer': <gensim.models.keyedvectors.Vocab at 0x1ff095ddc50>,\n",
       " 'john': <gensim.models.keyedvectors.Vocab at 0x1ff095dd048>,\n",
       " 'williams': <gensim.models.keyedvectors.Vocab at 0x1ff095db160>,\n",
       " 'infamous': <gensim.models.keyedvectors.Vocab at 0x1ff095d7b00>,\n",
       " 'score': <gensim.models.keyedvectors.Vocab at 0x1ff095d7ba8>,\n",
       " 'dah-dum': <gensim.models.keyedvectors.Vocab at 0x1ff095d7c50>,\n",
       " 'steven': <gensim.models.keyedvectors.Vocab at 0x1ff095d7f98>,\n",
       " 'spielberg': <gensim.models.keyedvectors.Vocab at 0x1ff095d8518>,\n",
       " 'waste': <gensim.models.keyedvectors.Vocab at 0x1ff095d6f60>,\n",
       " 'taking': <gensim.models.keyedvectors.Vocab at 0x1ff095d4438>,\n",
       " 'u': <gensim.models.keyedvectors.Vocab at 0x1ff095d4f60>,\n",
       " 'water': <gensim.models.keyedvectors.Vocab at 0x1ff095d3898>,\n",
       " 'midnight': <gensim.models.keyedvectors.Vocab at 0x1ff095d28d0>,\n",
       " 'swim': <gensim.models.keyedvectors.Vocab at 0x1ff095cbe10>,\n",
       " 'beautiful': <gensim.models.keyedvectors.Vocab at 0x1ff095cd208>,\n",
       " 'girl': <gensim.models.keyedvectors.Vocab at 0x1ff095cd358>,\n",
       " 'deadly': <gensim.models.keyedvectors.Vocab at 0x1ff095cdda0>,\n",
       " 'away': <gensim.models.keyedvectors.Vocab at 0x1ff095cdbe0>,\n",
       " 'let': <gensim.models.keyedvectors.Vocab at 0x1ff095c8f98>,\n",
       " 'vulnerable': <gensim.models.keyedvectors.Vocab at 0x1ff095c80b8>,\n",
       " 'floating': <gensim.models.keyedvectors.Vocab at 0x1ff095bf908>,\n",
       " 'ocean': <gensim.models.keyedvectors.Vocab at 0x1ff095bf940>,\n",
       " 'attacked': <gensim.models.keyedvectors.Vocab at 0x1ff095c3550>,\n",
       " 'relinquishes': <gensim.models.keyedvectors.Vocab at 0x1ff095c3f28>,\n",
       " 'grip': <gensim.models.keyedvectors.Vocab at 0x1ff095c1a90>,\n",
       " 'outstanding': <gensim.models.keyedvectors.Vocab at 0x1ff095c2a20>,\n",
       " 'build': <gensim.models.keyedvectors.Vocab at 0x1ff095c2630>,\n",
       " 'theatrical': <gensim.models.keyedvectors.Vocab at 0x1ff095bea20>,\n",
       " 'second': <gensim.models.keyedvectors.Vocab at 0x1ff095beef0>,\n",
       " 'unlike': <gensim.models.keyedvectors.Vocab at 0x1ff095be080>,\n",
       " 'filmmaker': <gensim.models.keyedvectors.Vocab at 0x1ff095bdef0>,\n",
       " 'deal': <gensim.models.keyedvectors.Vocab at 0x1ff095bdc18>,\n",
       " 'restraint': <gensim.models.keyedvectors.Vocab at 0x1ff095b7f60>,\n",
       " 'refuse': <gensim.models.keyedvectors.Vocab at 0x1ff095ba710>,\n",
       " 'shark': <gensim.models.keyedvectors.Vocab at 0x1ff095b9588>,\n",
       " 'middle': <gensim.models.keyedvectors.Vocab at 0x1ff095b9b70>,\n",
       " 'merely': <gensim.models.keyedvectors.Vocab at 0x1ff095bb198>,\n",
       " 'suggests': <gensim.models.keyedvectors.Vocab at 0x1ff095bb668>,\n",
       " 'presence': <gensim.models.keyedvectors.Vocab at 0x1ff095b6748>,\n",
       " 'subjective': <gensim.models.keyedvectors.Vocab at 0x1ff095b1f60>,\n",
       " 'shot': <gensim.models.keyedvectors.Vocab at 0x1ff095b1b00>,\n",
       " 'building': <gensim.models.keyedvectors.Vocab at 0x1ff095b1e10>,\n",
       " 'bit': <gensim.models.keyedvectors.Vocab at 0x1ff095b1eb8>,\n",
       " 'arrival': <gensim.models.keyedvectors.Vocab at 0x1ff095b2e48>,\n",
       " 'truly': <gensim.models.keyedvectors.Vocab at 0x1ff095aee48>,\n",
       " 'terrifying': <gensim.models.keyedvectors.Vocab at 0x1ff095aea20>,\n",
       " 'bored': <gensim.models.keyedvectors.Vocab at 0x1ff095aeb00>,\n",
       " 'imagery': <gensim.models.keyedvectors.Vocab at 0x1ff095ae198>,\n",
       " 'chief': <gensim.models.keyedvectors.Vocab at 0x1ff095a90f0>,\n",
       " 'brody': <gensim.models.keyedvectors.Vocab at 0x1ff095a9e10>,\n",
       " 'roy': <gensim.models.keyedvectors.Vocab at 0x1ff095a8438>,\n",
       " 'scheider': <gensim.models.keyedvectors.Vocab at 0x1ff095a63c8>,\n",
       " 'york': <gensim.models.keyedvectors.Vocab at 0x1ff095a6320>,\n",
       " 'cop': <gensim.models.keyedvectors.Vocab at 0x1ff095a57b8>,\n",
       " 'taken': <gensim.models.keyedvectors.Vocab at 0x1ff095a5eb8>,\n",
       " 'easy': <gensim.models.keyedvectors.Vocab at 0x1ff095a2390>,\n",
       " 'peaceful': <gensim.models.keyedvectors.Vocab at 0x1ff095a2470>,\n",
       " 'running': <gensim.models.keyedvectors.Vocab at 0x1ff095a4ef0>,\n",
       " 'station': <gensim.models.keyedvectors.Vocab at 0x1ff095a4400>,\n",
       " 'amity': <gensim.models.keyedvectors.Vocab at 0x1ff09598eb8>,\n",
       " 'island': <gensim.models.keyedvectors.Vocab at 0x1ff0959afd0>,\n",
       " 'fictitious': <gensim.models.keyedvectors.Vocab at 0x1ff095990f0>,\n",
       " 'england': <gensim.models.keyedvectors.Vocab at 0x1ff0959c1d0>,\n",
       " 'resort': <gensim.models.keyedvectors.Vocab at 0x1ff095972e8>,\n",
       " 'town': <gensim.models.keyedvectors.Vocab at 0x1ff09595a20>,\n",
       " 'murder': <gensim.models.keyedvectors.Vocab at 0x1ff09594320>,\n",
       " 'gun': <gensim.models.keyedvectors.Vocab at 0x1ff09593fd0>,\n",
       " 'fired': <gensim.models.keyedvectors.Vocab at 0x1ff09588048>,\n",
       " '25': <gensim.models.keyedvectors.Vocab at 0x1ff09587240>,\n",
       " 'shaken': <gensim.models.keyedvectors.Vocab at 0x1ff09582400>,\n",
       " 'vicious': <gensim.models.keyedvectors.Vocab at 0x1ff095800f0>,\n",
       " 'white': <gensim.models.keyedvectors.Vocab at 0x1ff0957e860>,\n",
       " 'attack': <gensim.models.keyedvectors.Vocab at 0x1ff0957a358>,\n",
       " 'fourth': <gensim.models.keyedvectors.Vocab at 0x1ff0957a2e8>,\n",
       " 'july': <gensim.models.keyedvectors.Vocab at 0x1ff0957d080>,\n",
       " 'mayor': <gensim.models.keyedvectors.Vocab at 0x1ff0957d630>,\n",
       " 'larry': <gensim.models.keyedvectors.Vocab at 0x1ff0957b710>,\n",
       " 'vaughn': <gensim.models.keyedvectors.Vocab at 0x1ff0957bd68>,\n",
       " 'hamilton': <gensim.models.keyedvectors.Vocab at 0x1ff09574fd0>,\n",
       " 'want': <gensim.models.keyedvectors.Vocab at 0x1ff095765f8>,\n",
       " 'shut': <gensim.models.keyedvectors.Vocab at 0x1ff095766a0>,\n",
       " 'beach': <gensim.models.keyedvectors.Vocab at 0x1ff095766d8>,\n",
       " 'reliant': <gensim.models.keyedvectors.Vocab at 0x1ff095719e8>,\n",
       " 'summer': <gensim.models.keyedvectors.Vocab at 0x1ff095719b0>,\n",
       " 'tourist': <gensim.models.keyedvectors.Vocab at 0x1ff09571f28>,\n",
       " 'joined': <gensim.models.keyedvectors.Vocab at 0x1ff09571978>,\n",
       " 'matt': <gensim.models.keyedvectors.Vocab at 0x1ff095706a0>,\n",
       " 'hooper': <gensim.models.keyedvectors.Vocab at 0x1ff09570a20>,\n",
       " 'richard': <gensim.models.keyedvectors.Vocab at 0x1ff09570390>,\n",
       " 'dreyfus': <gensim.models.keyedvectors.Vocab at 0x1ff09570e48>,\n",
       " 'young': <gensim.models.keyedvectors.Vocab at 0x1ff095656d8>,\n",
       " 'ambitious': <gensim.models.keyedvectors.Vocab at 0x1ff0955f710>,\n",
       " 'expert': <gensim.models.keyedvectors.Vocab at 0x1ff0955fb38>,\n",
       " 'marine': <gensim.models.keyedvectors.Vocab at 0x1ff0955e940>,\n",
       " 'institute': <gensim.models.keyedvectors.Vocab at 0x1ff0955e1d0>,\n",
       " 'fascinated': <gensim.models.keyedvectors.Vocab at 0x1ff0955e4a8>,\n",
       " 'determined': <gensim.models.keyedvectors.Vocab at 0x1ff095612e8>,\n",
       " 'stop': <gensim.models.keyedvectors.Vocab at 0x1ff095616d8>,\n",
       " '--': <gensim.models.keyedvectors.Vocab at 0x1ff09562240>,\n",
       " 'knowledge': <gensim.models.keyedvectors.Vocab at 0x1ff09562278>,\n",
       " 'exact': <gensim.models.keyedvectors.Vocab at 0x1ff0955c7f0>,\n",
       " 'working': <gensim.models.keyedvectors.Vocab at 0x1ff0955acc0>,\n",
       " 'perfect': <gensim.models.keyedvectors.Vocab at 0x1ff0955aef0>,\n",
       " 'engine': <gensim.models.keyedvectors.Vocab at 0x1ff09554a90>,\n",
       " 'eating': <gensim.models.keyedvectors.Vocab at 0x1ff09556080>,\n",
       " 'machine': <gensim.models.keyedvectors.Vocab at 0x1ff09553be0>,\n",
       " 'finally': <gensim.models.keyedvectors.Vocab at 0x1ff09552400>,\n",
       " 'relents': <gensim.models.keyedvectors.Vocab at 0x1ff0954f5f8>,\n",
       " 'join': <gensim.models.keyedvectors.Vocab at 0x1ff09551c50>,\n",
       " 'crusty': <gensim.models.keyedvectors.Vocab at 0x1ff0954d4e0>,\n",
       " 'old': <gensim.models.keyedvectors.Vocab at 0x1ff0954ba20>,\n",
       " 'quint': <gensim.models.keyedvectors.Vocab at 0x1ff0954beb8>,\n",
       " 'robert': <gensim.models.keyedvectors.Vocab at 0x1ff09547ac8>,\n",
       " 'shaw': <gensim.models.keyedvectors.Vocab at 0x1ff0954a438>,\n",
       " 'decrepit': <gensim.models.keyedvectors.Vocab at 0x1ff09549b00>,\n",
       " 'boat': <gensim.models.keyedvectors.Vocab at 0x1ff095452e8>,\n",
       " 'orca': <gensim.models.keyedvectors.Vocab at 0x1ff09544ef0>,\n",
       " 'search': <gensim.models.keyedvectors.Vocab at 0x1ff09544b00>,\n",
       " 'three': <gensim.models.keyedvectors.Vocab at 0x1ff094cd7f0>,\n",
       " 'men': <gensim.models.keyedvectors.Vocab at 0x1ff094cd518>,\n",
       " 'hunt': <gensim.models.keyedvectors.Vocab at 0x1ff094c21d0>,\n",
       " 'inevitably': <gensim.models.keyedvectors.Vocab at 0x1ff094c2208>,\n",
       " 'hunted': <gensim.models.keyedvectors.Vocab at 0x1ff094c9ba8>,\n",
       " 'thriller': <gensim.models.keyedvectors.Vocab at 0x1ff094c49e8>,\n",
       " 'keen': <gensim.models.keyedvectors.Vocab at 0x1ff094c4a58>,\n",
       " 'humor': <gensim.models.keyedvectors.Vocab at 0x1ff094c5320>,\n",
       " 'incredible': <gensim.models.keyedvectors.Vocab at 0x1ff094c7978>,\n",
       " 'pacing': <gensim.models.keyedvectors.Vocab at 0x1ff094c7d30>,\n",
       " 'horror': <gensim.models.keyedvectors.Vocab at 0x1ff094c7940>,\n",
       " 'ten': <gensim.models.keyedvectors.Vocab at 0x1ff094cada0>,\n",
       " 'rolled': <gensim.models.keyedvectors.Vocab at 0x1ff094beb70>,\n",
       " 'wonder': <gensim.models.keyedvectors.Vocab at 0x1ff094bc7f0>,\n",
       " 'took': <gensim.models.keyedvectors.Vocab at 0x1ff094bcc50>,\n",
       " 'america': <gensim.models.keyedvectors.Vocab at 0x1ff094bc128>,\n",
       " 'storm': <gensim.models.keyedvectors.Vocab at 0x1ff094bcc88>,\n",
       " '1975': <gensim.models.keyedvectors.Vocab at 0x1ff094bbc50>,\n",
       " 'crown': <gensim.models.keyedvectors.Vocab at 0x1ff094bb048>,\n",
       " 'box': <gensim.models.keyedvectors.Vocab at 0x1ff094b5940>,\n",
       " 'office': <gensim.models.keyedvectors.Vocab at 0x1ff094b5898>,\n",
       " 'champ': <gensim.models.keyedvectors.Vocab at 0x1ff094b4358>,\n",
       " 'unceremoniously': <gensim.models.keyedvectors.Vocab at 0x1ff094b0320>,\n",
       " 'dethroned': <gensim.models.keyedvectors.Vocab at 0x1ff094b0978>,\n",
       " '1977': <gensim.models.keyedvectors.Vocab at 0x1ff094b0a58>,\n",
       " 'war': <gensim.models.keyedvectors.Vocab at 0x1ff094b08d0>,\n",
       " 'today': <gensim.models.keyedvectors.Vocab at 0x1ff094b0a20>,\n",
       " 'fascination': <gensim.models.keyedvectors.Vocab at 0x1ff094aec88>,\n",
       " 'par': <gensim.models.keyedvectors.Vocab at 0x1ff094aa2e8>,\n",
       " 'hitchcock': <gensim.models.keyedvectors.Vocab at 0x1ff094ac0f0>,\n",
       " 'psycho': <gensim.models.keyedvectors.Vocab at 0x1ff094a8240>,\n",
       " 'age': <gensim.models.keyedvectors.Vocab at 0x1ff094a8438>,\n",
       " 'although': <gensim.models.keyedvectors.Vocab at 0x1ff094a8208>,\n",
       " 'grand': <gensim.models.keyedvectors.Vocab at 0x1ff094a6f60>,\n",
       " 'technology': <gensim.models.keyedvectors.Vocab at 0x1ff094a6ef0>,\n",
       " 'exists': <gensim.models.keyedvectors.Vocab at 0x1ff094a6cf8>,\n",
       " 'technical': <gensim.models.keyedvectors.Vocab at 0x1ff094a6160>,\n",
       " 'sequence': <gensim.models.keyedvectors.Vocab at 0x1ff094a61d0>,\n",
       " 'including': <gensim.models.keyedvectors.Vocab at 0x1ff094a6208>,\n",
       " 'mechanical': <gensim.models.keyedvectors.Vocab at 0x1ff094a6240>,\n",
       " 'obsolete': <gensim.models.keyedvectors.Vocab at 0x1ff094a60b8>,\n",
       " 'none': <gensim.models.keyedvectors.Vocab at 0x1ff094a1da0>,\n",
       " 'improve': <gensim.models.keyedvectors.Vocab at 0x1ff094a29b0>,\n",
       " 'overkill': <gensim.models.keyedvectors.Vocab at 0x1ff094a28d0>,\n",
       " 'limitation': <gensim.models.keyedvectors.Vocab at 0x1ff094a44a8>,\n",
       " 'faced': <gensim.models.keyedvectors.Vocab at 0x1ff094a54e0>,\n",
       " 'may': <gensim.models.keyedvectors.Vocab at 0x1ff0949cb38>,\n",
       " 'produced': <gensim.models.keyedvectors.Vocab at 0x1ff0949d320>,\n",
       " 'forced': <gensim.models.keyedvectors.Vocab at 0x1ff0949dc50>,\n",
       " 'traditional': <gensim.models.keyedvectors.Vocab at 0x1ff0949be80>,\n",
       " 'cinematic': <gensim.models.keyedvectors.Vocab at 0x1ff0949ba58>,\n",
       " 'characterization': <gensim.models.keyedvectors.Vocab at 0x1ff0949aba8>,\n",
       " 'sharp': <gensim.models.keyedvectors.Vocab at 0x1ff0949a198>,\n",
       " 'editing': <gensim.models.keyedvectors.Vocab at 0x1ff0949aa58>,\n",
       " 'creative': <gensim.models.keyedvectors.Vocab at 0x1ff09497a58>,\n",
       " 'photography': <gensim.models.keyedvectors.Vocab at 0x1ff09497828>,\n",
       " 'instead': <gensim.models.keyedvectors.Vocab at 0x1ff09494860>,\n",
       " 'simply': <gensim.models.keyedvectors.Vocab at 0x1ff09494d68>,\n",
       " 'dousing': <gensim.models.keyedvectors.Vocab at 0x1ff094942e8>,\n",
       " 'audience': <gensim.models.keyedvectors.Vocab at 0x1ff09494470>,\n",
       " 'digital': <gensim.models.keyedvectors.Vocab at 0x1ff09494160>,\n",
       " 'effect': <gensim.models.keyedvectors.Vocab at 0x1ff094947b8>,\n",
       " 'known': <gensim.models.keyedvectors.Vocab at 0x1ff0948fb38>,\n",
       " 'actor': <gensim.models.keyedvectors.Vocab at 0x1ff0948e6d8>,\n",
       " 'draw': <gensim.models.keyedvectors.Vocab at 0x1ff0948e0b8>,\n",
       " 'redford': <gensim.models.keyedvectors.Vocab at 0x1ff09488b00>,\n",
       " 'newman': <gensim.models.keyedvectors.Vocab at 0x1ff0948c710>,\n",
       " 'nevertheless': <gensim.models.keyedvectors.Vocab at 0x1ff0948c780>,\n",
       " 'guaranteed': <gensim.models.keyedvectors.Vocab at 0x1ff0948cfd0>,\n",
       " 'successful': <gensim.models.keyedvectors.Vocab at 0x1ff0948a9e8>,\n",
       " 'career': <gensim.models.keyedvectors.Vocab at 0x1ff09484c88>,\n",
       " 'gave': <gensim.models.keyedvectors.Vocab at 0x1ff09487f28>,\n",
       " 'refused': <gensim.models.keyedvectors.Vocab at 0x1ff09487e80>,\n",
       " 'overshadowed': <gensim.models.keyedvectors.Vocab at 0x1ff09481898>,\n",
       " 'hit': <gensim.models.keyedvectors.Vocab at 0x1ff09482fd0>,\n",
       " 'note': <gensim.models.keyedvectors.Vocab at 0x1ff094826d8>,\n",
       " 'sympathetic': <gensim.models.keyedvectors.Vocab at 0x1ff09482940>,\n",
       " 'husband': <gensim.models.keyedvectors.Vocab at 0x1ff09482c88>,\n",
       " 'father': <gensim.models.keyedvectors.Vocab at 0x1ff0947de80>,\n",
       " 'political': <gensim.models.keyedvectors.Vocab at 0x1ff09479f98>,\n",
       " 'quagmire': <gensim.models.keyedvectors.Vocab at 0x1ff0947ce48>,\n",
       " 'what': <gensim.models.keyedvectors.Vocab at 0x1ff0947c2e8>,\n",
       " 'warns': <gensim.models.keyedvectors.Vocab at 0x1ff094765c0>,\n",
       " 'previously': <gensim.models.keyedvectors.Vocab at 0x1ff09478ac8>,\n",
       " 'american': <gensim.models.keyedvectors.Vocab at 0x1ff09475710>,\n",
       " 'graffiti': <gensim.models.keyedvectors.Vocab at 0x1ff09472898>,\n",
       " '1973': <gensim.models.keyedvectors.Vocab at 0x1ff09473160>,\n",
       " 'apprenticeship': <gensim.models.keyedvectors.Vocab at 0x1ff09473828>,\n",
       " 'duddy': <gensim.models.keyedvectors.Vocab at 0x1ff09473ac8>,\n",
       " 'kravitz': <gensim.models.keyedvectors.Vocab at 0x1ff094737f0>,\n",
       " '1974': <gensim.models.keyedvectors.Vocab at 0x1ff094706d8>,\n",
       " 'give': <gensim.models.keyedvectors.Vocab at 0x1ff0946d438>,\n",
       " 'surprisingly': <gensim.models.keyedvectors.Vocab at 0x1ff0946d470>,\n",
       " 'mature': <gensim.models.keyedvectors.Vocab at 0x1ff0946d4a8>,\n",
       " 'complex': <gensim.models.keyedvectors.Vocab at 0x1ff09471d30>,\n",
       " 'someone': <gensim.models.keyedvectors.Vocab at 0x1ff09471e48>,\n",
       " 'literally': <gensim.models.keyedvectors.Vocab at 0x1ff09471d68>,\n",
       " 'played': <gensim.models.keyedvectors.Vocab at 0x1ff094717b8>,\n",
       " 'gnarled': <gensim.models.keyedvectors.Vocab at 0x1ff09471978>,\n",
       " 'captain': <gensim.models.keyedvectors.Vocab at 0x1ff0946bc88>,\n",
       " 'ahab': <gensim.models.keyedvectors.Vocab at 0x1ff0946bba8>,\n",
       " 'sorely': <gensim.models.keyedvectors.Vocab at 0x1ff09466860>,\n",
       " 'overlooked': <gensim.models.keyedvectors.Vocab at 0x1ff09466c88>,\n",
       " 'academy': <gensim.models.keyedvectors.Vocab at 0x1ff094690b8>,\n",
       " 'award': <gensim.models.keyedvectors.Vocab at 0x1ff09469358>,\n",
       " 'bordering': <gensim.models.keyedvectors.Vocab at 0x1ff094614a8>,\n",
       " 'parody': <gensim.models.keyedvectors.Vocab at 0x1ff09463438>,\n",
       " 'grizzled': <gensim.models.keyedvectors.Vocab at 0x1ff094636d8>,\n",
       " 'loner': <gensim.models.keyedvectors.Vocab at 0x1ff094599b0>,\n",
       " 'whose': <gensim.models.keyedvectors.Vocab at 0x1ff0945db00>,\n",
       " 'machismo': <gensim.models.keyedvectors.Vocab at 0x1ff0945d6d8>,\n",
       " 'border': <gensim.models.keyedvectors.Vocab at 0x1ff094574a8>,\n",
       " 'masochism': <gensim.models.keyedvectors.Vocab at 0x1ff09457710>,\n",
       " 'slightly': <gensim.models.keyedvectors.Vocab at 0x1ff09458128>,\n",
       " 'deranged': <gensim.models.keyedvectors.Vocab at 0x1ff094580f0>,\n",
       " 'caricature': <gensim.models.keyedvectors.Vocab at 0x1ff094582b0>,\n",
       " 'late': <gensim.models.keyedvectors.Vocab at 0x1ff09455a90>,\n",
       " 'deck': <gensim.models.keyedvectors.Vocab at 0x1ff0944f080>,\n",
       " 'comparing': <gensim.models.keyedvectors.Vocab at 0x1ff0944da58>,\n",
       " 'scar': <gensim.models.keyedvectors.Vocab at 0x1ff0944d0b8>,\n",
       " 'drawn': <gensim.models.keyedvectors.Vocab at 0x1ff094484a8>,\n",
       " 'telling': <gensim.models.keyedvectors.Vocab at 0x1ff09447fd0>,\n",
       " 'experience': <gensim.models.keyedvectors.Vocab at 0x1ff0944aa90>,\n",
       " 'aboard': <gensim.models.keyedvectors.Vocab at 0x1ff0944aba8>,\n",
       " 'indianapolis': <gensim.models.keyedvectors.Vocab at 0x1ff0944a9b0>,\n",
       " 'navy': <gensim.models.keyedvectors.Vocab at 0x1ff0944ad68>,\n",
       " 'ship': <gensim.models.keyedvectors.Vocab at 0x1ff0944a198>,\n",
       " 'sunk': <gensim.models.keyedvectors.Vocab at 0x1ff0944cb38>,\n",
       " 'japanese': <gensim.models.keyedvectors.Vocab at 0x1ff0944c470>,\n",
       " 'tale': <gensim.models.keyedvectors.Vocab at 0x1ff09446550>,\n",
       " '1': <gensim.models.keyedvectors.Vocab at 0x1ff094464e0>,\n",
       " '000': <gensim.models.keyedvectors.Vocab at 0x1ff0943e588>,\n",
       " 'swarm': <gensim.models.keyedvectors.Vocab at 0x1ff09437320>,\n",
       " 'slowly': <gensim.models.keyedvectors.Vocab at 0x1ff09435fd0>,\n",
       " 'devoured': <gensim.models.keyedvectors.Vocab at 0x1ff09439d30>,\n",
       " 'hair-raising': <gensim.models.keyedvectors.Vocab at 0x1ff094396d8>,\n",
       " 'put': <gensim.models.keyedvectors.Vocab at 0x1ff09439eb8>,\n",
       " 'delivers': <gensim.models.keyedvectors.Vocab at 0x1ff09439c88>,\n",
       " 'best': <gensim.models.keyedvectors.Vocab at 0x1ff09439e80>,\n",
       " 'leave': <gensim.models.keyedvectors.Vocab at 0x1ff09433e48>,\n",
       " 'black': <gensim.models.keyedvectors.Vocab at 0x1ff0942bcf8>,\n",
       " 'eye': <gensim.models.keyedvectors.Vocab at 0x1ff09425e10>,\n",
       " 'endless': <gensim.models.keyedvectors.Vocab at 0x1ff09427080>,\n",
       " 'row': <gensim.models.keyedvectors.Vocab at 0x1ff0942ac50>,\n",
       " 'teeth': <gensim.models.keyedvectors.Vocab at 0x1ff0942a4e0>,\n",
       " 'insatiable': <gensim.models.keyedvectors.Vocab at 0x1ff09426a58>,\n",
       " 'urge': <gensim.models.keyedvectors.Vocab at 0x1ff09424240>,\n",
       " 'eat': <gensim.models.keyedvectors.Vocab at 0x1ff09424c18>,\n",
       " 'epitome': <gensim.models.keyedvectors.Vocab at 0x1ff09421be0>,\n",
       " 'mankind': <gensim.models.keyedvectors.Vocab at 0x1ff094237b8>,\n",
       " 'fear': <gensim.models.keyedvectors.Vocab at 0x1ff09423080>,\n",
       " 'unknown': <gensim.models.keyedvectors.Vocab at 0x1ff094207f0>,\n",
       " 'threatening': <gensim.models.keyedvectors.Vocab at 0x1ff09420128>,\n",
       " 'nature': <gensim.models.keyedvectors.Vocab at 0x1ff0941d780>,\n",
       " 'nemesis': <gensim.models.keyedvectors.Vocab at 0x1ff0941d470>,\n",
       " 'survived': <gensim.models.keyedvectors.Vocab at 0x1ff0941cef0>,\n",
       " 'sinch': <gensim.models.keyedvectors.Vocab at 0x1ff094197b8>,\n",
       " 'dinosaur': <gensim.models.keyedvectors.Vocab at 0x1ff09419f28>,\n",
       " 'exist': <gensim.models.keyedvectors.Vocab at 0x1ff0941bdd8>,\n",
       " 'large': <gensim.models.keyedvectors.Vocab at 0x1ff0941bcc0>,\n",
       " 'threat': <gensim.models.keyedvectors.Vocab at 0x1ff0941bd30>,\n",
       " 'feel': <gensim.models.keyedvectors.Vocab at 0x1ff09412da0>,\n",
       " 'queasy': <gensim.models.keyedvectors.Vocab at 0x1ff09411f28>,\n",
       " 'bunch': <gensim.models.keyedvectors.Vocab at 0x1ff09411da0>,\n",
       " 'writihing': <gensim.models.keyedvectors.Vocab at 0x1ff09411b70>,\n",
       " 'dangling': <gensim.models.keyedvectors.Vocab at 0x1ff0940c908>,\n",
       " 'unprotected': <gensim.models.keyedvectors.Vocab at 0x1ff094079b0>,\n",
       " 'leg': <gensim.models.keyedvectors.Vocab at 0x1ff09409f28>,\n",
       " 'ready': <gensim.models.keyedvectors.Vocab at 0x1ff09408438>,\n",
       " 'chomped': <gensim.models.keyedvectors.Vocab at 0x1ff09408518>,\n",
       " 'combination': <gensim.models.keyedvectors.Vocab at 0x1ff09402c18>,\n",
       " 'actual': <gensim.models.keyedvectors.Vocab at 0x1ff09402f60>,\n",
       " 'footage': <gensim.models.keyedvectors.Vocab at 0x1ff09402e80>,\n",
       " 'five': <gensim.models.keyedvectors.Vocab at 0x1ff09403c88>,\n",
       " 'nicknamed': <gensim.models.keyedvectors.Vocab at 0x1ff09403a20>,\n",
       " 'bruce': <gensim.models.keyedvectors.Vocab at 0x1ff09403a58>,\n",
       " 'crew': <gensim.models.keyedvectors.Vocab at 0x1ff09405a20>,\n",
       " 'built': <gensim.models.keyedvectors.Vocab at 0x1ff094050f0>,\n",
       " 'angle': <gensim.models.keyedvectors.Vocab at 0x1ff09405da0>,\n",
       " 'forgotten': <gensim.models.keyedvectors.Vocab at 0x1ff09405c18>,\n",
       " 'sort': <gensim.models.keyedvectors.Vocab at 0x1ff09405160>,\n",
       " 'precursor': <gensim.models.keyedvectors.Vocab at 0x1ff09405128>,\n",
       " 'waterworld': <gensim.models.keyedvectors.Vocab at 0x1ff093f9358>,\n",
       " '1995': <gensim.models.keyedvectors.Vocab at 0x1ff093f9b70>,\n",
       " 'soggy': <gensim.models.keyedvectors.Vocab at 0x1ff093f8048>,\n",
       " 'overrun': <gensim.models.keyedvectors.Vocab at 0x1ff093fb2e8>,\n",
       " 'universal': <gensim.models.keyedvectors.Vocab at 0x1ff093fb940>,\n",
       " 'worried': <gensim.models.keyedvectors.Vocab at 0x1ff093fbda0>,\n",
       " 'bomb': <gensim.models.keyedvectors.Vocab at 0x1ff093fba58>,\n",
       " 'overcame': <gensim.models.keyedvectors.Vocab at 0x1ff093fb9e8>,\n",
       " 'obstacle': <gensim.models.keyedvectors.Vocab at 0x1ff093fb080>,\n",
       " 'delivered': <gensim.models.keyedvectors.Vocab at 0x1ff093fbac8>,\n",
       " 'finest': <gensim.models.keyedvectors.Vocab at 0x1ff093f6b00>,\n",
       " 'primal': <gensim.models.keyedvectors.Vocab at 0x1ff093f6588>,\n",
       " 'scare-thrillers': <gensim.models.keyedvectors.Vocab at 0x1ff093fc780>,\n",
       " 'ever': <gensim.models.keyedvectors.Vocab at 0x1ff093fcef0>,\n",
       " 'hollywood': <gensim.models.keyedvectors.Vocab at 0x1ff093f5748>,\n",
       " 'moviemaking': <gensim.models.keyedvectors.Vocab at 0x1ff093f5630>,\n",
       " 'general': <gensim.models.keyedvectors.Vocab at 0x1ff093f00b8>,\n",
       " 'manager': <gensim.models.keyedvectors.Vocab at 0x1ff093ef3c8>,\n",
       " 'nfl': <gensim.models.keyedvectors.Vocab at 0x1ff093ef278>,\n",
       " 'team': <gensim.models.keyedvectors.Vocab at 0x1ff093ef588>,\n",
       " 'post-salary': <gensim.models.keyedvectors.Vocab at 0x1ff093efa58>,\n",
       " 'cap': <gensim.models.keyedvectors.Vocab at 0x1ff093f1550>,\n",
       " 'era': <gensim.models.keyedvectors.Vocab at 0x1ff093f1da0>,\n",
       " 'allocate': <gensim.models.keyedvectors.Vocab at 0x1ff093ec748>,\n",
       " 'resource': <gensim.models.keyedvectors.Vocab at 0x1ff093eb400>,\n",
       " 'dollar': <gensim.models.keyedvectors.Vocab at 0x1ff093eb978>,\n",
       " 'spent': <gensim.models.keyedvectors.Vocab at 0x1ff093e9d68>,\n",
       " 'free-agent': <gensim.models.keyedvectors.Vocab at 0x1ff093e9da0>,\n",
       " 'defensive': <gensim.models.keyedvectors.Vocab at 0x1ff093e94e0>,\n",
       " 'tackle': <gensim.models.keyedvectors.Vocab at 0x1ff093e9048>,\n",
       " 'spend': <gensim.models.keyedvectors.Vocab at 0x1ff093e92b0>,\n",
       " ...}"
      ]
     },
     "execution_count": 166,
     "metadata": {},
     "output_type": "execute_result"
    }
   ],
   "source": [
    "model.wv.vocab"
   ]
  },
  {
   "cell_type": "code",
   "execution_count": 167,
   "metadata": {
    "scrolled": true
   },
   "outputs": [
    {
     "data": {
      "text/plain": [
       "[('sequence', 0.9612606763839722),\n",
       " ('well-staged', 0.9388300180435181),\n",
       " ('moment', 0.9352037310600281),\n",
       " ('scene', 0.9273322820663452),\n",
       " ('apologizing', 0.9258326292037964),\n",
       " ('f/x', 0.9220998287200928),\n",
       " ('exciting', 0.9162151217460632),\n",
       " ('jaw-dropping', 0.9144666194915771),\n",
       " ('intrinsic', 0.9123554229736328),\n",
       " ('advancing', 0.9112062454223633)]"
      ]
     },
     "execution_count": 167,
     "metadata": {},
     "output_type": "execute_result"
    }
   ],
   "source": [
    "model.most_similar('action')"
   ]
  },
  {
   "cell_type": "code",
   "execution_count": 168,
   "metadata": {
    "scrolled": true
   },
   "outputs": [
    {
     "data": {
      "text/plain": [
       "0.9027507083478372"
      ]
     },
     "execution_count": 168,
     "metadata": {},
     "output_type": "execute_result"
    }
   ],
   "source": [
    "model.similarity('speilberg', 'visuals')"
   ]
  },
  {
   "cell_type": "markdown",
   "metadata": {},
   "source": [
    "## Adding other text features:"
   ]
  },
  {
   "cell_type": "markdown",
   "metadata": {},
   "source": [
    "## Improving Text Classification Models\n",
    "While the above framework can be applied to a number of text classification problems, but to achieve a good accuracy some improvements can be done in the overall framework. For example, following are some tips to improve the performance of text classification models and this framework.\n",
    "\n",
    "1. Text Cleaning : text cleaning can help to reducue the noise present in text data in the form of stopwords, punctuations marks, suffix variations etc. This article can help to understand how to implement text classification in detail.\n",
    "\n",
    "2. Hstacking Text / NLP features with text feature vectors : In the feature engineering section, we generated a number of different feature vectros, combining them together can help to improve the accuracy of the classifier.\n",
    "\n",
    "3. Hyperparamter Tuning in modelling : Tuning the paramters is an important step, a number of parameters such as tree length, leafs, network paramters etc can be fine tuned to get a best fit model.\n",
    "\n",
    "4. Ensemble Models : Stacking different models and blending their outputs can help to further improve the results. Read more about ensemble models here\n",
    "\n",
    "5. [Guide to solve most NLP problems](https://blog.insightdatascience.com/how-to-solve-90-of-nlp-problems-a-step-by-step-guide-fda605278e4e)"
   ]
  },
  {
   "cell_type": "markdown",
   "metadata": {},
   "source": [
    "## Solve a problem!\n",
    "\n",
    "__Quora Insincere Questions classification: https://www.kaggle.com/c/quora-insincere-questions-classification__\n",
    "- Quora is a platform that empowers people to learn from each other. \n",
    "- On Quora, people can ask questions and connect with others who contribute unique insights and quality answers. \n",
    "- A key challenge is to weed out insincere questions -- those founded upon false premises, or that intend to make a statement rather than look for helpful answers."
   ]
  }
 ],
 "metadata": {
  "kernelspec": {
   "display_name": "Python 3",
   "language": "python",
   "name": "python3"
  },
  "language_info": {
   "codemirror_mode": {
    "name": "ipython",
    "version": 3
   },
   "file_extension": ".py",
   "mimetype": "text/x-python",
   "name": "python",
   "nbconvert_exporter": "python",
   "pygments_lexer": "ipython3",
   "version": "3.6.4"
  },
  "toc": {
   "base_numbering": 1,
   "nav_menu": {
    "height": "532px",
    "width": "198px"
   },
   "number_sections": true,
   "sideBar": false,
   "skip_h1_title": false,
   "title_cell": "Table of Contents",
   "title_sidebar": "Contents",
   "toc_cell": true,
   "toc_position": {},
   "toc_section_display": true,
   "toc_window_display": false
  }
 },
 "nbformat": 4,
 "nbformat_minor": 2
}
